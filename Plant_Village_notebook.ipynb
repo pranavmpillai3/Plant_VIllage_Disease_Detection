{
 "cells": [
  {
   "cell_type": "code",
   "execution_count": 1,
   "id": "45d3dcce",
   "metadata": {
    "colab": {
     "base_uri": "https://localhost:8080/"
    },
    "id": "45d3dcce",
    "outputId": "ecef0b49-cecc-4113-8b75-a79d70467107"
   },
   "outputs": [
    {
     "name": "stdout",
     "output_type": "stream",
     "text": [
      "Mounted at /content/drive\n"
     ]
    }
   ],
   "source": [
    "# from google.colab import drive\n",
    "# drive.mount('/content/drive')"
   ]
  },
  {
   "cell_type": "code",
   "execution_count": 1,
   "id": "c2f12081",
   "metadata": {
    "colab": {
     "base_uri": "https://localhost:8080/",
     "height": 35
    },
    "id": "c2f12081",
    "outputId": "c189f02b-79c8-4b83-ab3c-aea076421bd3"
   },
   "outputs": [
    {
     "data": {
      "text/plain": [
       "'/Users/pranav/AIML/CV/MyProjects/Plant Village Object Detection/Yolo'"
      ]
     },
     "execution_count": 1,
     "metadata": {},
     "output_type": "execute_result"
    }
   ],
   "source": [
    "import os\n",
    "os.getcwd()"
   ]
  },
  {
   "cell_type": "code",
   "execution_count": 3,
   "id": "nf4UuXfH4quo",
   "metadata": {
    "colab": {
     "base_uri": "https://localhost:8080/",
     "height": 35
    },
    "id": "nf4UuXfH4quo",
    "outputId": "9e0ed522-6f4e-4832-b64e-6902169179ce"
   },
   "outputs": [
    {
     "data": {
      "application/vnd.google.colaboratory.intrinsic+json": {
       "type": "string"
      },
      "text/plain": [
       "'/content/drive/MyDrive/gdrive/Plant_Village'"
      ]
     },
     "execution_count": 3,
     "metadata": {},
     "output_type": "execute_result"
    }
   ],
   "source": [
    "os.chdir('/content/drive/MyDrive/gdrive/Plant_Village')\n",
    "os.getcwd()"
   ]
  },
  {
   "cell_type": "code",
   "execution_count": 4,
   "id": "8WGqvXCb45KX",
   "metadata": {
    "colab": {
     "base_uri": "https://localhost:8080/"
    },
    "id": "8WGqvXCb45KX",
    "outputId": "4e5e4a17-c70a-4853-cfa2-7058bfee27c0"
   },
   "outputs": [
    {
     "data": {
      "text/plain": [
       "[]"
      ]
     },
     "execution_count": 4,
     "metadata": {},
     "output_type": "execute_result"
    }
   ],
   "source": [
    "os.listdir()"
   ]
  },
  {
   "cell_type": "code",
   "execution_count": 5,
   "id": "nHP9Fs_Y4r9r",
   "metadata": {
    "id": "nHP9Fs_Y4r9r"
   },
   "outputs": [],
   "source": [
    "zip_path = '/content/drive/MyDrive/gdrive/Plant_Village_dataset.zip'"
   ]
  },
  {
   "cell_type": "code",
   "execution_count": 6,
   "id": "2Lvd8TXl4sAs",
   "metadata": {
    "colab": {
     "base_uri": "https://localhost:8080/"
    },
    "id": "2Lvd8TXl4sAs",
    "outputId": "12fd1ffb-99a1-4b8d-d1a8-7adc28aa688c"
   },
   "outputs": [
    {
     "name": "stdout",
     "output_type": "stream",
     "text": [
      "cp: missing destination file operand after 'zip_path'\n",
      "Try 'cp --help' for more information.\n"
     ]
    }
   ],
   "source": [
    "!cp {'zip_path'}"
   ]
  },
  {
   "cell_type": "code",
   "execution_count": 12,
   "id": "b8KeBPM_5zW8",
   "metadata": {
    "id": "b8KeBPM_5zW8"
   },
   "outputs": [],
   "source": [
    "!unzip -q '/content/drive/MyDrive/gdrive/Plant_Village_dataset.zip'"
   ]
  },
  {
   "cell_type": "code",
   "execution_count": 13,
   "id": "jLbv7pcm4sDL",
   "metadata": {
    "colab": {
     "base_uri": "https://localhost:8080/",
     "height": 35
    },
    "id": "jLbv7pcm4sDL",
    "outputId": "dcce0819-42e3-4a2e-dde3-4d5b990fbe2a"
   },
   "outputs": [
    {
     "data": {
      "application/vnd.google.colaboratory.intrinsic+json": {
       "type": "string"
      },
      "text/plain": [
       "'/content/drive/MyDrive/gdrive/Plant_Village/Plant_Village'"
      ]
     },
     "execution_count": 13,
     "metadata": {},
     "output_type": "execute_result"
    }
   ],
   "source": [
    "data = os.path.join(os.getcwd(), 'Plant_Village')\n",
    "data"
   ]
  },
  {
   "cell_type": "code",
   "execution_count": 1,
   "id": "OkjqEuK77lQK",
   "metadata": {
    "colab": {
     "base_uri": "https://localhost:8080/"
    },
    "id": "OkjqEuK77lQK",
    "outputId": "dfea6a8d-39b8-4312-aaef-a7c2d1e1d032"
   },
   "outputs": [
    {
     "name": "stdout",
     "output_type": "stream",
     "text": [
      "Requirement already satisfied: ultralytics in /Users/pranav/anaconda3/envs/myenv/lib/python3.11/site-packages (8.0.154)\n",
      "Requirement already satisfied: matplotlib>=3.2.2 in /Users/pranav/anaconda3/envs/myenv/lib/python3.11/site-packages (from ultralytics) (3.7.1)\n",
      "Requirement already satisfied: numpy>=1.22.2 in /Users/pranav/anaconda3/envs/myenv/lib/python3.11/site-packages (from ultralytics) (1.23.5)\n",
      "Requirement already satisfied: opencv-python>=4.6.0 in /Users/pranav/anaconda3/envs/myenv/lib/python3.11/site-packages (from ultralytics) (4.8.0.74)\n",
      "Requirement already satisfied: pillow>=7.1.2 in /Users/pranav/anaconda3/envs/myenv/lib/python3.11/site-packages (from ultralytics) (9.4.0)\n",
      "Requirement already satisfied: pyyaml>=5.3.1 in /Users/pranav/anaconda3/envs/myenv/lib/python3.11/site-packages (from ultralytics) (6.0)\n",
      "Requirement already satisfied: requests>=2.23.0 in /Users/pranav/anaconda3/envs/myenv/lib/python3.11/site-packages (from ultralytics) (2.31.0)\n",
      "Requirement already satisfied: scipy>=1.4.1 in /Users/pranav/anaconda3/envs/myenv/lib/python3.11/site-packages (from ultralytics) (1.10.1)\n",
      "Requirement already satisfied: torch>=1.8.0 in /Users/pranav/anaconda3/envs/myenv/lib/python3.11/site-packages (from ultralytics) (2.0.1)\n",
      "Requirement already satisfied: torchvision>=0.9.0 in /Users/pranav/anaconda3/envs/myenv/lib/python3.11/site-packages (from ultralytics) (0.15.2)\n",
      "Requirement already satisfied: tqdm>=4.64.0 in /Users/pranav/anaconda3/envs/myenv/lib/python3.11/site-packages (from ultralytics) (4.65.0)\n",
      "Requirement already satisfied: pandas>=1.1.4 in /Users/pranav/anaconda3/envs/myenv/lib/python3.11/site-packages (from ultralytics) (1.5.3)\n",
      "Requirement already satisfied: seaborn>=0.11.0 in /Users/pranav/anaconda3/envs/myenv/lib/python3.11/site-packages (from ultralytics) (0.12.2)\n",
      "Requirement already satisfied: psutil in /Users/pranav/anaconda3/envs/myenv/lib/python3.11/site-packages (from ultralytics) (5.9.0)\n",
      "Requirement already satisfied: py-cpuinfo in /Users/pranav/anaconda3/envs/myenv/lib/python3.11/site-packages (from ultralytics) (9.0.0)\n",
      "Requirement already satisfied: contourpy>=1.0.1 in /Users/pranav/anaconda3/envs/myenv/lib/python3.11/site-packages (from matplotlib>=3.2.2->ultralytics) (1.0.5)\n",
      "Requirement already satisfied: cycler>=0.10 in /Users/pranav/anaconda3/envs/myenv/lib/python3.11/site-packages (from matplotlib>=3.2.2->ultralytics) (0.11.0)\n",
      "Requirement already satisfied: fonttools>=4.22.0 in /Users/pranav/anaconda3/envs/myenv/lib/python3.11/site-packages (from matplotlib>=3.2.2->ultralytics) (4.25.0)\n",
      "Requirement already satisfied: kiwisolver>=1.0.1 in /Users/pranav/anaconda3/envs/myenv/lib/python3.11/site-packages (from matplotlib>=3.2.2->ultralytics) (1.4.4)\n",
      "Requirement already satisfied: packaging>=20.0 in /Users/pranav/anaconda3/envs/myenv/lib/python3.11/site-packages (from matplotlib>=3.2.2->ultralytics) (23.0)\n",
      "Requirement already satisfied: pyparsing>=2.3.1 in /Users/pranav/anaconda3/envs/myenv/lib/python3.11/site-packages (from matplotlib>=3.2.2->ultralytics) (3.0.9)\n",
      "Requirement already satisfied: python-dateutil>=2.7 in /Users/pranav/anaconda3/envs/myenv/lib/python3.11/site-packages (from matplotlib>=3.2.2->ultralytics) (2.8.2)\n",
      "Requirement already satisfied: pytz>=2020.1 in /Users/pranav/anaconda3/envs/myenv/lib/python3.11/site-packages (from pandas>=1.1.4->ultralytics) (2022.7)\n",
      "Requirement already satisfied: charset-normalizer<4,>=2 in /Users/pranav/anaconda3/envs/myenv/lib/python3.11/site-packages (from requests>=2.23.0->ultralytics) (2.0.4)\n",
      "Requirement already satisfied: idna<4,>=2.5 in /Users/pranav/anaconda3/envs/myenv/lib/python3.11/site-packages (from requests>=2.23.0->ultralytics) (3.4)\n",
      "Requirement already satisfied: urllib3<3,>=1.21.1 in /Users/pranav/anaconda3/envs/myenv/lib/python3.11/site-packages (from requests>=2.23.0->ultralytics) (1.26.16)\n",
      "Requirement already satisfied: certifi>=2017.4.17 in /Users/pranav/anaconda3/envs/myenv/lib/python3.11/site-packages (from requests>=2.23.0->ultralytics) (2023.7.22)\n",
      "Requirement already satisfied: filelock in /Users/pranav/anaconda3/envs/myenv/lib/python3.11/site-packages (from torch>=1.8.0->ultralytics) (3.9.0)\n",
      "Requirement already satisfied: typing-extensions in /Users/pranav/anaconda3/envs/myenv/lib/python3.11/site-packages (from torch>=1.8.0->ultralytics) (4.7.1)\n",
      "Requirement already satisfied: sympy in /Users/pranav/anaconda3/envs/myenv/lib/python3.11/site-packages (from torch>=1.8.0->ultralytics) (1.11.1)\n",
      "Requirement already satisfied: networkx in /Users/pranav/anaconda3/envs/myenv/lib/python3.11/site-packages (from torch>=1.8.0->ultralytics) (3.1)\n",
      "Requirement already satisfied: jinja2 in /Users/pranav/anaconda3/envs/myenv/lib/python3.11/site-packages (from torch>=1.8.0->ultralytics) (3.1.2)\n",
      "Requirement already satisfied: six>=1.5 in /Users/pranav/anaconda3/envs/myenv/lib/python3.11/site-packages (from python-dateutil>=2.7->matplotlib>=3.2.2->ultralytics) (1.16.0)\n",
      "Requirement already satisfied: MarkupSafe>=2.0 in /Users/pranav/anaconda3/envs/myenv/lib/python3.11/site-packages (from jinja2->torch>=1.8.0->ultralytics) (2.1.1)\n",
      "Requirement already satisfied: mpmath>=0.19 in /Users/pranav/anaconda3/envs/myenv/lib/python3.11/site-packages (from sympy->torch>=1.8.0->ultralytics) (1.3.0)\n"
     ]
    }
   ],
   "source": [
    "!pip install ultralytics"
   ]
  },
  {
   "cell_type": "code",
   "execution_count": 3,
   "id": "5XNFc4bq7lzu",
   "metadata": {
    "id": "5XNFc4bq7lzu"
   },
   "outputs": [],
   "source": [
    "from ultralytics import YOLO"
   ]
  },
  {
   "cell_type": "code",
   "execution_count": 21,
   "id": "jZP7nL7x7l2k",
   "metadata": {
    "id": "jZP7nL7x7l2k"
   },
   "outputs": [],
   "source": [
    "model = YOLO('yolov8s.pt')"
   ]
  },
  {
   "cell_type": "code",
   "execution_count": 22,
   "id": "6XJuZZsV-E-7",
   "metadata": {
    "colab": {
     "base_uri": "https://localhost:8080/"
    },
    "id": "6XJuZZsV-E-7",
    "outputId": "da070245-cc9b-4585-889a-73e07a2f1052"
   },
   "outputs": [
    {
     "data": {
      "text/plain": [
       "['data.yaml', 'test', 'train', 'valid', 'yolov8s.pt', 'yolov8n.pt']"
      ]
     },
     "execution_count": 22,
     "metadata": {},
     "output_type": "execute_result"
    }
   ],
   "source": [
    "os.listdir()"
   ]
  },
  {
   "cell_type": "code",
   "execution_count": 23,
   "id": "KkoTV2bB7l5b",
   "metadata": {
    "colab": {
     "base_uri": "https://localhost:8080/"
    },
    "id": "KkoTV2bB7l5b",
    "outputId": "28f0f684-dc00-4dbc-ea05-19adb2aa158c"
   },
   "outputs": [
    {
     "name": "stderr",
     "output_type": "stream",
     "text": [
      "Ultralytics YOLOv8.0.154 🚀 Python-3.10.12 torch-2.0.1+cu118 CUDA:0 (Tesla T4, 15102MiB)\n",
      "\u001b[34m\u001b[1mengine/trainer: \u001b[0mtask=detect, mode=train, model=yolov8s.pt, data=/content/drive/MyDrive/gdrive/Plant_Village/data.yaml, epochs=30, patience=50, batch=16, imgsz=640, save=True, save_period=-1, cache=False, device=None, workers=8, project=None, name=None, exist_ok=False, pretrained=True, optimizer=auto, verbose=True, seed=0, deterministic=True, single_cls=False, rect=False, cos_lr=False, close_mosaic=10, resume=False, amp=True, fraction=1.0, profile=False, freeze=None, overlap_mask=True, mask_ratio=4, dropout=0.0, val=True, split=val, save_json=False, save_hybrid=False, conf=None, iou=0.7, max_det=300, half=False, dnn=False, plots=True, source=None, show=False, save_txt=False, save_conf=False, save_crop=False, show_labels=True, show_conf=True, vid_stride=1, line_width=None, visualize=False, augment=False, agnostic_nms=False, classes=None, retina_masks=False, boxes=True, format=torchscript, keras=False, optimize=False, int8=False, dynamic=False, simplify=False, opset=None, workspace=4, nms=False, lr0=0.01, lrf=0.01, momentum=0.937, weight_decay=0.0005, warmup_epochs=3.0, warmup_momentum=0.8, warmup_bias_lr=0.1, box=7.5, cls=0.5, dfl=1.5, pose=12.0, kobj=1.0, label_smoothing=0.0, nbs=64, hsv_h=0.015, hsv_s=0.7, hsv_v=0.4, degrees=0.0, translate=0.1, scale=0.5, shear=0.0, perspective=0.0, flipud=0.0, fliplr=0.5, mosaic=1.0, mixup=0.0, copy_paste=0.0, cfg=None, tracker=botsort.yaml, save_dir=runs/detect/train\n",
      "Overriding model.yaml nc=80 with nc=30\n",
      "\n",
      "                   from  n    params  module                                       arguments                     \n",
      "  0                  -1  1       928  ultralytics.nn.modules.conv.Conv             [3, 32, 3, 2]                 \n",
      "  1                  -1  1     18560  ultralytics.nn.modules.conv.Conv             [32, 64, 3, 2]                \n",
      "  2                  -1  1     29056  ultralytics.nn.modules.block.C2f             [64, 64, 1, True]             \n",
      "  3                  -1  1     73984  ultralytics.nn.modules.conv.Conv             [64, 128, 3, 2]               \n",
      "  4                  -1  2    197632  ultralytics.nn.modules.block.C2f             [128, 128, 2, True]           \n",
      "  5                  -1  1    295424  ultralytics.nn.modules.conv.Conv             [128, 256, 3, 2]              \n",
      "  6                  -1  2    788480  ultralytics.nn.modules.block.C2f             [256, 256, 2, True]           \n",
      "  7                  -1  1   1180672  ultralytics.nn.modules.conv.Conv             [256, 512, 3, 2]              \n",
      "  8                  -1  1   1838080  ultralytics.nn.modules.block.C2f             [512, 512, 1, True]           \n",
      "  9                  -1  1    656896  ultralytics.nn.modules.block.SPPF            [512, 512, 5]                 \n",
      " 10                  -1  1         0  torch.nn.modules.upsampling.Upsample         [None, 2, 'nearest']          \n",
      " 11             [-1, 6]  1         0  ultralytics.nn.modules.conv.Concat           [1]                           \n",
      " 12                  -1  1    591360  ultralytics.nn.modules.block.C2f             [768, 256, 1]                 \n",
      " 13                  -1  1         0  torch.nn.modules.upsampling.Upsample         [None, 2, 'nearest']          \n",
      " 14             [-1, 4]  1         0  ultralytics.nn.modules.conv.Concat           [1]                           \n",
      " 15                  -1  1    148224  ultralytics.nn.modules.block.C2f             [384, 128, 1]                 \n",
      " 16                  -1  1    147712  ultralytics.nn.modules.conv.Conv             [128, 128, 3, 2]              \n",
      " 17            [-1, 12]  1         0  ultralytics.nn.modules.conv.Concat           [1]                           \n",
      " 18                  -1  1    493056  ultralytics.nn.modules.block.C2f             [384, 256, 1]                 \n",
      " 19                  -1  1    590336  ultralytics.nn.modules.conv.Conv             [256, 256, 3, 2]              \n",
      " 20             [-1, 9]  1         0  ultralytics.nn.modules.conv.Concat           [1]                           \n",
      " 21                  -1  1   1969152  ultralytics.nn.modules.block.C2f             [768, 512, 1]                 \n",
      " 22        [15, 18, 21]  1   2127658  ultralytics.nn.modules.head.Detect           [30, [128, 256, 512]]         \n",
      "Model summary: 225 layers, 11147210 parameters, 11147194 gradients\n",
      "\n",
      "Transferred 349/355 items from pretrained weights\n",
      "\u001b[34m\u001b[1mTensorBoard: \u001b[0mStart with 'tensorboard --logdir runs/detect/train', view at http://localhost:6006/\n",
      "Freezing layer 'model.22.dfl.conv.weight'\n",
      "\u001b[34m\u001b[1mAMP: \u001b[0mrunning Automatic Mixed Precision (AMP) checks with YOLOv8n...\n",
      "\u001b[34m\u001b[1mAMP: \u001b[0mchecks passed ✅\n",
      "\u001b[34m\u001b[1mtrain: \u001b[0mScanning /content/drive/MyDrive/gdrive/Plant_Village/train/labels.cache... 2009 images, 9 backgrounds, 0 corrupt: 100%|██████████| 2009/2009 [00:00<?, ?it/s]\n",
      "\u001b[34m\u001b[1malbumentations: \u001b[0mBlur(p=0.01, blur_limit=(3, 7)), MedianBlur(p=0.01, blur_limit=(3, 7)), ToGray(p=0.01), CLAHE(p=0.01, clip_limit=(1, 4.0), tile_grid_size=(8, 8))\n",
      "\u001b[34m\u001b[1mval: \u001b[0mScanning /content/drive/MyDrive/gdrive/Plant_Village/valid/labels.cache... 314 images, 1 backgrounds, 0 corrupt: 100%|██████████| 314/314 [00:00<?, ?it/s]\n",
      "Plotting labels to runs/detect/train/labels.jpg... \n",
      "\u001b[34m\u001b[1moptimizer:\u001b[0m AdamW(lr=0.000294, momentum=0.9) with parameter groups 57 weight(decay=0.0), 64 weight(decay=0.0005), 63 bias(decay=0.0)\n",
      "Image sizes 640 train, 640 val\n",
      "Using 2 dataloader workers\n",
      "Logging results to \u001b[1mruns/detect/train\u001b[0m\n",
      "Starting training for 30 epochs...\n",
      "\n",
      "      Epoch    GPU_mem   box_loss   cls_loss   dfl_loss  Instances       Size\n",
      "       1/30      6.39G      1.372      3.795      1.548         41        640: 100%|██████████| 126/126 [01:44<00:00,  1.21it/s]\n",
      "                 Class     Images  Instances      Box(P          R      mAP50  mAP50-95): 100%|██████████| 10/10 [00:08<00:00,  1.11it/s]\n",
      "                   all        314       1191      0.265      0.339      0.161      0.108\n",
      "\n",
      "      Epoch    GPU_mem   box_loss   cls_loss   dfl_loss  Instances       Size\n",
      "       2/30      4.87G      1.254      2.679       1.39         79        640: 100%|██████████| 126/126 [01:27<00:00,  1.43it/s]\n",
      "                 Class     Images  Instances      Box(P          R      mAP50  mAP50-95): 100%|██████████| 10/10 [00:09<00:00,  1.08it/s]\n",
      "                   all        314       1191      0.201      0.452      0.249      0.167\n",
      "\n",
      "      Epoch    GPU_mem   box_loss   cls_loss   dfl_loss  Instances       Size\n",
      "       3/30      4.93G      1.251      2.394       1.36        100        640: 100%|██████████| 126/126 [01:34<00:00,  1.34it/s]\n",
      "                 Class     Images  Instances      Box(P          R      mAP50  mAP50-95): 100%|██████████| 10/10 [00:09<00:00,  1.09it/s]\n",
      "                   all        314       1191      0.236      0.543      0.325      0.203\n",
      "\n",
      "      Epoch    GPU_mem   box_loss   cls_loss   dfl_loss  Instances       Size\n",
      "       4/30      4.89G      1.224      2.262      1.368         72        640: 100%|██████████| 126/126 [01:39<00:00,  1.27it/s]\n",
      "                 Class     Images  Instances      Box(P          R      mAP50  mAP50-95): 100%|██████████| 10/10 [00:10<00:00,  1.05s/it]\n",
      "                   all        314       1191      0.349      0.508      0.406      0.276\n",
      "\n",
      "      Epoch    GPU_mem   box_loss   cls_loss   dfl_loss  Instances       Size\n",
      "       5/30      4.74G      1.224      2.094      1.334         80        640: 100%|██████████| 126/126 [01:30<00:00,  1.39it/s]\n",
      "                 Class     Images  Instances      Box(P          R      mAP50  mAP50-95): 100%|██████████| 10/10 [00:08<00:00,  1.24it/s]\n",
      "                   all        314       1191      0.319      0.518      0.424      0.296\n",
      "\n",
      "      Epoch    GPU_mem   box_loss   cls_loss   dfl_loss  Instances       Size\n",
      "       6/30      4.83G      1.209      1.964      1.331         48        640: 100%|██████████| 126/126 [01:36<00:00,  1.31it/s]\n",
      "                 Class     Images  Instances      Box(P          R      mAP50  mAP50-95): 100%|██████████| 10/10 [00:09<00:00,  1.06it/s]\n",
      "                   all        314       1191      0.354      0.473      0.422      0.288\n",
      "\n",
      "      Epoch    GPU_mem   box_loss   cls_loss   dfl_loss  Instances       Size\n",
      "       7/30      4.74G      1.201      1.844      1.326         55        640: 100%|██████████| 126/126 [01:34<00:00,  1.33it/s]\n",
      "                 Class     Images  Instances      Box(P          R      mAP50  mAP50-95): 100%|██████████| 10/10 [00:10<00:00,  1.05s/it]\n",
      "                   all        314       1191      0.325      0.487      0.411      0.277\n",
      "\n",
      "      Epoch    GPU_mem   box_loss   cls_loss   dfl_loss  Instances       Size\n",
      "       8/30      4.92G        1.2      1.755      1.313         66        640: 100%|██████████| 126/126 [01:33<00:00,  1.34it/s]\n",
      "                 Class     Images  Instances      Box(P          R      mAP50  mAP50-95): 100%|██████████| 10/10 [00:11<00:00,  1.16s/it]\n",
      "                   all        314       1191      0.406      0.534      0.472      0.321\n",
      "\n",
      "      Epoch    GPU_mem   box_loss   cls_loss   dfl_loss  Instances       Size\n",
      "       9/30       4.9G      1.146      1.685      1.295         72        640: 100%|██████████| 126/126 [01:29<00:00,  1.40it/s]\n",
      "                 Class     Images  Instances      Box(P          R      mAP50  mAP50-95): 100%|██████████| 10/10 [00:10<00:00,  1.03s/it]\n",
      "                   all        314       1191      0.614      0.418      0.511      0.353\n",
      "\n",
      "      Epoch    GPU_mem   box_loss   cls_loss   dfl_loss  Instances       Size\n",
      "      10/30      4.94G      1.143      1.615      1.281         45        640: 100%|██████████| 126/126 [01:34<00:00,  1.34it/s]\n",
      "                 Class     Images  Instances      Box(P          R      mAP50  mAP50-95): 100%|██████████| 10/10 [00:09<00:00,  1.01it/s]\n",
      "                   all        314       1191      0.323      0.569      0.425      0.296\n",
      "\n",
      "      Epoch    GPU_mem   box_loss   cls_loss   dfl_loss  Instances       Size\n",
      "      11/30      4.89G       1.13      1.539      1.279         62        640: 100%|██████████| 126/126 [01:42<00:00,  1.22it/s]\n",
      "                 Class     Images  Instances      Box(P          R      mAP50  mAP50-95): 100%|██████████| 10/10 [00:08<00:00,  1.22it/s]\n",
      "                   all        314       1191      0.555      0.407      0.469      0.317\n",
      "\n",
      "      Epoch    GPU_mem   box_loss   cls_loss   dfl_loss  Instances       Size\n",
      "      12/30      4.88G      1.125      1.493      1.275         55        640: 100%|██████████| 126/126 [01:43<00:00,  1.21it/s]\n",
      "                 Class     Images  Instances      Box(P          R      mAP50  mAP50-95): 100%|██████████| 10/10 [00:08<00:00,  1.15it/s]\n",
      "                   all        314       1191      0.513      0.517      0.531      0.373\n",
      "\n",
      "      Epoch    GPU_mem   box_loss   cls_loss   dfl_loss  Instances       Size\n",
      "      13/30      4.78G      1.101      1.409      1.259         87        640: 100%|██████████| 126/126 [01:32<00:00,  1.36it/s]\n",
      "                 Class     Images  Instances      Box(P          R      mAP50  mAP50-95): 100%|██████████| 10/10 [00:10<00:00,  1.01s/it]\n",
      "                   all        314       1191      0.564      0.579      0.586      0.411\n",
      "\n",
      "      Epoch    GPU_mem   box_loss   cls_loss   dfl_loss  Instances       Size\n",
      "      14/30      4.79G      1.097      1.382      1.261         61        640: 100%|██████████| 126/126 [01:35<00:00,  1.31it/s]\n",
      "                 Class     Images  Instances      Box(P          R      mAP50  mAP50-95): 100%|██████████| 10/10 [00:09<00:00,  1.01it/s]\n",
      "                   all        314       1191        0.5      0.554      0.541      0.382\n",
      "\n",
      "      Epoch    GPU_mem   box_loss   cls_loss   dfl_loss  Instances       Size\n",
      "      15/30      4.94G      1.088      1.346      1.248         79        640: 100%|██████████| 126/126 [01:42<00:00,  1.22it/s]\n",
      "                 Class     Images  Instances      Box(P          R      mAP50  mAP50-95): 100%|██████████| 10/10 [00:07<00:00,  1.33it/s]\n",
      "                   all        314       1191      0.479      0.534      0.562      0.397\n",
      "\n",
      "      Epoch    GPU_mem   box_loss   cls_loss   dfl_loss  Instances       Size\n",
      "      16/30      4.87G       1.07      1.275      1.236         93        640: 100%|██████████| 126/126 [01:37<00:00,  1.29it/s]\n",
      "                 Class     Images  Instances      Box(P          R      mAP50  mAP50-95): 100%|██████████| 10/10 [00:07<00:00,  1.28it/s]\n",
      "                   all        314       1191      0.594      0.556      0.593      0.425\n",
      "\n",
      "      Epoch    GPU_mem   box_loss   cls_loss   dfl_loss  Instances       Size\n",
      "      17/30      4.74G      1.063      1.253      1.231         90        640: 100%|██████████| 126/126 [01:43<00:00,  1.22it/s]\n",
      "                 Class     Images  Instances      Box(P          R      mAP50  mAP50-95): 100%|██████████| 10/10 [00:10<00:00,  1.10s/it]\n",
      "                   all        314       1191      0.616      0.574      0.608      0.432\n",
      "\n",
      "      Epoch    GPU_mem   box_loss   cls_loss   dfl_loss  Instances       Size\n",
      "      18/30      4.87G      1.032      1.196      1.218         83        640: 100%|██████████| 126/126 [01:44<00:00,  1.21it/s]\n",
      "                 Class     Images  Instances      Box(P          R      mAP50  mAP50-95): 100%|██████████| 10/10 [00:08<00:00,  1.21it/s]\n",
      "                   all        314       1191      0.505      0.598      0.583      0.409\n",
      "\n",
      "      Epoch    GPU_mem   box_loss   cls_loss   dfl_loss  Instances       Size\n",
      "      19/30      4.91G      1.018       1.16      1.213         98        640: 100%|██████████| 126/126 [01:45<00:00,  1.19it/s]\n",
      "                 Class     Images  Instances      Box(P          R      mAP50  mAP50-95): 100%|██████████| 10/10 [00:08<00:00,  1.12it/s]\n",
      "                   all        314       1191      0.585      0.631      0.611      0.432\n",
      "\n",
      "      Epoch    GPU_mem   box_loss   cls_loss   dfl_loss  Instances       Size\n",
      "      20/30      4.87G      1.033      1.117      1.207         48        640: 100%|██████████| 126/126 [01:47<00:00,  1.17it/s]\n",
      "                 Class     Images  Instances      Box(P          R      mAP50  mAP50-95): 100%|██████████| 10/10 [00:10<00:00,  1.01s/it]\n",
      "                   all        314       1191       0.46      0.653      0.584      0.416\n",
      "Closing dataloader mosaic\n",
      "\u001b[34m\u001b[1malbumentations: \u001b[0mBlur(p=0.01, blur_limit=(3, 7)), MedianBlur(p=0.01, blur_limit=(3, 7)), ToGray(p=0.01), CLAHE(p=0.01, clip_limit=(1, 4.0), tile_grid_size=(8, 8))\n",
      "\n",
      "      Epoch    GPU_mem   box_loss   cls_loss   dfl_loss  Instances       Size\n",
      "      21/30      4.87G     0.9818      1.043      1.194         37        640: 100%|██████████| 126/126 [01:26<00:00,  1.45it/s]\n",
      "                 Class     Images  Instances      Box(P          R      mAP50  mAP50-95): 100%|██████████| 10/10 [00:06<00:00,  1.62it/s]\n",
      "                   all        314       1191      0.489      0.598      0.567      0.404\n",
      "\n",
      "      Epoch    GPU_mem   box_loss   cls_loss   dfl_loss  Instances       Size\n",
      "      22/30      4.93G     0.9747     0.9692      1.189         28        640: 100%|██████████| 126/126 [01:22<00:00,  1.53it/s]\n",
      "                 Class     Images  Instances      Box(P          R      mAP50  mAP50-95): 100%|██████████| 10/10 [00:07<00:00,  1.35it/s]\n",
      "                   all        314       1191      0.548      0.582      0.612      0.436\n",
      "\n",
      "      Epoch    GPU_mem   box_loss   cls_loss   dfl_loss  Instances       Size\n",
      "      23/30      4.94G     0.9506     0.8973      1.166         43        640: 100%|██████████| 126/126 [01:21<00:00,  1.55it/s]\n",
      "                 Class     Images  Instances      Box(P          R      mAP50  mAP50-95): 100%|██████████| 10/10 [00:07<00:00,  1.40it/s]\n",
      "                   all        314       1191       0.46       0.65      0.575      0.409\n",
      "\n",
      "      Epoch    GPU_mem   box_loss   cls_loss   dfl_loss  Instances       Size\n",
      "      24/30      4.93G     0.9386     0.8549      1.155         29        640: 100%|██████████| 126/126 [01:21<00:00,  1.54it/s]\n",
      "                 Class     Images  Instances      Box(P          R      mAP50  mAP50-95): 100%|██████████| 10/10 [00:07<00:00,  1.26it/s]\n",
      "                   all        314       1191      0.549      0.574      0.596       0.42\n",
      "\n",
      "      Epoch    GPU_mem   box_loss   cls_loss   dfl_loss  Instances       Size\n",
      "      25/30      4.91G     0.9291     0.8146      1.151         22        640: 100%|██████████| 126/126 [01:20<00:00,  1.56it/s]\n",
      "                 Class     Images  Instances      Box(P          R      mAP50  mAP50-95): 100%|██████████| 10/10 [00:07<00:00,  1.30it/s]\n",
      "                   all        314       1191      0.541      0.594      0.577      0.412\n",
      "\n",
      "      Epoch    GPU_mem   box_loss   cls_loss   dfl_loss  Instances       Size\n",
      "      26/30      4.92G     0.9046     0.7693      1.126         45        640: 100%|██████████| 126/126 [01:24<00:00,  1.49it/s]\n",
      "                 Class     Images  Instances      Box(P          R      mAP50  mAP50-95): 100%|██████████| 10/10 [00:08<00:00,  1.18it/s]\n",
      "                   all        314       1191       0.49      0.632      0.568      0.401\n",
      "\n",
      "      Epoch    GPU_mem   box_loss   cls_loss   dfl_loss  Instances       Size\n",
      "      27/30      4.94G     0.9011      0.765      1.129         43        640: 100%|██████████| 126/126 [01:27<00:00,  1.43it/s]\n",
      "                 Class     Images  Instances      Box(P          R      mAP50  mAP50-95): 100%|██████████| 10/10 [00:08<00:00,  1.11it/s]\n",
      "                   all        314       1191      0.546        0.5      0.572      0.408\n",
      "\n",
      "      Epoch    GPU_mem   box_loss   cls_loss   dfl_loss  Instances       Size\n",
      "      28/30      4.77G     0.8799     0.7222      1.116         28        640: 100%|██████████| 126/126 [01:24<00:00,  1.49it/s]\n",
      "                 Class     Images  Instances      Box(P          R      mAP50  mAP50-95): 100%|██████████| 10/10 [00:09<00:00,  1.01it/s]\n",
      "                   all        314       1191      0.561      0.566      0.588      0.423\n",
      "\n",
      "      Epoch    GPU_mem   box_loss   cls_loss   dfl_loss  Instances       Size\n",
      "      29/30      4.91G       0.87     0.6906      1.117         22        640: 100%|██████████| 126/126 [01:19<00:00,  1.58it/s]\n",
      "                 Class     Images  Instances      Box(P          R      mAP50  mAP50-95): 100%|██████████| 10/10 [00:09<00:00,  1.09it/s]\n",
      "                   all        314       1191      0.564      0.536      0.591      0.418\n",
      "\n",
      "      Epoch    GPU_mem   box_loss   cls_loss   dfl_loss  Instances       Size\n",
      "      30/30      4.94G     0.8635     0.6823      1.109         24        640: 100%|██████████| 126/126 [01:28<00:00,  1.42it/s]\n",
      "                 Class     Images  Instances      Box(P          R      mAP50  mAP50-95): 100%|██████████| 10/10 [00:14<00:00,  1.45s/it]\n",
      "                   all        314       1191      0.521      0.643      0.617      0.438\n",
      "\n",
      "30 epochs completed in 0.885 hours.\n",
      "Optimizer stripped from runs/detect/train/weights/last.pt, 22.5MB\n",
      "Optimizer stripped from runs/detect/train/weights/best.pt, 22.5MB\n",
      "\n",
      "Validating runs/detect/train/weights/best.pt...\n",
      "Ultralytics YOLOv8.0.154 🚀 Python-3.10.12 torch-2.0.1+cu118 CUDA:0 (Tesla T4, 15102MiB)\n",
      "Model summary (fused): 168 layers, 11137194 parameters, 0 gradients\n",
      "                 Class     Images  Instances      Box(P          R      mAP50  mAP50-95): 100%|██████████| 10/10 [00:12<00:00,  1.28s/it]\n",
      "                   all        314       1191      0.521      0.643      0.616      0.438\n",
      "       Apple Scab Leaf        314          2      0.112      0.281      0.221      0.188\n",
      "            Apple leaf        314         61      0.755      0.902       0.86      0.618\n",
      "       Apple rust leaf        314          4       0.51        0.5      0.705      0.419\n",
      " Bell_pepper leaf spot        314         11      0.552      0.818      0.795      0.595\n",
      "      Bell_pepper leaf        314          1          0          0     0.0711      0.064\n",
      "        Blueberry leaf        314         41      0.658      0.927      0.923      0.694\n",
      "           Cherry leaf        314          4      0.263        0.5      0.246      0.206\n",
      "      Corn leaf blight        314         12      0.687      0.917      0.882      0.636\n",
      "        Corn rust leaf        314         16      0.935      0.895      0.988      0.792\n",
      "            Peach leaf        314        130      0.902      0.869      0.934      0.651\n",
      "        Raspberry leaf        314         14      0.595      0.929      0.863      0.674\n",
      "         Soyabean leaf        314        118      0.863      0.374      0.735      0.554\n",
      "Squash Powdery mildew leaf        314          9      0.539          1      0.848      0.644\n",
      "       Strawberry leaf        314        146      0.861       0.89      0.942      0.715\n",
      "Tomato Early blight leaf        314         30      0.223      0.467      0.293      0.184\n",
      "Tomato Septoria leaf spot        314        128      0.578       0.61      0.563      0.368\n",
      "Tomato leaf bacterial spot        314         87      0.483      0.874      0.742      0.366\n",
      "Tomato leaf late blight        314         16      0.126      0.562       0.28      0.155\n",
      "Tomato leaf mosaic virus        314         52      0.621      0.462      0.584      0.398\n",
      "Tomato leaf yellow virus        314        108      0.751      0.279       0.41      0.248\n",
      "           Tomato leaf        314        138      0.261        0.5      0.245      0.111\n",
      "      Tomato mold leaf        314         60      0.275      0.233      0.217      0.166\n",
      "  grape leaf black rot        314          3      0.433          1       0.83       0.64\n",
      "Speed: 2.2ms preprocess, 4.3ms inference, 0.0ms loss, 3.7ms postprocess per image\n",
      "Results saved to \u001b[1mruns/detect/train\u001b[0m\n"
     ]
    }
   ],
   "source": [
    "results = model.train(data='/content/drive/MyDrive/gdrive/Plant_Village/data.yaml', epochs=30)"
   ]
  },
  {
   "cell_type": "code",
   "execution_count": 24,
   "id": "wL-51TEF7l8T",
   "metadata": {
    "colab": {
     "base_uri": "https://localhost:8080/"
    },
    "id": "wL-51TEF7l8T",
    "outputId": "d6dc2798-a6e9-4137-d994-7e55f091e6b6"
   },
   "outputs": [
    {
     "name": "stderr",
     "output_type": "stream",
     "text": [
      "Ultralytics YOLOv8.0.154 🚀 Python-3.10.12 torch-2.0.1+cu118 CUDA:0 (Tesla T4, 15102MiB)\n",
      "Model summary (fused): 168 layers, 11137194 parameters, 0 gradients\n",
      "\u001b[34m\u001b[1mval: \u001b[0mScanning /content/drive/MyDrive/gdrive/Plant_Village/valid/labels.cache... 314 images, 1 backgrounds, 0 corrupt: 100%|██████████| 314/314 [00:00<?, ?it/s]\n",
      "                 Class     Images  Instances      Box(P          R      mAP50  mAP50-95): 100%|██████████| 20/20 [00:20<00:00,  1.02s/it]\n",
      "                   all        314       1191      0.532      0.653       0.62      0.443\n",
      "       Apple Scab Leaf        314          2      0.237      0.639      0.332      0.285\n",
      "            Apple leaf        314         61      0.756      0.902      0.871      0.622\n",
      "       Apple rust leaf        314          4      0.578      0.694      0.705      0.419\n",
      " Bell_pepper leaf spot        314         11      0.608      0.818      0.803      0.594\n",
      "      Bell_pepper leaf        314          1          0          0     0.0765     0.0689\n",
      "        Blueberry leaf        314         41      0.658      0.878      0.906      0.676\n",
      "           Cherry leaf        314          4      0.131       0.25      0.234      0.198\n",
      "      Corn leaf blight        314         12      0.677      0.917      0.885      0.627\n",
      "        Corn rust leaf        314         16      0.935      0.895      0.985      0.797\n",
      "            Peach leaf        314        130      0.908      0.869      0.937      0.656\n",
      "        Raspberry leaf        314         14      0.596      0.929      0.872       0.68\n",
      "         Soyabean leaf        314        118      0.881      0.378      0.726      0.553\n",
      "Squash Powdery mildew leaf        314          9      0.655          1       0.83       0.66\n",
      "       Strawberry leaf        314        146      0.862       0.89      0.943      0.713\n",
      "Tomato Early blight leaf        314         30      0.223      0.467      0.294      0.184\n",
      "Tomato Septoria leaf spot        314        128      0.578       0.61      0.571      0.374\n",
      "Tomato leaf bacterial spot        314         87      0.489      0.874      0.724      0.357\n",
      "Tomato leaf late blight        314         16      0.121      0.562      0.279      0.155\n",
      "Tomato leaf mosaic virus        314         52      0.627      0.462       0.58      0.404\n",
      "Tomato leaf yellow virus        314        108      0.756      0.258      0.413      0.252\n",
      "           Tomato leaf        314        138      0.254      0.493      0.243       0.11\n",
      "      Tomato mold leaf        314         60      0.275      0.233      0.233      0.176\n",
      "  grape leaf black rot        314          3      0.433          1       0.83       0.64\n",
      "Speed: 1.2ms preprocess, 18.0ms inference, 0.0ms loss, 4.8ms postprocess per image\n",
      "Results saved to \u001b[1mruns/detect/val\u001b[0m\n"
     ]
    }
   ],
   "source": [
    "results = model.val()"
   ]
  },
  {
   "cell_type": "code",
   "execution_count": 4,
   "id": "adFGORZt7l_h",
   "metadata": {
    "id": "adFGORZt7l_h"
   },
   "outputs": [],
   "source": [
    "model = YOLO('/Users/pranav/AIML/CV/MyProjects/Plant Village Object Detection/Yolo/Plant_Village_dataset/runs/detect/train/weights/best.pt')"
   ]
  },
  {
   "cell_type": "code",
   "execution_count": 5,
   "id": "3kRm7hBsmOtW",
   "metadata": {
    "colab": {
     "base_uri": "https://localhost:8080/",
     "height": 35
    },
    "id": "3kRm7hBsmOtW",
    "outputId": "d05809a1-56b1-4c48-8a8b-276d20aab469"
   },
   "outputs": [
    {
     "data": {
      "text/plain": [
       "'/Users/pranav/AIML/CV/MyProjects/Plant Village Object Detection/Yolo'"
      ]
     },
     "execution_count": 5,
     "metadata": {},
     "output_type": "execute_result"
    }
   ],
   "source": [
    "import os\n",
    "os.getcwd()"
   ]
  },
  {
   "cell_type": "code",
   "execution_count": 6,
   "id": "e6IT-Wabld9o",
   "metadata": {
    "id": "e6IT-Wabld9o"
   },
   "outputs": [
    {
     "name": "stdout",
     "output_type": "stream",
     "text": [
      "5816740026_d42ef24413_Phytophthora-Infestans_jpg.rf.8745c360a93921f2fbd3f0f0a720c3b8.jpg\n"
     ]
    },
    {
     "name": "stderr",
     "output_type": "stream",
     "text": [
      "\n",
      "image 1/1 /Users/pranav/AIML/CV/MyProjects/Plant Village Object Detection/Yolo/Plant_Village_dataset/test/images/5816740026_d42ef24413_Phytophthora-Infestans_jpg.rf.8745c360a93921f2fbd3f0f0a720c3b8.jpg: 640x448 1 Tomato leaf mosaic virus, 113.6ms\n",
      "Speed: 1.6ms preprocess, 113.6ms inference, 0.8ms postprocess per image at shape (1, 3, 640, 448)\n",
      "Results saved to \u001b[1mruns/detect/predict2\u001b[0m\n",
      "\n",
      "image 1/1 /Users/pranav/AIML/CV/MyProjects/Plant Village Object Detection/Yolo/Plant_Village_dataset/test/images/page_2_jpg.rf.4a450196bb164e1871d41c2617862a7b.jpg: 544x640 2 Peach leafs, 2 Tomato mold leafs, 150.7ms\n",
      "Speed: 1.9ms preprocess, 150.7ms inference, 0.5ms postprocess per image at shape (1, 3, 544, 640)\n",
      "Results saved to \u001b[1mruns/detect/predict2\u001b[0m\n",
      "\n"
     ]
    },
    {
     "name": "stdout",
     "output_type": "stream",
     "text": [
      "page_2_jpg.rf.4a450196bb164e1871d41c2617862a7b.jpg\n",
      "0796_52srusttelia_jpg.rf.aedad78c844ccbb75c98c78c7fd497f8.jpg\n"
     ]
    },
    {
     "name": "stderr",
     "output_type": "stream",
     "text": [
      "image 1/1 /Users/pranav/AIML/CV/MyProjects/Plant Village Object Detection/Yolo/Plant_Village_dataset/test/images/0796_52srusttelia_jpg.rf.aedad78c844ccbb75c98c78c7fd497f8.jpg: 480x640 1 Corn leaf blight, 131.8ms\n",
      "Speed: 1.2ms preprocess, 131.8ms inference, 0.6ms postprocess per image at shape (1, 3, 480, 640)\n",
      "Results saved to \u001b[1mruns/detect/predict2\u001b[0m\n",
      "\n",
      "image 1/1 /Users/pranav/AIML/CV/MyProjects/Plant Village Object Detection/Yolo/Plant_Village_dataset/test/images/DSCN7317_JPG_jpg.rf.93c155a28060f4ead09163527be1fb3a.jpg: 640x640 1 grape leaf black rot, 157.7ms\n",
      "Speed: 2.6ms preprocess, 157.7ms inference, 0.6ms postprocess per image at shape (1, 3, 640, 640)\n",
      "Results saved to \u001b[1mruns/detect/predict2\u001b[0m\n",
      "\n"
     ]
    },
    {
     "name": "stdout",
     "output_type": "stream",
     "text": [
      "DSCN7317_JPG_jpg.rf.93c155a28060f4ead09163527be1fb3a.jpg\n",
      "7-17-Photo3_Septoria-MARY_jpg.rf.45b5441028f4f795911a5ced0b1556cc.jpg\n"
     ]
    },
    {
     "name": "stderr",
     "output_type": "stream",
     "text": [
      "image 1/1 /Users/pranav/AIML/CV/MyProjects/Plant Village Object Detection/Yolo/Plant_Village_dataset/test/images/7-17-Photo3_Septoria-MARY_jpg.rf.45b5441028f4f795911a5ced0b1556cc.jpg: 512x640 2 Tomato Septoria leaf spots, 1 Tomato leaf late blight, 148.8ms\n",
      "Speed: 1.4ms preprocess, 148.8ms inference, 0.6ms postprocess per image at shape (1, 3, 512, 640)\n",
      "Results saved to \u001b[1mruns/detect/predict2\u001b[0m\n",
      "\n",
      "image 1/1 /Users/pranav/AIML/CV/MyProjects/Plant Village Object Detection/Yolo/Plant_Village_dataset/test/images/3023_jpg.rf.d6ef38092aaf3cc5051b504eaba3ef28.jpg: 480x640 1 Potato leaf early blight, 7 Potato leafs, 129.6ms\n",
      "Speed: 1.6ms preprocess, 129.6ms inference, 0.4ms postprocess per image at shape (1, 3, 480, 640)\n",
      "Results saved to \u001b[1mruns/detect/predict2\u001b[0m\n",
      "\n"
     ]
    },
    {
     "name": "stdout",
     "output_type": "stream",
     "text": [
      "3023_jpg.rf.d6ef38092aaf3cc5051b504eaba3ef28.jpg\n",
      "9511_img_jpg.rf.c9393cb33e0bb8cd61a2446a3616c6ef.jpg\n"
     ]
    },
    {
     "name": "stderr",
     "output_type": "stream",
     "text": [
      "image 1/1 /Users/pranav/AIML/CV/MyProjects/Plant Village Object Detection/Yolo/Plant_Village_dataset/test/images/9511_img_jpg.rf.c9393cb33e0bb8cd61a2446a3616c6ef.jpg: 480x640 11 Tomato leaf bacterial spots, 127.9ms\n",
      "Speed: 1.4ms preprocess, 127.9ms inference, 0.8ms postprocess per image at shape (1, 3, 480, 640)\n",
      "Results saved to \u001b[1mruns/detect/predict2\u001b[0m\n",
      "\n",
      "image 1/1 /Users/pranav/AIML/CV/MyProjects/Plant Village Object Detection/Yolo/Plant_Village_dataset/test/images/glyphosate_jpg.rf.0b67b3bed88e19d39a31713c24091072.jpg: 320x640 1 Tomato leaf yellow virus, 4 Tomato leafs, 96.9ms\n",
      "Speed: 0.9ms preprocess, 96.9ms inference, 0.5ms postprocess per image at shape (1, 3, 320, 640)\n",
      "Results saved to \u001b[1mruns/detect/predict2\u001b[0m\n",
      "\n"
     ]
    },
    {
     "name": "stdout",
     "output_type": "stream",
     "text": [
      "glyphosate_jpg.rf.0b67b3bed88e19d39a31713c24091072.jpg\n",
      "corn-disease-update-fig-3-gray-leaf-spot_jpg.rf.dfdad04f3d1bbce51b6bdcda8de2bb7e.jpg\n"
     ]
    },
    {
     "name": "stderr",
     "output_type": "stream",
     "text": [
      "image 1/1 /Users/pranav/AIML/CV/MyProjects/Plant Village Object Detection/Yolo/Plant_Village_dataset/test/images/corn-disease-update-fig-3-gray-leaf-spot_jpg.rf.dfdad04f3d1bbce51b6bdcda8de2bb7e.jpg: 480x640 1 Corn leaf blight, 114.3ms\n",
      "Speed: 1.8ms preprocess, 114.3ms inference, 0.6ms postprocess per image at shape (1, 3, 480, 640)\n",
      "Results saved to \u001b[1mruns/detect/predict2\u001b[0m\n",
      "\n",
      "image 1/1 /Users/pranav/AIML/CV/MyProjects/Plant Village Object Detection/Yolo/Plant_Village_dataset/test/images/apple-20scab-20leaf_jpg.rf.d7c1aa30a31c9acfcf45ee8fef3d83c8.jpg: 640x384 1 Apple Scab Leaf, 97.7ms\n",
      "Speed: 0.9ms preprocess, 97.7ms inference, 0.9ms postprocess per image at shape (1, 3, 640, 384)\n",
      "Results saved to \u001b[1mruns/detect/predict2\u001b[0m\n",
      "\n"
     ]
    },
    {
     "name": "stdout",
     "output_type": "stream",
     "text": [
      "apple-20scab-20leaf_jpg.rf.d7c1aa30a31c9acfcf45ee8fef3d83c8.jpg\n",
      "20130610_110514_jpg.rf.cde4818555323b7baffe20c3886025ab.jpg\n"
     ]
    },
    {
     "name": "stderr",
     "output_type": "stream",
     "text": [
      "image 1/1 /Users/pranav/AIML/CV/MyProjects/Plant Village Object Detection/Yolo/Plant_Village_dataset/test/images/20130610_110514_jpg.rf.cde4818555323b7baffe20c3886025ab.jpg: 480x640 1 Apple Scab Leaf, 120.4ms\n",
      "Speed: 1.8ms preprocess, 120.4ms inference, 0.4ms postprocess per image at shape (1, 3, 480, 640)\n",
      "Results saved to \u001b[1mruns/detect/predict2\u001b[0m\n",
      "\n",
      "image 1/1 /Users/pranav/AIML/CV/MyProjects/Plant Village Object Detection/Yolo/Plant_Village_dataset/test/images/prunsero_leaf1_jpg.rf.4c96ef8137ed4c52bb62a55d398cc9a6.jpg: 640x448 (no detections), 105.4ms\n",
      "Speed: 2.2ms preprocess, 105.4ms inference, 0.5ms postprocess per image at shape (1, 3, 640, 448)\n",
      "Results saved to \u001b[1mruns/detect/predict2\u001b[0m\n",
      "\n"
     ]
    },
    {
     "name": "stdout",
     "output_type": "stream",
     "text": [
      "prunsero_leaf1_jpg.rf.4c96ef8137ed4c52bb62a55d398cc9a6.jpg\n",
      "P1130286_jpg.rf.7e9c57e4056b97b93a28df59996ed2de.jpg\n"
     ]
    },
    {
     "name": "stderr",
     "output_type": "stream",
     "text": [
      "image 1/1 /Users/pranav/AIML/CV/MyProjects/Plant Village Object Detection/Yolo/Plant_Village_dataset/test/images/P1130286_jpg.rf.7e9c57e4056b97b93a28df59996ed2de.jpg: 640x480 1 grape leaf black rot, 129.4ms\n",
      "Speed: 1.9ms preprocess, 129.4ms inference, 0.6ms postprocess per image at shape (1, 3, 640, 480)\n",
      "Results saved to \u001b[1mruns/detect/predict2\u001b[0m\n",
      "\n",
      "image 1/1 /Users/pranav/AIML/CV/MyProjects/Plant Village Object Detection/Yolo/Plant_Village_dataset/test/images/strawberry-leaves-isolated-white-34722259_jpg.rf.92c5372d8bf637272f3e43ec8ddce702.jpg: 640x608 3 Strawberry leafs, 146.7ms\n",
      "Speed: 2.1ms preprocess, 146.7ms inference, 0.5ms postprocess per image at shape (1, 3, 640, 608)\n",
      "Results saved to \u001b[1mruns/detect/predict2\u001b[0m\n",
      "\n"
     ]
    },
    {
     "name": "stdout",
     "output_type": "stream",
     "text": [
      "strawberry-leaves-isolated-white-34722259_jpg.rf.92c5372d8bf637272f3e43ec8ddce702.jpg\n",
      "stock-photo-fresh-soy-leaves-isolated-on-white-94266130_jpg.rf.522be5cb0e053dff156f3e8d089be6f6.jpg\n"
     ]
    },
    {
     "name": "stderr",
     "output_type": "stream",
     "text": [
      "image 1/1 /Users/pranav/AIML/CV/MyProjects/Plant Village Object Detection/Yolo/Plant_Village_dataset/test/images/stock-photo-fresh-soy-leaves-isolated-on-white-94266130_jpg.rf.522be5cb0e053dff156f3e8d089be6f6.jpg: 640x448 2 Blueberry leafs, 112.4ms\n",
      "Speed: 1.2ms preprocess, 112.4ms inference, 0.4ms postprocess per image at shape (1, 3, 640, 448)\n",
      "Results saved to \u001b[1mruns/detect/predict2\u001b[0m\n",
      "\n",
      "image 1/1 /Users/pranav/AIML/CV/MyProjects/Plant Village Object Detection/Yolo/Plant_Village_dataset/test/images/apples_apple-scab_01_zoom_jpg.rf.77862c566551e32b61f10ea64e1fcecf.jpg: 512x640 1 Apple Scab Leaf, 137.7ms\n",
      "Speed: 1.4ms preprocess, 137.7ms inference, 0.4ms postprocess per image at shape (1, 3, 512, 640)\n",
      "Results saved to \u001b[1mruns/detect/predict2\u001b[0m\n",
      "\n"
     ]
    },
    {
     "name": "stdout",
     "output_type": "stream",
     "text": [
      "apples_apple-scab_01_zoom_jpg.rf.77862c566551e32b61f10ea64e1fcecf.jpg\n",
      "70_jpg.rf.f059da48ff9cd91d6d3632d1b966620b.jpg\n"
     ]
    },
    {
     "name": "stderr",
     "output_type": "stream",
     "text": [
      "image 1/1 /Users/pranav/AIML/CV/MyProjects/Plant Village Object Detection/Yolo/Plant_Village_dataset/test/images/70_jpg.rf.f059da48ff9cd91d6d3632d1b966620b.jpg: 640x640 1 Tomato leaf late blight, 205.3ms\n",
      "Speed: 1.5ms preprocess, 205.3ms inference, 0.7ms postprocess per image at shape (1, 3, 640, 640)\n",
      "Results saved to \u001b[1mruns/detect/predict2\u001b[0m\n",
      "\n",
      "image 1/1 /Users/pranav/AIML/CV/MyProjects/Plant Village Object Detection/Yolo/Plant_Village_dataset/test/images/4120978-single-green-leaf-of-apple-tree_jpg.rf.544585888de4ef9e6102152dadd781d1.jpg: 480x640 1 Apple leaf, 159.3ms\n",
      "Speed: 5.9ms preprocess, 159.3ms inference, 0.4ms postprocess per image at shape (1, 3, 480, 640)\n",
      "Results saved to \u001b[1mruns/detect/predict2\u001b[0m\n",
      "\n"
     ]
    },
    {
     "name": "stdout",
     "output_type": "stream",
     "text": [
      "4120978-single-green-leaf-of-apple-tree_jpg.rf.544585888de4ef9e6102152dadd781d1.jpg\n",
      "185161-004-EAF28842_jpg.rf.53600a8f3d13bf089c3d2b7d82dc6f3d.jpg\n"
     ]
    },
    {
     "name": "stderr",
     "output_type": "stream",
     "text": [
      "image 1/1 /Users/pranav/AIML/CV/MyProjects/Plant Village Object Detection/Yolo/Plant_Village_dataset/test/images/185161-004-EAF28842_jpg.rf.53600a8f3d13bf089c3d2b7d82dc6f3d.jpg: 640x608 1 Apple rust leaf, 144.7ms\n",
      "Speed: 1.7ms preprocess, 144.7ms inference, 0.4ms postprocess per image at shape (1, 3, 640, 608)\n",
      "Results saved to \u001b[1mruns/detect/predict2\u001b[0m\n",
      "\n",
      "image 1/1 /Users/pranav/AIML/CV/MyProjects/Plant Village Object Detection/Yolo/Plant_Village_dataset/test/images/816_jpg.rf.e735367aa4e04fe1b91ebff897b28484.jpg: 544x640 1 Apple Scab Leaf, 1 Apple rust leaf, 120.7ms\n",
      "Speed: 1.2ms preprocess, 120.7ms inference, 0.9ms postprocess per image at shape (1, 3, 544, 640)\n",
      "Results saved to \u001b[1mruns/detect/predict2\u001b[0m\n",
      "\n"
     ]
    },
    {
     "name": "stdout",
     "output_type": "stream",
     "text": [
      "816_jpg.rf.e735367aa4e04fe1b91ebff897b28484.jpg\n",
      "three-vibrant-leaves-bird-cherry-tree-13905898_jpg.rf.354518d6f9d73aee62a4450e132c6317.jpg\n"
     ]
    },
    {
     "name": "stderr",
     "output_type": "stream",
     "text": [
      "image 1/1 /Users/pranav/AIML/CV/MyProjects/Plant Village Object Detection/Yolo/Plant_Village_dataset/test/images/three-vibrant-leaves-bird-cherry-tree-13905898_jpg.rf.354518d6f9d73aee62a4450e132c6317.jpg: 480x640 2 Cherry leafs, 1 Peach leaf, 121.6ms\n",
      "Speed: 1.5ms preprocess, 121.6ms inference, 0.4ms postprocess per image at shape (1, 3, 480, 640)\n",
      "Results saved to \u001b[1mruns/detect/predict2\u001b[0m\n",
      "\n",
      "image 1/1 /Users/pranav/AIML/CV/MyProjects/Plant Village Object Detection/Yolo/Plant_Village_dataset/test/images/1321189_jpg.rf.72d7076cd8ddfe5d29c2df136a88d33d.jpg: 224x640 1 Corn leaf blight, 62.0ms\n",
      "Speed: 0.8ms preprocess, 62.0ms inference, 0.4ms postprocess per image at shape (1, 3, 224, 640)\n",
      "Results saved to \u001b[1mruns/detect/predict2\u001b[0m\n",
      "\n",
      "image 1/1 /Users/pranav/AIML/CV/MyProjects/Plant Village Object Detection/Yolo/Plant_Village_dataset/test/images/B2750109-Late_blight_on_a_potato_plant-SPL_jpg.rf.2ee7b2fe0b7703591b646332c6904cda.jpg: 640x448 1 Potato leaf, 1 Tomato leaf bacterial spot, 111.3ms\n",
      "Speed: 1.3ms preprocess, 111.3ms inference, 0.5ms postprocess per image at shape (1, 3, 640, 448)\n",
      "Results saved to \u001b[1mruns/detect/predict2\u001b[0m\n",
      "\n"
     ]
    },
    {
     "name": "stdout",
     "output_type": "stream",
     "text": [
      "1321189_jpg.rf.72d7076cd8ddfe5d29c2df136a88d33d.jpg\n",
      "B2750109-Late_blight_on_a_potato_plant-SPL_jpg.rf.2ee7b2fe0b7703591b646332c6904cda.jpg\n",
      "fc729af279e9087d00bd32d89a1552a756a3ad9de7f2b_1260x1260_jpg.rf.c1d742068f724807ab5ddda050d6e3b8.jpg\n"
     ]
    },
    {
     "name": "stderr",
     "output_type": "stream",
     "text": [
      "image 1/1 /Users/pranav/AIML/CV/MyProjects/Plant Village Object Detection/Yolo/Plant_Village_dataset/test/images/fc729af279e9087d00bd32d89a1552a756a3ad9de7f2b_1260x1260_jpg.rf.c1d742068f724807ab5ddda050d6e3b8.jpg: 640x544 1 Apple leaf, 139.3ms\n",
      "Speed: 2.7ms preprocess, 139.3ms inference, 0.6ms postprocess per image at shape (1, 3, 640, 544)\n",
      "Results saved to \u001b[1mruns/detect/predict2\u001b[0m\n",
      "\n",
      "image 1/1 /Users/pranav/AIML/CV/MyProjects/Plant Village Object Detection/Yolo/Plant_Village_dataset/test/images/dscn6689_jpg.rf.d396b18953beffedf55ff8890f61e3bd.jpg: 480x640 1 Tomato Septoria leaf spot, 4 Tomato mold leafs, 121.8ms\n",
      "Speed: 1.5ms preprocess, 121.8ms inference, 0.5ms postprocess per image at shape (1, 3, 480, 640)\n",
      "Results saved to \u001b[1mruns/detect/predict2\u001b[0m\n",
      "\n"
     ]
    },
    {
     "name": "stdout",
     "output_type": "stream",
     "text": [
      "dscn6689_jpg.rf.d396b18953beffedf55ff8890f61e3bd.jpg\n",
      "tomato_early-blight_01_zoom_jpg.rf.af9558071e678f5c4ada230b95aef27f.jpg\n"
     ]
    },
    {
     "name": "stderr",
     "output_type": "stream",
     "text": [
      "image 1/1 /Users/pranav/AIML/CV/MyProjects/Plant Village Object Detection/Yolo/Plant_Village_dataset/test/images/tomato_early-blight_01_zoom_jpg.rf.af9558071e678f5c4ada230b95aef27f.jpg: 640x448 1 Potato leaf, 2 Tomato Early blight leafs, 2 Tomato leaf late blights, 108.8ms\n",
      "Speed: 1.3ms preprocess, 108.8ms inference, 0.4ms postprocess per image at shape (1, 3, 640, 448)\n",
      "Results saved to \u001b[1mruns/detect/predict2\u001b[0m\n",
      "\n",
      "image 1/1 /Users/pranav/AIML/CV/MyProjects/Plant Village Object Detection/Yolo/Plant_Village_dataset/test/images/phytophthora-infestans-late-blight-or-potato-blight-on-the-haulm-of-EHW1RD_jpg.rf.aae8384f4ced238b6bbbc9dbf30df381.jpg: 640x416 2 Apple Scab Leafs, 2 Potato leafs, 107.9ms\n",
      "Speed: 1.4ms preprocess, 107.9ms inference, 0.4ms postprocess per image at shape (1, 3, 640, 416)\n",
      "Results saved to \u001b[1mruns/detect/predict2\u001b[0m\n",
      "\n"
     ]
    },
    {
     "name": "stdout",
     "output_type": "stream",
     "text": [
      "phytophthora-infestans-late-blight-or-potato-blight-on-the-haulm-of-EHW1RD_jpg.rf.aae8384f4ced238b6bbbc9dbf30df381.jpg\n",
      "20180511_090912-14gtw8a-e1526047952754_jpg.rf.1de82fc329323d24df3845ae0a5fd876.jpg\n"
     ]
    },
    {
     "name": "stderr",
     "output_type": "stream",
     "text": [
      "image 1/1 /Users/pranav/AIML/CV/MyProjects/Plant Village Object Detection/Yolo/Plant_Village_dataset/test/images/20180511_090912-14gtw8a-e1526047952754_jpg.rf.1de82fc329323d24df3845ae0a5fd876.jpg: 640x384 (no detections), 132.8ms\n",
      "Speed: 3.0ms preprocess, 132.8ms inference, 0.3ms postprocess per image at shape (1, 3, 640, 384)\n",
      "Results saved to \u001b[1mruns/detect/predict2\u001b[0m\n",
      "\n",
      "image 1/1 /Users/pranav/AIML/CV/MyProjects/Plant Village Object Detection/Yolo/Plant_Village_dataset/test/images/irish-blight-symptoms-on-potato-leaves-atmf8b_jpg.rf.254e889fd637ab9ea268bdeab989297a.jpg: 448x640 2 Potato leaf late blights, 112.8ms\n",
      "Speed: 1.3ms preprocess, 112.8ms inference, 1.0ms postprocess per image at shape (1, 3, 448, 640)\n",
      "Results saved to \u001b[1mruns/detect/predict2\u001b[0m\n",
      "\n"
     ]
    },
    {
     "name": "stdout",
     "output_type": "stream",
     "text": [
      "irish-blight-symptoms-on-potato-leaves-atmf8b_jpg.rf.254e889fd637ab9ea268bdeab989297a.jpg\n",
      "GREEN-20BELL-20PLANT-20YELLOW-20LEAF_JPG_jpg.rf.89fadf08b5b9e9f811bdbb0ef4aebbbb.jpg\n"
     ]
    },
    {
     "name": "stderr",
     "output_type": "stream",
     "text": [
      "image 1/1 /Users/pranav/AIML/CV/MyProjects/Plant Village Object Detection/Yolo/Plant_Village_dataset/test/images/GREEN-20BELL-20PLANT-20YELLOW-20LEAF_JPG_jpg.rf.89fadf08b5b9e9f811bdbb0ef4aebbbb.jpg: 480x640 1 Bell_pepper leaf spot, 1 Soyabean leaf, 120.6ms\n",
      "Speed: 1.3ms preprocess, 120.6ms inference, 0.8ms postprocess per image at shape (1, 3, 480, 640)\n",
      "Results saved to \u001b[1mruns/detect/predict2\u001b[0m\n",
      "\n",
      "image 1/1 /Users/pranav/AIML/CV/MyProjects/Plant Village Object Detection/Yolo/Plant_Village_dataset/test/images/Raspberry-leaf_jpg.rf.48721a95382c80e8e9d2fb24721de9a3.jpg: 448x640 1 Raspberry leaf, 108.6ms\n",
      "Speed: 1.6ms preprocess, 108.6ms inference, 0.4ms postprocess per image at shape (1, 3, 448, 640)\n",
      "Results saved to \u001b[1mruns/detect/predict2\u001b[0m\n",
      "\n"
     ]
    },
    {
     "name": "stdout",
     "output_type": "stream",
     "text": [
      "Raspberry-leaf_jpg.rf.48721a95382c80e8e9d2fb24721de9a3.jpg\n",
      "0605_Rust-induced_leafspot_jpg.rf.6b3660d3693bdb31f3d3d43b1a7c5265.jpg\n"
     ]
    },
    {
     "name": "stderr",
     "output_type": "stream",
     "text": [
      "image 1/1 /Users/pranav/AIML/CV/MyProjects/Plant Village Object Detection/Yolo/Plant_Village_dataset/test/images/0605_Rust-induced_leafspot_jpg.rf.6b3660d3693bdb31f3d3d43b1a7c5265.jpg: 384x640 1 Bell_pepper leaf, 98.6ms\n",
      "Speed: 1.0ms preprocess, 98.6ms inference, 0.5ms postprocess per image at shape (1, 3, 384, 640)\n",
      "Results saved to \u001b[1mruns/detect/predict2\u001b[0m\n",
      "\n",
      "image 1/1 /Users/pranav/AIML/CV/MyProjects/Plant Village Object Detection/Yolo/Plant_Village_dataset/test/images/powdery-mildew-erysiphe-plantani-on-young-sycamore-leaves-b774tm_jpg.rf.5714e9a1fdbb25b85acc6e62ffb59f23.jpg: 640x640 1 Squash Powdery mildew leaf, 188.0ms\n",
      "Speed: 1.8ms preprocess, 188.0ms inference, 0.6ms postprocess per image at shape (1, 3, 640, 640)\n",
      "Results saved to \u001b[1mruns/detect/predict2\u001b[0m\n",
      "\n"
     ]
    },
    {
     "name": "stdout",
     "output_type": "stream",
     "text": [
      "powdery-mildew-erysiphe-plantani-on-young-sycamore-leaves-b774tm_jpg.rf.5714e9a1fdbb25b85acc6e62ffb59f23.jpg\n",
      "apple-leaf-isolated-white-background-56631026_jpg.rf.10dafe4204528cb153f34b68f43799fb.jpg\n"
     ]
    },
    {
     "name": "stderr",
     "output_type": "stream",
     "text": [
      "image 1/1 /Users/pranav/AIML/CV/MyProjects/Plant Village Object Detection/Yolo/Plant_Village_dataset/test/images/apple-leaf-isolated-white-background-56631026_jpg.rf.10dafe4204528cb153f34b68f43799fb.jpg: 576x640 1 Apple leaf, 146.5ms\n",
      "Speed: 2.9ms preprocess, 146.5ms inference, 0.5ms postprocess per image at shape (1, 3, 576, 640)\n",
      "Results saved to \u001b[1mruns/detect/predict2\u001b[0m\n",
      "\n",
      "image 1/1 /Users/pranav/AIML/CV/MyProjects/Plant Village Object Detection/Yolo/Plant_Village_dataset/test/images/0000_jpg.rf.d9be28abba2b4e67431ed005bdde14de.jpg: 640x640 1 grape leaf black rot, 151.8ms\n",
      "Speed: 1.9ms preprocess, 151.8ms inference, 0.6ms postprocess per image at shape (1, 3, 640, 640)\n",
      "Results saved to \u001b[1mruns/detect/predict2\u001b[0m\n",
      "\n"
     ]
    },
    {
     "name": "stdout",
     "output_type": "stream",
     "text": [
      "0000_jpg.rf.d9be28abba2b4e67431ed005bdde14de.jpg\n",
      "peach-leaf-10223898_jpg.rf.c6cd7c21802f07cf2527424fbcfe44fa.jpg\n"
     ]
    },
    {
     "name": "stderr",
     "output_type": "stream",
     "text": [
      "image 1/1 /Users/pranav/AIML/CV/MyProjects/Plant Village Object Detection/Yolo/Plant_Village_dataset/test/images/peach-leaf-10223898_jpg.rf.c6cd7c21802f07cf2527424fbcfe44fa.jpg: 640x480 1 Peach leaf, 126.8ms\n",
      "Speed: 1.7ms preprocess, 126.8ms inference, 0.6ms postprocess per image at shape (1, 3, 640, 480)\n",
      "Results saved to \u001b[1mruns/detect/predict2\u001b[0m\n",
      "\n",
      "image 1/1 /Users/pranav/AIML/CV/MyProjects/Plant Village Object Detection/Yolo/Plant_Village_dataset/test/images/tomato_V8_jpg.rf.72539f2761c20b8d8500058583ad5de4.jpg: 480x640 1 Tomato Early blight leaf, 1 Tomato leaf mosaic virus, 121.7ms\n",
      "Speed: 1.3ms preprocess, 121.7ms inference, 0.5ms postprocess per image at shape (1, 3, 480, 640)\n",
      "Results saved to \u001b[1mruns/detect/predict2\u001b[0m\n",
      "\n"
     ]
    },
    {
     "name": "stdout",
     "output_type": "stream",
     "text": [
      "tomato_V8_jpg.rf.72539f2761c20b8d8500058583ad5de4.jpg\n",
      "0c_jpg.rf.68645237a6789bad60b65ddfcff31bc1.jpg\n"
     ]
    },
    {
     "name": "stderr",
     "output_type": "stream",
     "text": [
      "image 1/1 /Users/pranav/AIML/CV/MyProjects/Plant Village Object Detection/Yolo/Plant_Village_dataset/test/images/0c_jpg.rf.68645237a6789bad60b65ddfcff31bc1.jpg: 288x640 1 Corn leaf blight, 78.0ms\n",
      "Speed: 0.9ms preprocess, 78.0ms inference, 0.6ms postprocess per image at shape (1, 3, 288, 640)\n",
      "Results saved to \u001b[1mruns/detect/predict2\u001b[0m\n",
      "\n",
      "image 1/1 /Users/pranav/AIML/CV/MyProjects/Plant Village Object Detection/Yolo/Plant_Village_dataset/test/images/early-blight-or-target-spot-alternaria-solani-lesions-on-a-tomato-AXK6AY_jpg.rf.0b4b8f7c83ab5ec22246f94bb12750a9.jpg: 544x640 1 Potato leaf late blight, 134.5ms\n",
      "Speed: 1.8ms preprocess, 134.5ms inference, 0.5ms postprocess per image at shape (1, 3, 544, 640)\n",
      "Results saved to \u001b[1mruns/detect/predict2\u001b[0m\n",
      "\n"
     ]
    },
    {
     "name": "stdout",
     "output_type": "stream",
     "text": [
      "early-blight-or-target-spot-alternaria-solani-lesions-on-a-tomato-AXK6AY_jpg.rf.0b4b8f7c83ab5ec22246f94bb12750a9.jpg\n",
      "RnGnC_jpg.rf.ef7efaef7a427dae468066c120e95cac.jpg\n"
     ]
    },
    {
     "name": "stderr",
     "output_type": "stream",
     "text": [
      "image 1/1 /Users/pranav/AIML/CV/MyProjects/Plant Village Object Detection/Yolo/Plant_Village_dataset/test/images/RnGnC_jpg.rf.ef7efaef7a427dae468066c120e95cac.jpg: 448x640 2 Bell_pepper leaf spots, 2 Tomato leaf bacterial spots, 115.3ms\n",
      "Speed: 1.9ms preprocess, 115.3ms inference, 0.6ms postprocess per image at shape (1, 3, 448, 640)\n",
      "Results saved to \u001b[1mruns/detect/predict2\u001b[0m\n",
      "\n",
      "image 1/1 /Users/pranav/AIML/CV/MyProjects/Plant Village Object Detection/Yolo/Plant_Village_dataset/test/images/black_leaf_mold_in_zina_tina_jpg.rf.3e3edbcc68557485f33ae46c3e881f89.jpg: 480x640 2 Tomato mold leafs, 127.2ms\n",
      "Speed: 1.5ms preprocess, 127.2ms inference, 0.7ms postprocess per image at shape (1, 3, 480, 640)\n",
      "Results saved to \u001b[1mruns/detect/predict2\u001b[0m\n",
      "\n"
     ]
    },
    {
     "name": "stdout",
     "output_type": "stream",
     "text": [
      "black_leaf_mold_in_zina_tina_jpg.rf.3e3edbcc68557485f33ae46c3e881f89.jpg\n",
      "-2320-Bacterial-Spot-and-Speck_jpg.rf.9d63c6e88cb474baa4d4eab1681f6d41.jpg\n"
     ]
    },
    {
     "name": "stderr",
     "output_type": "stream",
     "text": [
      "image 1/1 /Users/pranav/AIML/CV/MyProjects/Plant Village Object Detection/Yolo/Plant_Village_dataset/test/images/-2320-Bacterial-Spot-and-Speck_jpg.rf.9d63c6e88cb474baa4d4eab1681f6d41.jpg: 480x640 1 Tomato Septoria leaf spot, 123.6ms\n",
      "Speed: 1.6ms preprocess, 123.6ms inference, 0.6ms postprocess per image at shape (1, 3, 480, 640)\n",
      "Results saved to \u001b[1mruns/detect/predict2\u001b[0m\n",
      "\n",
      "image 1/1 /Users/pranav/AIML/CV/MyProjects/Plant Village Object Detection/Yolo/Plant_Village_dataset/test/images/backus-056-potato-blight_jpg.rf.70d8ec2e2694286e3c6093b405d2c7e5.jpg: 480x640 4 Potato leafs, 119.6ms\n",
      "Speed: 1.8ms preprocess, 119.6ms inference, 0.6ms postprocess per image at shape (1, 3, 480, 640)\n",
      "Results saved to \u001b[1mruns/detect/predict2\u001b[0m\n",
      "\n"
     ]
    },
    {
     "name": "stdout",
     "output_type": "stream",
     "text": [
      "backus-056-potato-blight_jpg.rf.70d8ec2e2694286e3c6093b405d2c7e5.jpg\n",
      "blueberry-leaves-normal-above-and-iron-deficient-below-bgahf8_jpg.rf.66d56706ad97faf7316b3696b2fa9759.jpg\n"
     ]
    },
    {
     "name": "stderr",
     "output_type": "stream",
     "text": [
      "image 1/1 /Users/pranav/AIML/CV/MyProjects/Plant Village Object Detection/Yolo/Plant_Village_dataset/test/images/blueberry-leaves-normal-above-and-iron-deficient-below-bgahf8_jpg.rf.66d56706ad97faf7316b3696b2fa9759.jpg: 640x480 2 Blueberry leafs, 141.3ms\n",
      "Speed: 1.4ms preprocess, 141.3ms inference, 0.6ms postprocess per image at shape (1, 3, 640, 480)\n",
      "Results saved to \u001b[1mruns/detect/predict2\u001b[0m\n",
      "\n",
      "image 1/1 /Users/pranav/AIML/CV/MyProjects/Plant Village Object Detection/Yolo/Plant_Village_dataset/test/images/Tom_Bact7_jpg.rf.723f1c9acfbdb1e36cc7276058b02f78.jpg: 448x640 3 Tomato leaf late blights, 123.6ms\n",
      "Speed: 1.1ms preprocess, 123.6ms inference, 0.6ms postprocess per image at shape (1, 3, 448, 640)\n",
      "Results saved to \u001b[1mruns/detect/predict2\u001b[0m\n",
      "\n"
     ]
    },
    {
     "name": "stdout",
     "output_type": "stream",
     "text": [
      "Tom_Bact7_jpg.rf.723f1c9acfbdb1e36cc7276058b02f78.jpg\n",
      "toma_TMV_jpg.rf.346d65c9c8c26956071224d548ee7017.jpg\n"
     ]
    },
    {
     "name": "stderr",
     "output_type": "stream",
     "text": [
      "image 1/1 /Users/pranav/AIML/CV/MyProjects/Plant Village Object Detection/Yolo/Plant_Village_dataset/test/images/toma_TMV_jpg.rf.346d65c9c8c26956071224d548ee7017.jpg: 448x640 3 Tomato leaf bacterial spots, 1 Tomato leaf yellow virus, 2 Tomato mold leafs, 124.8ms\n",
      "Speed: 1.3ms preprocess, 124.8ms inference, 0.4ms postprocess per image at shape (1, 3, 448, 640)\n",
      "Results saved to \u001b[1mruns/detect/predict2\u001b[0m\n",
      "\n",
      "image 1/1 /Users/pranav/AIML/CV/MyProjects/Plant Village Object Detection/Yolo/Plant_Village_dataset/test/images/Common-20Diseases-20Figure-201_JPG_jpg.rf.364ff33e1e45bf51c317f226596e3eb4.jpg: 640x384 1 Corn leaf blight, 107.2ms\n",
      "Speed: 1.1ms preprocess, 107.2ms inference, 0.4ms postprocess per image at shape (1, 3, 640, 384)\n",
      "Results saved to \u001b[1mruns/detect/predict2\u001b[0m\n",
      "\n"
     ]
    },
    {
     "name": "stdout",
     "output_type": "stream",
     "text": [
      "Common-20Diseases-20Figure-201_JPG_jpg.rf.364ff33e1e45bf51c317f226596e3eb4.jpg\n",
      "stock-photo-fresh-soy-leaves-isolated-on-white-94700095_jpg.rf.7b6c6f7d926a1b7839b2ad0142ec8c34.jpg\n"
     ]
    },
    {
     "name": "stderr",
     "output_type": "stream",
     "text": [
      "image 1/1 /Users/pranav/AIML/CV/MyProjects/Plant Village Object Detection/Yolo/Plant_Village_dataset/test/images/stock-photo-fresh-soy-leaves-isolated-on-white-94700095_jpg.rf.7b6c6f7d926a1b7839b2ad0142ec8c34.jpg: 640x640 1 Blueberry leaf, 1 Soyabean leaf, 160.0ms\n",
      "Speed: 1.7ms preprocess, 160.0ms inference, 0.4ms postprocess per image at shape (1, 3, 640, 640)\n",
      "Results saved to \u001b[1mruns/detect/predict2\u001b[0m\n",
      "\n"
     ]
    },
    {
     "name": "stdout",
     "output_type": "stream",
     "text": [
      "resistance1c_jpg.rf.e155b3f0d15d6141c93306feeb850a56.jpg\n"
     ]
    },
    {
     "name": "stderr",
     "output_type": "stream",
     "text": [
      "image 1/1 /Users/pranav/AIML/CV/MyProjects/Plant Village Object Detection/Yolo/Plant_Village_dataset/test/images/resistance1c_jpg.rf.e155b3f0d15d6141c93306feeb850a56.jpg: 640x448 (no detections), 254.2ms\n",
      "Speed: 1.4ms preprocess, 254.2ms inference, 0.3ms postprocess per image at shape (1, 3, 640, 448)\n",
      "Results saved to \u001b[1mruns/detect/predict2\u001b[0m\n",
      "\n"
     ]
    },
    {
     "name": "stdout",
     "output_type": "stream",
     "text": [
      "potato-blight-phytophthora-infestans-close-up-of-upper-surface-of-BMMRXC_jpg.rf.6bdbd6977aa5aae4228c5c50d2ca6c3b.jpg\n"
     ]
    },
    {
     "name": "stderr",
     "output_type": "stream",
     "text": [
      "image 1/1 /Users/pranav/AIML/CV/MyProjects/Plant Village Object Detection/Yolo/Plant_Village_dataset/test/images/potato-blight-phytophthora-infestans-close-up-of-upper-surface-of-BMMRXC_jpg.rf.6bdbd6977aa5aae4228c5c50d2ca6c3b.jpg: 480x640 1 Tomato mold leaf, 238.0ms\n",
      "Speed: 4.3ms preprocess, 238.0ms inference, 0.6ms postprocess per image at shape (1, 3, 480, 640)\n",
      "Results saved to \u001b[1mruns/detect/predict2\u001b[0m\n",
      "\n",
      "image 1/1 /Users/pranav/AIML/CV/MyProjects/Plant Village Object Detection/Yolo/Plant_Village_dataset/test/images/apples_apple-scab_02_thm_jpg.rf.e18ddff12303d35189e4b2a94e909ce2.jpg: 480x640 1 Apple Scab Leaf, 1 Tomato leaf late blight, 165.4ms\n",
      "Speed: 3.4ms preprocess, 165.4ms inference, 0.6ms postprocess per image at shape (1, 3, 480, 640)\n",
      "Results saved to \u001b[1mruns/detect/predict2\u001b[0m\n",
      "\n"
     ]
    },
    {
     "name": "stdout",
     "output_type": "stream",
     "text": [
      "apples_apple-scab_02_thm_jpg.rf.e18ddff12303d35189e4b2a94e909ce2.jpg\n",
      "depositphotos_3786198-Peach-leaf_jpg.rf.1a9c0350297b126fd4ffd308eccae43d.jpg\n"
     ]
    },
    {
     "name": "stderr",
     "output_type": "stream",
     "text": [
      "image 1/1 /Users/pranav/AIML/CV/MyProjects/Plant Village Object Detection/Yolo/Plant_Village_dataset/test/images/depositphotos_3786198-Peach-leaf_jpg.rf.1a9c0350297b126fd4ffd308eccae43d.jpg: 640x640 1 Peach leaf, 206.5ms\n",
      "Speed: 4.7ms preprocess, 206.5ms inference, 0.4ms postprocess per image at shape (1, 3, 640, 640)\n",
      "Results saved to \u001b[1mruns/detect/predict2\u001b[0m\n",
      "\n",
      "image 1/1 /Users/pranav/AIML/CV/MyProjects/Plant Village Object Detection/Yolo/Plant_Village_dataset/test/images/5-29black-rot-chardRR_jpg.rf.972bdba15332ddeca972a6aa42f30e5f.jpg: 448x640 1 grape leaf, 186.3ms\n",
      "Speed: 1.2ms preprocess, 186.3ms inference, 0.4ms postprocess per image at shape (1, 3, 448, 640)\n",
      "Results saved to \u001b[1mruns/detect/predict2\u001b[0m\n",
      "\n"
     ]
    },
    {
     "name": "stdout",
     "output_type": "stream",
     "text": [
      "5-29black-rot-chardRR_jpg.rf.972bdba15332ddeca972a6aa42f30e5f.jpg\n",
      "pix053_jpg.rf.26a16548140d500fdfe285209df445ba.jpg\n"
     ]
    },
    {
     "name": "stderr",
     "output_type": "stream",
     "text": [
      "image 1/1 /Users/pranav/AIML/CV/MyProjects/Plant Village Object Detection/Yolo/Plant_Village_dataset/test/images/pix053_jpg.rf.26a16548140d500fdfe285209df445ba.jpg: 640x544 1 Apple rust leaf, 180.5ms\n",
      "Speed: 2.7ms preprocess, 180.5ms inference, 0.4ms postprocess per image at shape (1, 3, 640, 544)\n",
      "Results saved to \u001b[1mruns/detect/predict2\u001b[0m\n",
      "\n",
      "image 1/1 /Users/pranav/AIML/CV/MyProjects/Plant Village Object Detection/Yolo/Plant_Village_dataset/test/images/vaccinium_angustifolium_leaf2_JPG_jpg.rf.09c060302bc02112e8cacd53d13d9302.jpg: 640x448 1 Blueberry leaf, 150.4ms\n",
      "Speed: 1.7ms preprocess, 150.4ms inference, 0.4ms postprocess per image at shape (1, 3, 640, 448)\n",
      "Results saved to \u001b[1mruns/detect/predict2\u001b[0m\n",
      "\n"
     ]
    },
    {
     "name": "stdout",
     "output_type": "stream",
     "text": [
      "vaccinium_angustifolium_leaf2_JPG_jpg.rf.09c060302bc02112e8cacd53d13d9302.jpg\n",
      "apple-leaf-closeup-37636177_jpg.rf.fc331b95cc97bf86fb9966e7466c16e8.jpg\n"
     ]
    },
    {
     "name": "stderr",
     "output_type": "stream",
     "text": [
      "image 1/1 /Users/pranav/AIML/CV/MyProjects/Plant Village Object Detection/Yolo/Plant_Village_dataset/test/images/apple-leaf-closeup-37636177_jpg.rf.fc331b95cc97bf86fb9966e7466c16e8.jpg: 480x640 1 Apple leaf, 153.0ms\n",
      "Speed: 1.7ms preprocess, 153.0ms inference, 0.5ms postprocess per image at shape (1, 3, 480, 640)\n",
      "Results saved to \u001b[1mruns/detect/predict2\u001b[0m\n",
      "\n",
      "image 1/1 /Users/pranav/AIML/CV/MyProjects/Plant Village Object Detection/Yolo/Plant_Village_dataset/test/images/00_jpg.rf.567521ea9c2d0153cb8b96c5bd18e692.jpg: 480x640 1 Tomato leaf late blight, 159.3ms\n",
      "Speed: 1.5ms preprocess, 159.3ms inference, 0.5ms postprocess per image at shape (1, 3, 480, 640)\n",
      "Results saved to \u001b[1mruns/detect/predict2\u001b[0m\n",
      "\n"
     ]
    },
    {
     "name": "stdout",
     "output_type": "stream",
     "text": [
      "00_jpg.rf.567521ea9c2d0153cb8b96c5bd18e692.jpg\n",
      "LateBlt09_06_jpg.rf.4e7f44f2c62af8e679bf830e9fe52d7d.jpg\n"
     ]
    },
    {
     "name": "stderr",
     "output_type": "stream",
     "text": [
      "image 1/1 /Users/pranav/AIML/CV/MyProjects/Plant Village Object Detection/Yolo/Plant_Village_dataset/test/images/LateBlt09_06_jpg.rf.4e7f44f2c62af8e679bf830e9fe52d7d.jpg: 448x640 1 Tomato leaf bacterial spot, 1 Tomato leaf mosaic virus, 1 Tomato mold leaf, 139.1ms\n",
      "Speed: 1.2ms preprocess, 139.1ms inference, 0.6ms postprocess per image at shape (1, 3, 448, 640)\n",
      "Results saved to \u001b[1mruns/detect/predict2\u001b[0m\n",
      "\n",
      "image 1/1 /Users/pranav/AIML/CV/MyProjects/Plant Village Object Detection/Yolo/Plant_Village_dataset/test/images/grape-leaf-picture-id119212425-k-6-m-119212425-s-612x612-w-0-h-8RZBWGcvXe4tAwhhvYZVFzWyRyiN5iTxKfWBpPT1FcU-_jpg.rf.ab68626cd9848226837cabbad5a85868.jpg: 640x512 1 grape leaf black rot, 159.1ms\n",
      "Speed: 1.5ms preprocess, 159.1ms inference, 0.5ms postprocess per image at shape (1, 3, 640, 512)\n",
      "Results saved to \u001b[1mruns/detect/predict2\u001b[0m\n",
      "\n"
     ]
    },
    {
     "name": "stdout",
     "output_type": "stream",
     "text": [
      "grape-leaf-picture-id119212425-k-6-m-119212425-s-612x612-w-0-h-8RZBWGcvXe4tAwhhvYZVFzWyRyiN5iTxKfWBpPT1FcU-_jpg.rf.ab68626cd9848226837cabbad5a85868.jpg\n",
      "leaves-of-raspberry-stock-picture-2529053_jpg.rf.88f6076f29ad669efbff67def3d4f5d5.jpg\n"
     ]
    },
    {
     "name": "stderr",
     "output_type": "stream",
     "text": [
      "image 1/1 /Users/pranav/AIML/CV/MyProjects/Plant Village Object Detection/Yolo/Plant_Village_dataset/test/images/leaves-of-raspberry-stock-picture-2529053_jpg.rf.88f6076f29ad669efbff67def3d4f5d5.jpg: 640x512 3 Raspberry leafs, 174.0ms\n",
      "Speed: 2.3ms preprocess, 174.0ms inference, 0.4ms postprocess per image at shape (1, 3, 640, 512)\n",
      "Results saved to \u001b[1mruns/detect/predict2\u001b[0m\n",
      "\n",
      "image 1/1 /Users/pranav/AIML/CV/MyProjects/Plant Village Object Detection/Yolo/Plant_Village_dataset/test/images/main-qimg-d9c2a93f60568485c989670d9bbf703b_jpg.rf.0ee0c7ca6ab930037daafd708b829821.jpg: 512x640 3 Tomato leaf bacterial spots, 162.9ms\n",
      "Speed: 1.6ms preprocess, 162.9ms inference, 0.5ms postprocess per image at shape (1, 3, 512, 640)\n",
      "Results saved to \u001b[1mruns/detect/predict2\u001b[0m\n",
      "\n"
     ]
    },
    {
     "name": "stdout",
     "output_type": "stream",
     "text": [
      "main-qimg-d9c2a93f60568485c989670d9bbf703b_jpg.rf.0ee0c7ca6ab930037daafd708b829821.jpg\n",
      "Soybean-20edamame-20leaf1_JPG_jpg.rf.25a505403e245004737af2604d4bf544.jpg\n"
     ]
    },
    {
     "name": "stderr",
     "output_type": "stream",
     "text": [
      "image 1/1 /Users/pranav/AIML/CV/MyProjects/Plant Village Object Detection/Yolo/Plant_Village_dataset/test/images/Soybean-20edamame-20leaf1_JPG_jpg.rf.25a505403e245004737af2604d4bf544.jpg: 512x640 3 Soyabean leafs, 166.3ms\n",
      "Speed: 2.2ms preprocess, 166.3ms inference, 0.4ms postprocess per image at shape (1, 3, 512, 640)\n",
      "Results saved to \u001b[1mruns/detect/predict2\u001b[0m\n",
      "\n",
      "image 1/1 /Users/pranav/AIML/CV/MyProjects/Plant Village Object Detection/Yolo/Plant_Village_dataset/test/images/1355_50commonrust_jpg.rf.5e39253a5b16a2fff9ebd6debfc2e7c0.jpg: 640x448 1 Corn rust leaf, 159.9ms\n",
      "Speed: 2.2ms preprocess, 159.9ms inference, 0.9ms postprocess per image at shape (1, 3, 640, 448)\n",
      "Results saved to \u001b[1mruns/detect/predict2\u001b[0m\n",
      "\n"
     ]
    },
    {
     "name": "stdout",
     "output_type": "stream",
     "text": [
      "1355_50commonrust_jpg.rf.5e39253a5b16a2fff9ebd6debfc2e7c0.jpg\n",
      "Bacterial_spots563_jpg.rf.95cb38fca74dd6af32da52d30a565927.jpg\n"
     ]
    },
    {
     "name": "stderr",
     "output_type": "stream",
     "text": [
      "image 1/1 /Users/pranav/AIML/CV/MyProjects/Plant Village Object Detection/Yolo/Plant_Village_dataset/test/images/Bacterial_spots563_jpg.rf.95cb38fca74dd6af32da52d30a565927.jpg: 480x640 1 Potato leaf late blight, 2 Tomato leaf late blights, 1 Tomato leaf mosaic virus, 160.3ms\n",
      "Speed: 1.4ms preprocess, 160.3ms inference, 0.4ms postprocess per image at shape (1, 3, 480, 640)\n",
      "Results saved to \u001b[1mruns/detect/predict2\u001b[0m\n",
      "\n",
      "image 1/1 /Users/pranav/AIML/CV/MyProjects/Plant Village Object Detection/Yolo/Plant_Village_dataset/test/images/20090710-lateblight_jpg.rf.f4b52d7b5173b423d692e6d17fd925d0.jpg: 480x640 1 Tomato leaf mosaic virus, 160.9ms\n",
      "Speed: 1.3ms preprocess, 160.9ms inference, 0.4ms postprocess per image at shape (1, 3, 480, 640)\n",
      "Results saved to \u001b[1mruns/detect/predict2\u001b[0m\n",
      "\n"
     ]
    },
    {
     "name": "stdout",
     "output_type": "stream",
     "text": [
      "20090710-lateblight_jpg.rf.f4b52d7b5173b423d692e6d17fd925d0.jpg\n",
      "dscn3175_jpg.rf.9cf7783c3ec23c4f4afc920c1a334910.jpg\n"
     ]
    },
    {
     "name": "stderr",
     "output_type": "stream",
     "text": [
      "image 1/1 /Users/pranav/AIML/CV/MyProjects/Plant Village Object Detection/Yolo/Plant_Village_dataset/test/images/dscn3175_jpg.rf.9cf7783c3ec23c4f4afc920c1a334910.jpg: 480x640 3 Tomato leaf mosaic viruss, 164.6ms\n",
      "Speed: 2.0ms preprocess, 164.6ms inference, 0.6ms postprocess per image at shape (1, 3, 480, 640)\n",
      "Results saved to \u001b[1mruns/detect/predict2\u001b[0m\n",
      "\n",
      "image 1/1 /Users/pranav/AIML/CV/MyProjects/Plant Village Object Detection/Yolo/Plant_Village_dataset/test/images/6134794031202304_jpeg_jpg.rf.572776d10bbb137bdf33326aeddd9cb1.jpg: 640x480 1 Tomato Septoria leaf spot, 2 Tomato leaf late blights, 142.9ms\n",
      "Speed: 1.5ms preprocess, 142.9ms inference, 0.6ms postprocess per image at shape (1, 3, 640, 480)\n",
      "Results saved to \u001b[1mruns/detect/predict2\u001b[0m\n",
      "\n"
     ]
    },
    {
     "name": "stdout",
     "output_type": "stream",
     "text": [
      "6134794031202304_jpeg_jpg.rf.572776d10bbb137bdf33326aeddd9cb1.jpg\n",
      "2540_600_jpg.rf.0868234a16426ddf6d6df0b005cc1203.jpg\n"
     ]
    },
    {
     "name": "stderr",
     "output_type": "stream",
     "text": [
      "image 1/1 /Users/pranav/AIML/CV/MyProjects/Plant Village Object Detection/Yolo/Plant_Village_dataset/test/images/2540_600_jpg.rf.0868234a16426ddf6d6df0b005cc1203.jpg: 640x544 1 Potato leaf, 158.9ms\n",
      "Speed: 1.8ms preprocess, 158.9ms inference, 0.5ms postprocess per image at shape (1, 3, 640, 544)\n",
      "Results saved to \u001b[1mruns/detect/predict2\u001b[0m\n",
      "\n",
      "image 1/1 /Users/pranav/AIML/CV/MyProjects/Plant Village Object Detection/Yolo/Plant_Village_dataset/test/images/1234080-Early-Blight_jpg.rf.7469b645518cc644160fb3e2dd7616ba.jpg: 640x640 1 Tomato leaf late blight, 185.4ms\n",
      "Speed: 3.3ms preprocess, 185.4ms inference, 0.6ms postprocess per image at shape (1, 3, 640, 640)\n",
      "Results saved to \u001b[1mruns/detect/predict2\u001b[0m\n",
      "\n"
     ]
    },
    {
     "name": "stdout",
     "output_type": "stream",
     "text": [
      "1234080-Early-Blight_jpg.rf.7469b645518cc644160fb3e2dd7616ba.jpg\n",
      "potato-early-blight-alternaria-alternata-lesion-on-a-potato-leaf-a1w1em_jpg.rf.f01e6408169c03aa8bf4a0224b5348a8.jpg\n"
     ]
    },
    {
     "name": "stderr",
     "output_type": "stream",
     "text": [
      "image 1/1 /Users/pranav/AIML/CV/MyProjects/Plant Village Object Detection/Yolo/Plant_Village_dataset/test/images/potato-early-blight-alternaria-alternata-lesion-on-a-potato-leaf-a1w1em_jpg.rf.f01e6408169c03aa8bf4a0224b5348a8.jpg: 608x640 3 Potato leaf late blights, 170.0ms\n",
      "Speed: 1.8ms preprocess, 170.0ms inference, 0.5ms postprocess per image at shape (1, 3, 608, 640)\n",
      "Results saved to \u001b[1mruns/detect/predict2\u001b[0m\n",
      "\n",
      "image 1/1 /Users/pranav/AIML/CV/MyProjects/Plant Village Object Detection/Yolo/Plant_Village_dataset/test/images/potatobd001_jpg.rf.95c1a7efd6b018c7fcc7c417aaa20564.jpg: 448x640 1 Potato leaf late blight, 132.8ms\n",
      "Speed: 1.1ms preprocess, 132.8ms inference, 0.5ms postprocess per image at shape (1, 3, 448, 640)\n",
      "Results saved to \u001b[1mruns/detect/predict2\u001b[0m\n",
      "\n"
     ]
    },
    {
     "name": "stdout",
     "output_type": "stream",
     "text": [
      "potatobd001_jpg.rf.95c1a7efd6b018c7fcc7c417aaa20564.jpg\n",
      "sept4disease-019_jpg.rf.ba2802c1101091c3672e51c65aee99c4.jpg\n"
     ]
    },
    {
     "name": "stderr",
     "output_type": "stream",
     "text": [
      "image 1/1 /Users/pranav/AIML/CV/MyProjects/Plant Village Object Detection/Yolo/Plant_Village_dataset/test/images/sept4disease-019_jpg.rf.ba2802c1101091c3672e51c65aee99c4.jpg: 512x640 1 Potato leaf late blight, 165.4ms\n",
      "Speed: 2.0ms preprocess, 165.4ms inference, 0.5ms postprocess per image at shape (1, 3, 512, 640)\n",
      "Results saved to \u001b[1mruns/detect/predict2\u001b[0m\n",
      "\n",
      "image 1/1 /Users/pranav/AIML/CV/MyProjects/Plant Village Object Detection/Yolo/Plant_Village_dataset/test/images/rsz0803Figure6_jpg.rf.97afe9297dab5309880ddd9f4bf05c2f.jpg: 448x640 1 Corn leaf blight, 135.8ms\n",
      "Speed: 1.6ms preprocess, 135.8ms inference, 0.6ms postprocess per image at shape (1, 3, 448, 640)\n",
      "Results saved to \u001b[1mruns/detect/predict2\u001b[0m\n",
      "\n"
     ]
    },
    {
     "name": "stdout",
     "output_type": "stream",
     "text": [
      "rsz0803Figure6_jpg.rf.97afe9297dab5309880ddd9f4bf05c2f.jpg\n",
      "Tomato_leaf_jpg.rf.64059776578fc9ef95fe5ac2a8d2a76e.jpg\n"
     ]
    },
    {
     "name": "stderr",
     "output_type": "stream",
     "text": [
      "image 1/1 /Users/pranav/AIML/CV/MyProjects/Plant Village Object Detection/Yolo/Plant_Village_dataset/test/images/Tomato_leaf_jpg.rf.64059776578fc9ef95fe5ac2a8d2a76e.jpg: 640x640 1 Tomato leaf bacterial spot, 1 Tomato mold leaf, 180.0ms\n",
      "Speed: 2.3ms preprocess, 180.0ms inference, 0.4ms postprocess per image at shape (1, 3, 640, 640)\n",
      "Results saved to \u001b[1mruns/detect/predict2\u001b[0m\n",
      "\n",
      "image 1/1 /Users/pranav/AIML/CV/MyProjects/Plant Village Object Detection/Yolo/Plant_Village_dataset/test/images/five-cherry-tree-green-leaves-white-isolated-background-34493587_jpg.rf.3a5b4d01b7bc472fe3a73c45d2ddec1a.jpg: 640x512 2 Apple leafs, 1 Peach leaf, 154.9ms\n",
      "Speed: 2.0ms preprocess, 154.9ms inference, 0.9ms postprocess per image at shape (1, 3, 640, 512)\n",
      "Results saved to \u001b[1mruns/detect/predict2\u001b[0m\n",
      "\n"
     ]
    },
    {
     "name": "stdout",
     "output_type": "stream",
     "text": [
      "five-cherry-tree-green-leaves-white-isolated-background-34493587_jpg.rf.3a5b4d01b7bc472fe3a73c45d2ddec1a.jpg\n",
      "grapes-leaves_jpg.rf.f1aa3d83625702417e8b4391ff4dda40.jpg\n"
     ]
    },
    {
     "name": "stderr",
     "output_type": "stream",
     "text": [
      "image 1/1 /Users/pranav/AIML/CV/MyProjects/Plant Village Object Detection/Yolo/Plant_Village_dataset/test/images/grapes-leaves_jpg.rf.f1aa3d83625702417e8b4391ff4dda40.jpg: 480x640 2 grape leaf black rots, 145.2ms\n",
      "Speed: 1.6ms preprocess, 145.2ms inference, 0.4ms postprocess per image at shape (1, 3, 480, 640)\n",
      "Results saved to \u001b[1mruns/detect/predict2\u001b[0m\n",
      "\n",
      "image 1/1 /Users/pranav/AIML/CV/MyProjects/Plant Village Object Detection/Yolo/Plant_Village_dataset/test/images/depositphotos_1323551-stock-photo-raspberry-leaves_jpg.rf.4aa6de01f9956be9799aa08911c26ce6.jpg: 640x640 3 Strawberry leafs, 186.5ms\n",
      "Speed: 2.9ms preprocess, 186.5ms inference, 0.5ms postprocess per image at shape (1, 3, 640, 640)\n",
      "Results saved to \u001b[1mruns/detect/predict2\u001b[0m\n",
      "\n"
     ]
    },
    {
     "name": "stdout",
     "output_type": "stream",
     "text": [
      "depositphotos_1323551-stock-photo-raspberry-leaves_jpg.rf.4aa6de01f9956be9799aa08911c26ce6.jpg\n",
      "99e886623c2080c22f6519b0e708c531_jpg.rf.ba41425df73c1472a13a7acac1385cb6.jpg\n"
     ]
    },
    {
     "name": "stderr",
     "output_type": "stream",
     "text": [
      "image 1/1 /Users/pranav/AIML/CV/MyProjects/Plant Village Object Detection/Yolo/Plant_Village_dataset/test/images/99e886623c2080c22f6519b0e708c531_jpg.rf.ba41425df73c1472a13a7acac1385cb6.jpg: 448x640 2 Apple rust leafs, 140.9ms\n",
      "Speed: 1.4ms preprocess, 140.9ms inference, 0.4ms postprocess per image at shape (1, 3, 448, 640)\n",
      "Results saved to \u001b[1mruns/detect/predict2\u001b[0m\n",
      "\n",
      "image 1/1 /Users/pranav/AIML/CV/MyProjects/Plant Village Object Detection/Yolo/Plant_Village_dataset/test/images/Tomato-2BBacterial-2BSpot-2Bon-2BLeaves_jpg.rf.dd03839a0d3fa6e335bcf0cad9a758cc.jpg: 352x640 1 Tomato Septoria leaf spot, 119.5ms\n",
      "Speed: 1.3ms preprocess, 119.5ms inference, 1.5ms postprocess per image at shape (1, 3, 352, 640)\n",
      "Results saved to \u001b[1mruns/detect/predict2\u001b[0m\n",
      "\n"
     ]
    },
    {
     "name": "stdout",
     "output_type": "stream",
     "text": [
      "Tomato-2BBacterial-2BSpot-2Bon-2BLeaves_jpg.rf.dd03839a0d3fa6e335bcf0cad9a758cc.jpg\n",
      "e33155_jpg.rf.92e8f62eb8d59383ea2e4beafeb3a282.jpg\n"
     ]
    },
    {
     "name": "stderr",
     "output_type": "stream",
     "text": [
      "image 1/1 /Users/pranav/AIML/CV/MyProjects/Plant Village Object Detection/Yolo/Plant_Village_dataset/test/images/e33155_jpg.rf.92e8f62eb8d59383ea2e4beafeb3a282.jpg: 480x640 4 Bell_pepper leaf spots, 143.7ms\n",
      "Speed: 1.5ms preprocess, 143.7ms inference, 0.4ms postprocess per image at shape (1, 3, 480, 640)\n",
      "Results saved to \u001b[1mruns/detect/predict2\u001b[0m\n",
      "\n",
      "image 1/1 /Users/pranav/AIML/CV/MyProjects/Plant Village Object Detection/Yolo/Plant_Village_dataset/test/images/bacterial_leaf_spot_pepper_l_jpg.rf.d78304d5491cc305134333dc5af1fc1e.jpg: 480x640 (no detections), 142.4ms\n",
      "Speed: 1.5ms preprocess, 142.4ms inference, 0.5ms postprocess per image at shape (1, 3, 480, 640)\n",
      "Results saved to \u001b[1mruns/detect/predict2\u001b[0m\n",
      "\n"
     ]
    },
    {
     "name": "stdout",
     "output_type": "stream",
     "text": [
      "bacterial_leaf_spot_pepper_l_jpg.rf.d78304d5491cc305134333dc5af1fc1e.jpg\n",
      "apple-scab-5366820_jpg.rf.72e45867d16d14736861803890774236.jpg\n"
     ]
    },
    {
     "name": "stderr",
     "output_type": "stream",
     "text": [
      "image 1/1 /Users/pranav/AIML/CV/MyProjects/Plant Village Object Detection/Yolo/Plant_Village_dataset/test/images/apple-scab-5366820_jpg.rf.72e45867d16d14736861803890774236.jpg: 544x640 2 Apple Scab Leafs, 159.7ms\n",
      "Speed: 1.5ms preprocess, 159.7ms inference, 0.6ms postprocess per image at shape (1, 3, 544, 640)\n",
      "Results saved to \u001b[1mruns/detect/predict2\u001b[0m\n",
      "\n",
      "image 1/1 /Users/pranav/AIML/CV/MyProjects/Plant Village Object Detection/Yolo/Plant_Village_dataset/test/images/07_17_18-Common_Tomato_Diseases_Canker-258x300_jpg.rf.a0d5fcd5473162b82bfb860c56710ef6.jpg: 640x576 1 Tomato leaf late blight, 169.2ms\n",
      "Speed: 1.5ms preprocess, 169.2ms inference, 0.4ms postprocess per image at shape (1, 3, 640, 576)\n",
      "Results saved to \u001b[1mruns/detect/predict2\u001b[0m\n",
      "\n"
     ]
    },
    {
     "name": "stdout",
     "output_type": "stream",
     "text": [
      "07_17_18-Common_Tomato_Diseases_Canker-258x300_jpg.rf.a0d5fcd5473162b82bfb860c56710ef6.jpg\n",
      "Corn-SCLB-2017-1_jpg.rf.51f8ecd030faf087d1f8adbd517043a1.jpg\n"
     ]
    },
    {
     "name": "stderr",
     "output_type": "stream",
     "text": [
      "image 1/1 /Users/pranav/AIML/CV/MyProjects/Plant Village Object Detection/Yolo/Plant_Village_dataset/test/images/Corn-SCLB-2017-1_jpg.rf.51f8ecd030faf087d1f8adbd517043a1.jpg: 640x448 1 Corn Gray leaf spot, 1 Corn leaf blight, 139.0ms\n",
      "Speed: 2.5ms preprocess, 139.0ms inference, 0.6ms postprocess per image at shape (1, 3, 640, 448)\n",
      "Results saved to \u001b[1mruns/detect/predict2\u001b[0m\n",
      "\n",
      "image 1/1 /Users/pranav/AIML/CV/MyProjects/Plant Village Object Detection/Yolo/Plant_Village_dataset/test/images/powdery-mildew-on-pumpkin-leaves-close-up-2_jpg.rf.3ddaebc0233997d1edb6d312ff402018.jpg: 480x640 1 Squash Powdery mildew leaf, 149.9ms\n",
      "Speed: 3.0ms preprocess, 149.9ms inference, 1.1ms postprocess per image at shape (1, 3, 480, 640)\n",
      "Results saved to \u001b[1mruns/detect/predict2\u001b[0m\n",
      "\n"
     ]
    },
    {
     "name": "stdout",
     "output_type": "stream",
     "text": [
      "powdery-mildew-on-pumpkin-leaves-close-up-2_jpg.rf.3ddaebc0233997d1edb6d312ff402018.jpg\n",
      "bact-spot-fig-1_jpg.rf.33ace5ea50f65402438b7df6efbf57cc.jpg\n"
     ]
    },
    {
     "name": "stderr",
     "output_type": "stream",
     "text": [
      "image 1/1 /Users/pranav/AIML/CV/MyProjects/Plant Village Object Detection/Yolo/Plant_Village_dataset/test/images/bact-spot-fig-1_jpg.rf.33ace5ea50f65402438b7df6efbf57cc.jpg: 448x640 1 Bell_pepper leaf, 138.7ms\n",
      "Speed: 2.2ms preprocess, 138.7ms inference, 0.8ms postprocess per image at shape (1, 3, 448, 640)\n",
      "Results saved to \u001b[1mruns/detect/predict2\u001b[0m\n",
      "\n",
      "image 1/1 /Users/pranav/AIML/CV/MyProjects/Plant Village Object Detection/Yolo/Plant_Village_dataset/test/images/strawberry-leaf-stock-photo-1431216_jpg.rf.5412d7418958c093c73e7f7380103798.jpg: 640x640 3 Strawberry leafs, 179.9ms\n",
      "Speed: 2.7ms preprocess, 179.9ms inference, 0.8ms postprocess per image at shape (1, 3, 640, 640)\n",
      "Results saved to \u001b[1mruns/detect/predict2\u001b[0m\n",
      "\n"
     ]
    },
    {
     "name": "stdout",
     "output_type": "stream",
     "text": [
      "strawberry-leaf-stock-photo-1431216_jpg.rf.5412d7418958c093c73e7f7380103798.jpg\n",
      "powdery-mildew-sphaerotheca-fuliginea-infection-on-pumpkin-leaves-ajdkkx_jpg.rf.7d4af6106bcd8af54d4114a6010f73fd.jpg\n"
     ]
    },
    {
     "name": "stderr",
     "output_type": "stream",
     "text": [
      "image 1/1 /Users/pranav/AIML/CV/MyProjects/Plant Village Object Detection/Yolo/Plant_Village_dataset/test/images/powdery-mildew-sphaerotheca-fuliginea-infection-on-pumpkin-leaves-ajdkkx_jpg.rf.7d4af6106bcd8af54d4114a6010f73fd.jpg: 480x640 1 Squash Powdery mildew leaf, 131.7ms\n",
      "Speed: 1.6ms preprocess, 131.7ms inference, 0.6ms postprocess per image at shape (1, 3, 480, 640)\n",
      "Results saved to \u001b[1mruns/detect/predict2\u001b[0m\n",
      "\n",
      "image 1/1 /Users/pranav/AIML/CV/MyProjects/Plant Village Object Detection/Yolo/Plant_Village_dataset/test/images/ill-tomato-of-tomato-mosaic-virus-DBE17N_jpg.rf.d8e1b8cc53cfe66c00e6053a7cc5ee29.jpg: 480x640 1 Tomato leaf bacterial spot, 2 Tomato leaf yellow viruss, 1 Tomato leaf, 120.5ms\n",
      "Speed: 1.7ms preprocess, 120.5ms inference, 0.5ms postprocess per image at shape (1, 3, 480, 640)\n",
      "Results saved to \u001b[1mruns/detect/predict2\u001b[0m\n",
      "\n"
     ]
    },
    {
     "name": "stdout",
     "output_type": "stream",
     "text": [
      "ill-tomato-of-tomato-mosaic-virus-DBE17N_jpg.rf.d8e1b8cc53cfe66c00e6053a7cc5ee29.jpg\n",
      "P1200665-Vaccinium-alaskaense-vs-ovalifolium-leaf-and-twig-cr_jpg.rf.a752e824ac003adc816868b6c73bebe6.jpg\n"
     ]
    },
    {
     "name": "stderr",
     "output_type": "stream",
     "text": [
      "image 1/1 /Users/pranav/AIML/CV/MyProjects/Plant Village Object Detection/Yolo/Plant_Village_dataset/test/images/P1200665-Vaccinium-alaskaense-vs-ovalifolium-leaf-and-twig-cr_jpg.rf.a752e824ac003adc816868b6c73bebe6.jpg: 480x640 2 Blueberry leafs, 109.6ms\n",
      "Speed: 1.7ms preprocess, 109.6ms inference, 0.4ms postprocess per image at shape (1, 3, 480, 640)\n",
      "Results saved to \u001b[1mruns/detect/predict2\u001b[0m\n",
      "\n",
      "image 1/1 /Users/pranav/AIML/CV/MyProjects/Plant Village Object Detection/Yolo/Plant_Village_dataset/test/images/fresh-soy-leaves-isolated-on-260nw-667193923_jpg.rf.f8bb3b073948c0a6abff06d63c69acb6.jpg: 576x640 1 Strawberry leaf, 121.5ms\n",
      "Speed: 1.4ms preprocess, 121.5ms inference, 0.6ms postprocess per image at shape (1, 3, 576, 640)\n",
      "Results saved to \u001b[1mruns/detect/predict2\u001b[0m\n",
      "\n"
     ]
    },
    {
     "name": "stdout",
     "output_type": "stream",
     "text": [
      "fresh-soy-leaves-isolated-on-260nw-667193923_jpg.rf.f8bb3b073948c0a6abff06d63c69acb6.jpg\n",
      "Black-20rot-20on-20foliage2_jpg.rf.2e0322eb4c84dca36ff088362110e8ee.jpg\n"
     ]
    },
    {
     "name": "stderr",
     "output_type": "stream",
     "text": [
      "image 1/1 /Users/pranav/AIML/CV/MyProjects/Plant Village Object Detection/Yolo/Plant_Village_dataset/test/images/Black-20rot-20on-20foliage2_jpg.rf.2e0322eb4c84dca36ff088362110e8ee.jpg: 480x640 2 grape leafs, 122.7ms\n",
      "Speed: 1.9ms preprocess, 122.7ms inference, 0.5ms postprocess per image at shape (1, 3, 480, 640)\n",
      "Results saved to \u001b[1mruns/detect/predict2\u001b[0m\n",
      "\n",
      "image 1/1 /Users/pranav/AIML/CV/MyProjects/Plant Village Object Detection/Yolo/Plant_Village_dataset/test/images/depositphotos_6898486-stock-photo-grape-leaves_jpg.rf.d74ef302d652cd0b5bde40dafbab815c.jpg: 480x640 1 grape leaf black rot, 110.5ms\n",
      "Speed: 1.6ms preprocess, 110.5ms inference, 0.5ms postprocess per image at shape (1, 3, 480, 640)\n",
      "Results saved to \u001b[1mruns/detect/predict2\u001b[0m\n",
      "\n"
     ]
    },
    {
     "name": "stdout",
     "output_type": "stream",
     "text": [
      "depositphotos_6898486-stock-photo-grape-leaves_jpg.rf.d74ef302d652cd0b5bde40dafbab815c.jpg\n",
      "H5w92_jpg.rf.9a5e0d9ac90bf68a6452e82a033b083e.jpg\n"
     ]
    },
    {
     "name": "stderr",
     "output_type": "stream",
     "text": [
      "image 1/1 /Users/pranav/AIML/CV/MyProjects/Plant Village Object Detection/Yolo/Plant_Village_dataset/test/images/H5w92_jpg.rf.9a5e0d9ac90bf68a6452e82a033b083e.jpg: 640x480 1 Bell_pepper leaf spot, 116.9ms\n",
      "Speed: 1.8ms preprocess, 116.9ms inference, 0.6ms postprocess per image at shape (1, 3, 640, 480)\n",
      "Results saved to \u001b[1mruns/detect/predict2\u001b[0m\n",
      "\n",
      "image 1/1 /Users/pranav/AIML/CV/MyProjects/Plant Village Object Detection/Yolo/Plant_Village_dataset/test/images/early-blight-septoria-ls-fig-3_jpg.rf.e126060c4ba5d8fce30035c5ff0d8867.jpg: 480x640 1 Tomato Septoria leaf spot, 1 Tomato leaf late blight, 113.6ms\n",
      "Speed: 1.5ms preprocess, 113.6ms inference, 0.5ms postprocess per image at shape (1, 3, 480, 640)\n",
      "Results saved to \u001b[1mruns/detect/predict2\u001b[0m\n",
      "\n"
     ]
    },
    {
     "name": "stdout",
     "output_type": "stream",
     "text": [
      "early-blight-septoria-ls-fig-3_jpg.rf.e126060c4ba5d8fce30035c5ff0d8867.jpg\n",
      "100983448_jpg.rf.bb0a965555b3a9ad0fdbdf18a20712b4.jpg\n"
     ]
    },
    {
     "name": "stderr",
     "output_type": "stream",
     "text": [
      "image 1/1 /Users/pranav/AIML/CV/MyProjects/Plant Village Object Detection/Yolo/Plant_Village_dataset/test/images/100983448_jpg.rf.bb0a965555b3a9ad0fdbdf18a20712b4.jpg: 640x640 1 Tomato Early blight leaf, 150.0ms\n",
      "Speed: 1.6ms preprocess, 150.0ms inference, 0.4ms postprocess per image at shape (1, 3, 640, 640)\n",
      "Results saved to \u001b[1mruns/detect/predict2\u001b[0m\n",
      "\n",
      "image 1/1 /Users/pranav/AIML/CV/MyProjects/Plant Village Object Detection/Yolo/Plant_Village_dataset/test/images/apple-20scabnew_jpg.rf.d27d2da4626fa5f3811be39efd4df8f4.jpg: 512x640 1 Apple Scab Leaf, 124.9ms\n",
      "Speed: 1.4ms preprocess, 124.9ms inference, 0.6ms postprocess per image at shape (1, 3, 512, 640)\n",
      "Results saved to \u001b[1mruns/detect/predict2\u001b[0m\n",
      "\n"
     ]
    },
    {
     "name": "stdout",
     "output_type": "stream",
     "text": [
      "apple-20scabnew_jpg.rf.d27d2da4626fa5f3811be39efd4df8f4.jpg\n",
      "28-500x375_jpg.rf.88cca514d857927d89eada989ffee204.jpg\n"
     ]
    },
    {
     "name": "stderr",
     "output_type": "stream",
     "text": [
      "image 1/1 /Users/pranav/AIML/CV/MyProjects/Plant Village Object Detection/Yolo/Plant_Village_dataset/test/images/28-500x375_jpg.rf.88cca514d857927d89eada989ffee204.jpg: 480x640 1 Apple Scab Leaf, 114.3ms\n",
      "Speed: 1.3ms preprocess, 114.3ms inference, 0.8ms postprocess per image at shape (1, 3, 480, 640)\n",
      "Results saved to \u001b[1mruns/detect/predict2\u001b[0m\n",
      "\n",
      "image 1/1 /Users/pranav/AIML/CV/MyProjects/Plant Village Object Detection/Yolo/Plant_Village_dataset/test/images/17fc47_jpg.rf.b1e449135756800eb9b6531da6d44d1e.jpg: 640x480 3 Tomato leaf bacterial spots, 3 Tomato mold leafs, 115.5ms\n",
      "Speed: 1.4ms preprocess, 115.5ms inference, 0.3ms postprocess per image at shape (1, 3, 640, 480)\n",
      "Results saved to \u001b[1mruns/detect/predict2\u001b[0m\n",
      "\n"
     ]
    },
    {
     "name": "stdout",
     "output_type": "stream",
     "text": [
      "17fc47_jpg.rf.b1e449135756800eb9b6531da6d44d1e.jpg\n",
      "stock-photo-green-blueberry-leaf-isolated-with-clipping-path-550344304_jpg.rf.6df1c3292041cd301ff54366f69cce08.jpg\n"
     ]
    },
    {
     "name": "stderr",
     "output_type": "stream",
     "text": [
      "image 1/1 /Users/pranav/AIML/CV/MyProjects/Plant Village Object Detection/Yolo/Plant_Village_dataset/test/images/stock-photo-green-blueberry-leaf-isolated-with-clipping-path-550344304_jpg.rf.6df1c3292041cd301ff54366f69cce08.jpg: 640x480 1 Apple leaf, 123.1ms\n",
      "Speed: 1.1ms preprocess, 123.1ms inference, 0.4ms postprocess per image at shape (1, 3, 640, 480)\n",
      "Results saved to \u001b[1mruns/detect/predict2\u001b[0m\n",
      "\n",
      "image 1/1 /Users/pranav/AIML/CV/MyProjects/Plant Village Object Detection/Yolo/Plant_Village_dataset/test/images/50-20Leafmold-20Top_jpg.rf.2e1e53a8d2fb2ed4e4c37f455c183683.jpg: 416x640 1 Tomato mold leaf, 99.5ms\n",
      "Speed: 1.2ms preprocess, 99.5ms inference, 0.3ms postprocess per image at shape (1, 3, 416, 640)\n",
      "Results saved to \u001b[1mruns/detect/predict2\u001b[0m\n",
      "\n"
     ]
    },
    {
     "name": "stdout",
     "output_type": "stream",
     "text": [
      "50-20Leafmold-20Top_jpg.rf.2e1e53a8d2fb2ed4e4c37f455c183683.jpg\n",
      "early-blight-alternaria-alternata-leaf-spotting-on-potato-leaf-X91XJE_jpg.rf.a122b507b9d6b2b3bb1e43cb63c542d0.jpg\n"
     ]
    },
    {
     "name": "stderr",
     "output_type": "stream",
     "text": [
      "image 1/1 /Users/pranav/AIML/CV/MyProjects/Plant Village Object Detection/Yolo/Plant_Village_dataset/test/images/early-blight-alternaria-alternata-leaf-spotting-on-potato-leaf-X91XJE_jpg.rf.a122b507b9d6b2b3bb1e43cb63c542d0.jpg: 608x640 1 Potato leaf late blight, 134.2ms\n",
      "Speed: 2.2ms preprocess, 134.2ms inference, 0.7ms postprocess per image at shape (1, 3, 608, 640)\n",
      "Results saved to \u001b[1mruns/detect/predict2\u001b[0m\n",
      "\n",
      "image 1/1 /Users/pranav/AIML/CV/MyProjects/Plant Village Object Detection/Yolo/Plant_Village_dataset/test/images/2013Corn_GrayLeafSpot_0815_0003_JPG_jpg.rf.d4196887c40f7d075f55dc3e625ab89d.jpg: 480x640 1 Corn leaf blight, 107.5ms\n",
      "Speed: 1.6ms preprocess, 107.5ms inference, 0.5ms postprocess per image at shape (1, 3, 480, 640)\n",
      "Results saved to \u001b[1mruns/detect/predict2\u001b[0m\n",
      "\n"
     ]
    },
    {
     "name": "stdout",
     "output_type": "stream",
     "text": [
      "2013Corn_GrayLeafSpot_0815_0003_JPG_jpg.rf.d4196887c40f7d075f55dc3e625ab89d.jpg\n",
      "RARZ4_jpg.rf.3d405cb67ea7a282dfca9e226396ce45.jpg\n"
     ]
    },
    {
     "name": "stderr",
     "output_type": "stream",
     "text": [
      "image 1/1 /Users/pranav/AIML/CV/MyProjects/Plant Village Object Detection/Yolo/Plant_Village_dataset/test/images/RARZ4_jpg.rf.3d405cb67ea7a282dfca9e226396ce45.jpg: 448x640 2 Tomato Septoria leaf spots, 2 Tomato leaf late blights, 104.6ms\n",
      "Speed: 1.8ms preprocess, 104.6ms inference, 0.5ms postprocess per image at shape (1, 3, 448, 640)\n",
      "Results saved to \u001b[1mruns/detect/predict2\u001b[0m\n",
      "\n",
      "image 1/1 /Users/pranav/AIML/CV/MyProjects/Plant Village Object Detection/Yolo/Plant_Village_dataset/test/images/apples_apple-scab_10_zoom_jpg.rf.a78763d19115f70540d89b1ff3dfb6c9.jpg: 480x640 1 Apple leaf, 108.5ms\n",
      "Speed: 2.1ms preprocess, 108.5ms inference, 1.4ms postprocess per image at shape (1, 3, 480, 640)\n",
      "Results saved to \u001b[1mruns/detect/predict2\u001b[0m\n",
      "\n"
     ]
    },
    {
     "name": "stdout",
     "output_type": "stream",
     "text": [
      "apples_apple-scab_10_zoom_jpg.rf.a78763d19115f70540d89b1ff3dfb6c9.jpg\n",
      "grapevine-leaf-7466071_jpg.rf.644470c05407c38765db87a223a58ece.jpg\n"
     ]
    },
    {
     "name": "stderr",
     "output_type": "stream",
     "text": [
      "image 1/1 /Users/pranav/AIML/CV/MyProjects/Plant Village Object Detection/Yolo/Plant_Village_dataset/test/images/grapevine-leaf-7466071_jpg.rf.644470c05407c38765db87a223a58ece.jpg: 640x608 1 grape leaf black rot, 135.4ms\n",
      "Speed: 2.0ms preprocess, 135.4ms inference, 0.6ms postprocess per image at shape (1, 3, 640, 608)\n",
      "Results saved to \u001b[1mruns/detect/predict2\u001b[0m\n",
      "\n",
      "image 1/1 /Users/pranav/AIML/CV/MyProjects/Plant Village Object Detection/Yolo/Plant_Village_dataset/test/images/20130802_111632_jpg.rf.aff37c1c310ec5ee7e0636b73ee4addb.jpg: 480x640 (no detections), 116.3ms\n",
      "Speed: 1.8ms preprocess, 116.3ms inference, 0.3ms postprocess per image at shape (1, 3, 480, 640)\n",
      "Results saved to \u001b[1mruns/detect/predict2\u001b[0m\n",
      "\n"
     ]
    },
    {
     "name": "stdout",
     "output_type": "stream",
     "text": [
      "20130802_111632_jpg.rf.aff37c1c310ec5ee7e0636b73ee4addb.jpg\n",
      "pepper-spot_jpg.rf.702f0249a271396f3d17c8ac9b0ab720.jpg\n"
     ]
    },
    {
     "name": "stderr",
     "output_type": "stream",
     "text": [
      "image 1/1 /Users/pranav/AIML/CV/MyProjects/Plant Village Object Detection/Yolo/Plant_Village_dataset/test/images/pepper-spot_jpg.rf.702f0249a271396f3d17c8ac9b0ab720.jpg: 384x640 1 Tomato leaf late blight, 94.7ms\n",
      "Speed: 0.9ms preprocess, 94.7ms inference, 0.6ms postprocess per image at shape (1, 3, 384, 640)\n",
      "Results saved to \u001b[1mruns/detect/predict2\u001b[0m\n",
      "\n",
      "image 1/1 /Users/pranav/AIML/CV/MyProjects/Plant Village Object Detection/Yolo/Plant_Village_dataset/test/images/18c_jpg.rf.cf7625ea31adebace38a01ba3b82579c.jpg: 480x640 1 Tomato leaf mosaic virus, 114.2ms\n",
      "Speed: 1.3ms preprocess, 114.2ms inference, 0.4ms postprocess per image at shape (1, 3, 480, 640)\n",
      "Results saved to \u001b[1mruns/detect/predict2\u001b[0m\n",
      "\n"
     ]
    },
    {
     "name": "stdout",
     "output_type": "stream",
     "text": [
      "18c_jpg.rf.cf7625ea31adebace38a01ba3b82579c.jpg\n",
      "peach-leaf-isolated-white-background-42295220_jpg.rf.be9661fc41ebb0d94a3eeef8a5464364.jpg\n"
     ]
    },
    {
     "name": "stderr",
     "output_type": "stream",
     "text": [
      "image 1/1 /Users/pranav/AIML/CV/MyProjects/Plant Village Object Detection/Yolo/Plant_Village_dataset/test/images/peach-leaf-isolated-white-background-42295220_jpg.rf.be9661fc41ebb0d94a3eeef8a5464364.jpg: 512x640 2 Peach leafs, 128.2ms\n",
      "Speed: 1.6ms preprocess, 128.2ms inference, 0.4ms postprocess per image at shape (1, 3, 512, 640)\n",
      "Results saved to \u001b[1mruns/detect/predict2\u001b[0m\n",
      "\n",
      "image 1/1 /Users/pranav/AIML/CV/MyProjects/Plant Village Object Detection/Yolo/Plant_Village_dataset/test/images/brleaf2_zoom_jpg.rf.7741513e70ac586bc258bffe9e4390ef.jpg: 480x640 1 grape leaf, 117.9ms\n",
      "Speed: 1.4ms preprocess, 117.9ms inference, 0.7ms postprocess per image at shape (1, 3, 480, 640)\n",
      "Results saved to \u001b[1mruns/detect/predict2\u001b[0m\n",
      "\n"
     ]
    },
    {
     "name": "stdout",
     "output_type": "stream",
     "text": [
      "brleaf2_zoom_jpg.rf.7741513e70ac586bc258bffe9e4390ef.jpg\n",
      "early_blight1-150x150_jpg.rf.293f2ff1ce08018c4702ea9860f42784.jpg\n"
     ]
    },
    {
     "name": "stderr",
     "output_type": "stream",
     "text": [
      "image 1/1 /Users/pranav/AIML/CV/MyProjects/Plant Village Object Detection/Yolo/Plant_Village_dataset/test/images/early_blight1-150x150_jpg.rf.293f2ff1ce08018c4702ea9860f42784.jpg: 640x640 (no detections), 146.7ms\n",
      "Speed: 1.2ms preprocess, 146.7ms inference, 0.4ms postprocess per image at shape (1, 3, 640, 640)\n",
      "Results saved to \u001b[1mruns/detect/predict2\u001b[0m\n",
      "\n",
      "image 1/1 /Users/pranav/AIML/CV/MyProjects/Plant Village Object Detection/Yolo/Plant_Village_dataset/test/images/20180511_091133-24l1vhg-e1526047988236_jpg.rf.f64a1c91b51d33ab27b02808b86aa0f8.jpg: 640x384 1 Apple leaf, 90.8ms\n",
      "Speed: 1.7ms preprocess, 90.8ms inference, 0.3ms postprocess per image at shape (1, 3, 640, 384)\n",
      "Results saved to \u001b[1mruns/detect/predict2\u001b[0m\n",
      "\n"
     ]
    },
    {
     "name": "stdout",
     "output_type": "stream",
     "text": [
      "20180511_091133-24l1vhg-e1526047988236_jpg.rf.f64a1c91b51d33ab27b02808b86aa0f8.jpg\n",
      "1b321015-6e33-4f18-aade-888f4383fe92_jpeg_jpg.rf.5c77e962dda24b77c33a4b0a91cd32af.jpg\n"
     ]
    },
    {
     "name": "stderr",
     "output_type": "stream",
     "text": [
      "image 1/1 /Users/pranav/AIML/CV/MyProjects/Plant Village Object Detection/Yolo/Plant_Village_dataset/test/images/1b321015-6e33-4f18-aade-888f4383fe92_jpeg_jpg.rf.5c77e962dda24b77c33a4b0a91cd32af.jpg: 448x640 1 Tomato Septoria leaf spot, 109.8ms\n",
      "Speed: 1.4ms preprocess, 109.8ms inference, 1.1ms postprocess per image at shape (1, 3, 448, 640)\n",
      "Results saved to \u001b[1mruns/detect/predict2\u001b[0m\n",
      "\n",
      "image 1/1 /Users/pranav/AIML/CV/MyProjects/Plant Village Object Detection/Yolo/Plant_Village_dataset/test/images/CMVpepperLeafShock-copy-50QUALITY-1ge8umw_jpg.rf.5ac96afe340b99e5cccc20e70768f5dc.jpg: 480x640 1 Bell_pepper leaf, 133.0ms\n",
      "Speed: 1.7ms preprocess, 133.0ms inference, 0.3ms postprocess per image at shape (1, 3, 480, 640)\n",
      "Results saved to \u001b[1mruns/detect/predict2\u001b[0m\n",
      "\n"
     ]
    },
    {
     "name": "stdout",
     "output_type": "stream",
     "text": [
      "CMVpepperLeafShock-copy-50QUALITY-1ge8umw_jpg.rf.5ac96afe340b99e5cccc20e70768f5dc.jpg\n",
      "Powdery-Mildew-on-squash_jpg.rf.1f42160839e21bf2a2cd1392de077443.jpg\n"
     ]
    },
    {
     "name": "stderr",
     "output_type": "stream",
     "text": [
      "image 1/1 /Users/pranav/AIML/CV/MyProjects/Plant Village Object Detection/Yolo/Plant_Village_dataset/test/images/Powdery-Mildew-on-squash_jpg.rf.1f42160839e21bf2a2cd1392de077443.jpg: 480x640 1 Squash Powdery mildew leaf, 113.9ms\n",
      "Speed: 1.4ms preprocess, 113.9ms inference, 0.4ms postprocess per image at shape (1, 3, 480, 640)\n",
      "Results saved to \u001b[1mruns/detect/predict2\u001b[0m\n",
      "\n",
      "image 1/1 /Users/pranav/AIML/CV/MyProjects/Plant Village Object Detection/Yolo/Plant_Village_dataset/test/images/2septoria-tomato_jpg.rf.a3f2818b80dbb06b7b8d6f0588492164.jpg: 448x640 1 Tomato Septoria leaf spot, 103.9ms\n",
      "Speed: 1.5ms preprocess, 103.9ms inference, 0.3ms postprocess per image at shape (1, 3, 448, 640)\n",
      "Results saved to \u001b[1mruns/detect/predict2\u001b[0m\n",
      "\n"
     ]
    },
    {
     "name": "stdout",
     "output_type": "stream",
     "text": [
      "2septoria-tomato_jpg.rf.a3f2818b80dbb06b7b8d6f0588492164.jpg\n",
      "tomato_virus_04_zoom_jpg.rf.12ed63f89007aee05ece6010dd76ddaa.jpg\n"
     ]
    },
    {
     "name": "stderr",
     "output_type": "stream",
     "text": [
      "image 1/1 /Users/pranav/AIML/CV/MyProjects/Plant Village Object Detection/Yolo/Plant_Village_dataset/test/images/tomato_virus_04_zoom_jpg.rf.12ed63f89007aee05ece6010dd76ddaa.jpg: 480x640 3 Tomato leaf bacterial spots, 111.7ms\n",
      "Speed: 1.5ms preprocess, 111.7ms inference, 0.7ms postprocess per image at shape (1, 3, 480, 640)\n",
      "Results saved to \u001b[1mruns/detect/predict2\u001b[0m\n",
      "\n",
      "image 1/1 /Users/pranav/AIML/CV/MyProjects/Plant Village Object Detection/Yolo/Plant_Village_dataset/test/images/2STEM_jpg.rf.2e57727bead2360055fc755ba9ca4eeb.jpg: 640x384 1 Tomato Septoria leaf spot, 93.4ms\n",
      "Speed: 1.1ms preprocess, 93.4ms inference, 0.8ms postprocess per image at shape (1, 3, 640, 384)\n",
      "Results saved to \u001b[1mruns/detect/predict2\u001b[0m\n",
      "\n"
     ]
    },
    {
     "name": "stdout",
     "output_type": "stream",
     "text": [
      "2STEM_jpg.rf.2e57727bead2360055fc755ba9ca4eeb.jpg\n",
      "7190f27ead55c0f6e3ff8b982972810a5446a9713a49d_1260x1260_jpg.rf.e933dbb72c1f53e75125782983eeb563.jpg\n"
     ]
    },
    {
     "name": "stderr",
     "output_type": "stream",
     "text": [
      "image 1/1 /Users/pranav/AIML/CV/MyProjects/Plant Village Object Detection/Yolo/Plant_Village_dataset/test/images/7190f27ead55c0f6e3ff8b982972810a5446a9713a49d_1260x1260_jpg.rf.e933dbb72c1f53e75125782983eeb563.jpg: 640x544 1 Peach leaf, 128.1ms\n",
      "Speed: 1.7ms preprocess, 128.1ms inference, 0.7ms postprocess per image at shape (1, 3, 640, 544)\n",
      "Results saved to \u001b[1mruns/detect/predict2\u001b[0m\n",
      "\n",
      "image 1/1 /Users/pranav/AIML/CV/MyProjects/Plant Village Object Detection/Yolo/Plant_Village_dataset/test/images/DSCN1015_JPG_jpg.rf.5b686730458226da5d0d94d4df2acb1e.jpg: 480x640 7 Bell_pepper leaf spots, 111.1ms\n",
      "Speed: 2.0ms preprocess, 111.1ms inference, 0.4ms postprocess per image at shape (1, 3, 480, 640)\n",
      "Results saved to \u001b[1mruns/detect/predict2\u001b[0m\n",
      "\n"
     ]
    },
    {
     "name": "stdout",
     "output_type": "stream",
     "text": [
      "DSCN1015_JPG_jpg.rf.5b686730458226da5d0d94d4df2acb1e.jpg\n",
      "1684_jpg.rf.9e484a840348050d74f7998685b22cc6.jpg\n"
     ]
    },
    {
     "name": "stderr",
     "output_type": "stream",
     "text": [
      "image 1/1 /Users/pranav/AIML/CV/MyProjects/Plant Village Object Detection/Yolo/Plant_Village_dataset/test/images/1684_jpg.rf.9e484a840348050d74f7998685b22cc6.jpg: 640x576 5 Tomato leaf bacterial spots, 128.5ms\n",
      "Speed: 2.1ms preprocess, 128.5ms inference, 0.5ms postprocess per image at shape (1, 3, 640, 576)\n",
      "Results saved to \u001b[1mruns/detect/predict2\u001b[0m\n",
      "\n",
      "image 1/1 /Users/pranav/AIML/CV/MyProjects/Plant Village Object Detection/Yolo/Plant_Village_dataset/test/images/depositphotos_2795312-stock-photo-green-raspberry-leaf_jpg.rf.7e80cb38e766600f8b82e18ba85ab240.jpg: 480x640 3 Raspberry leafs, 115.6ms\n",
      "Speed: 1.5ms preprocess, 115.6ms inference, 0.4ms postprocess per image at shape (1, 3, 480, 640)\n",
      "Results saved to \u001b[1mruns/detect/predict2\u001b[0m\n",
      "\n"
     ]
    },
    {
     "name": "stdout",
     "output_type": "stream",
     "text": [
      "depositphotos_2795312-stock-photo-green-raspberry-leaf_jpg.rf.7e80cb38e766600f8b82e18ba85ab240.jpg\n",
      "Shoemaker_7068_JPG_jpg.rf.fc3bb10297aa7548ba0b57ee39611f53.jpg\n"
     ]
    },
    {
     "name": "stderr",
     "output_type": "stream",
     "text": [
      "image 1/1 /Users/pranav/AIML/CV/MyProjects/Plant Village Object Detection/Yolo/Plant_Village_dataset/test/images/Shoemaker_7068_JPG_jpg.rf.fc3bb10297aa7548ba0b57ee39611f53.jpg: 480x640 1 Tomato leaf mosaic virus, 122.7ms\n",
      "Speed: 1.4ms preprocess, 122.7ms inference, 0.5ms postprocess per image at shape (1, 3, 480, 640)\n",
      "Results saved to \u001b[1mruns/detect/predict2\u001b[0m\n",
      "\n",
      "image 1/1 /Users/pranav/AIML/CV/MyProjects/Plant Village Object Detection/Yolo/Plant_Village_dataset/test/images/show_picture_asp-id-aaaaaaaaaaogcqq-w2-420-h2-378-clip-center-420-378-meta-0_jpg.rf.47c7fe4b2392aafc104db251506439ec.jpg: 576x640 1 Corn Gray leaf spot, 129.5ms\n",
      "Speed: 1.3ms preprocess, 129.5ms inference, 0.7ms postprocess per image at shape (1, 3, 576, 640)\n",
      "Results saved to \u001b[1mruns/detect/predict2\u001b[0m\n",
      "\n"
     ]
    },
    {
     "name": "stdout",
     "output_type": "stream",
     "text": [
      "show_picture_asp-id-aaaaaaaaaaogcqq-w2-420-h2-378-clip-center-420-378-meta-0_jpg.rf.47c7fe4b2392aafc104db251506439ec.jpg\n",
      "80104747_jpg.rf.ea55dab59d2f5f540990e8f23fca50d4.jpg\n"
     ]
    },
    {
     "name": "stderr",
     "output_type": "stream",
     "text": [
      "image 1/1 /Users/pranav/AIML/CV/MyProjects/Plant Village Object Detection/Yolo/Plant_Village_dataset/test/images/80104747_jpg.rf.ea55dab59d2f5f540990e8f23fca50d4.jpg: 640x576 1 Corn leaf blight, 132.3ms\n",
      "Speed: 1.6ms preprocess, 132.3ms inference, 0.5ms postprocess per image at shape (1, 3, 640, 576)\n",
      "Results saved to \u001b[1mruns/detect/predict2\u001b[0m\n",
      "\n",
      "image 1/1 /Users/pranav/AIML/CV/MyProjects/Plant Village Object Detection/Yolo/Plant_Village_dataset/test/images/grape_F15a_jpg.rf.fdba83a96368e973060233cf0933cce5.jpg: 512x640 1 Tomato Septoria leaf spot, 2 grape leafs, 125.4ms\n",
      "Speed: 1.3ms preprocess, 125.4ms inference, 0.4ms postprocess per image at shape (1, 3, 512, 640)\n",
      "Results saved to \u001b[1mruns/detect/predict2\u001b[0m\n",
      "\n"
     ]
    },
    {
     "name": "stdout",
     "output_type": "stream",
     "text": [
      "grape_F15a_jpg.rf.fdba83a96368e973060233cf0933cce5.jpg\n",
      "apple-leaf-14319997_jpg.rf.9b8968c4bafe506e158b94d70da234d6.jpg\n"
     ]
    },
    {
     "name": "stderr",
     "output_type": "stream",
     "text": [
      "image 1/1 /Users/pranav/AIML/CV/MyProjects/Plant Village Object Detection/Yolo/Plant_Village_dataset/test/images/apple-leaf-14319997_jpg.rf.9b8968c4bafe506e158b94d70da234d6.jpg: 608x640 1 Apple leaf, 141.2ms\n",
      "Speed: 4.1ms preprocess, 141.2ms inference, 0.5ms postprocess per image at shape (1, 3, 608, 640)\n",
      "Results saved to \u001b[1mruns/detect/predict2\u001b[0m\n",
      "\n",
      "image 1/1 /Users/pranav/AIML/CV/MyProjects/Plant Village Object Detection/Yolo/Plant_Village_dataset/test/images/apple-leaf-9834637_jpg.rf.c689146555053229cfbad5b13bd07435.jpg: 480x640 1 Apple leaf, 105.7ms\n",
      "Speed: 1.8ms preprocess, 105.7ms inference, 0.8ms postprocess per image at shape (1, 3, 480, 640)\n",
      "Results saved to \u001b[1mruns/detect/predict2\u001b[0m\n",
      "\n"
     ]
    },
    {
     "name": "stdout",
     "output_type": "stream",
     "text": [
      "apple-leaf-9834637_jpg.rf.c689146555053229cfbad5b13bd07435.jpg\n",
      "depositphotos_3443387-stock-photo-the-green-grape-leaf-on_jpg.rf.705833411d0b6a28c128a3bb9f5ec3f7.jpg\n"
     ]
    },
    {
     "name": "stderr",
     "output_type": "stream",
     "text": [
      "image 1/1 /Users/pranav/AIML/CV/MyProjects/Plant Village Object Detection/Yolo/Plant_Village_dataset/test/images/depositphotos_3443387-stock-photo-the-green-grape-leaf-on_jpg.rf.705833411d0b6a28c128a3bb9f5ec3f7.jpg: 480x640 1 grape leaf black rot, 116.6ms\n",
      "Speed: 1.4ms preprocess, 116.6ms inference, 0.7ms postprocess per image at shape (1, 3, 480, 640)\n",
      "Results saved to \u001b[1mruns/detect/predict2\u001b[0m\n",
      "\n",
      "image 1/1 /Users/pranav/AIML/CV/MyProjects/Plant Village Object Detection/Yolo/Plant_Village_dataset/test/images/5496239405_d95bdb97d1_z_jpg.rf.173b13f28fb8354f39b6eab6994c87b6.jpg: 480x640 1 Corn rust leaf, 109.0ms\n",
      "Speed: 0.7ms preprocess, 109.0ms inference, 0.7ms postprocess per image at shape (1, 3, 480, 640)\n",
      "Results saved to \u001b[1mruns/detect/predict2\u001b[0m\n",
      "\n"
     ]
    },
    {
     "name": "stdout",
     "output_type": "stream",
     "text": [
      "5496239405_d95bdb97d1_z_jpg.rf.173b13f28fb8354f39b6eab6994c87b6.jpg\n",
      "tmv-tomato-9_jpg.rf.a0102dd156f245a07df0b1d0aea48698.jpg\n"
     ]
    },
    {
     "name": "stderr",
     "output_type": "stream",
     "text": [
      "image 1/1 /Users/pranav/AIML/CV/MyProjects/Plant Village Object Detection/Yolo/Plant_Village_dataset/test/images/tmv-tomato-9_jpg.rf.a0102dd156f245a07df0b1d0aea48698.jpg: 480x640 1 Tomato leaf mosaic virus, 117.1ms\n",
      "Speed: 2.3ms preprocess, 117.1ms inference, 0.4ms postprocess per image at shape (1, 3, 480, 640)\n",
      "Results saved to \u001b[1mruns/detect/predict2\u001b[0m\n",
      "\n",
      "image 1/1 /Users/pranav/AIML/CV/MyProjects/Plant Village Object Detection/Yolo/Plant_Village_dataset/test/images/image_jpg.rf.9ab2126543523239135c4a322c90f744.jpg: 640x640 1 Tomato leaf mosaic virus, 144.5ms\n",
      "Speed: 1.9ms preprocess, 144.5ms inference, 1.3ms postprocess per image at shape (1, 3, 640, 640)\n",
      "Results saved to \u001b[1mruns/detect/predict2\u001b[0m\n",
      "\n"
     ]
    },
    {
     "name": "stdout",
     "output_type": "stream",
     "text": [
      "image_jpg.rf.9ab2126543523239135c4a322c90f744.jpg\n",
      "55830b60a7cf2_image_jpg.rf.c19fcce7c02c1ce62a550db6309ef07f.jpg\n"
     ]
    },
    {
     "name": "stderr",
     "output_type": "stream",
     "text": [
      "image 1/1 /Users/pranav/AIML/CV/MyProjects/Plant Village Object Detection/Yolo/Plant_Village_dataset/test/images/55830b60a7cf2_image_jpg.rf.c19fcce7c02c1ce62a550db6309ef07f.jpg: 640x448 3 Tomato Early blight leafs, 1 Tomato Septoria leaf spot, 2 Tomato leaf late blights, 110.3ms\n",
      "Speed: 1.4ms preprocess, 110.3ms inference, 0.4ms postprocess per image at shape (1, 3, 640, 448)\n",
      "Results saved to \u001b[1mruns/detect/predict2\u001b[0m\n",
      "\n",
      "image 1/1 /Users/pranav/AIML/CV/MyProjects/Plant Village Object Detection/Yolo/Plant_Village_dataset/test/images/E-29Tomato-late-blight-foliar_jpg.rf.bfc8b96af9b557efee57cdf99ae0936c.jpg: 480x640 1 Potato leaf, 1 Tomato Septoria leaf spot, 1 Tomato leaf mosaic virus, 110.4ms\n",
      "Speed: 1.4ms preprocess, 110.4ms inference, 0.4ms postprocess per image at shape (1, 3, 480, 640)\n",
      "Results saved to \u001b[1mruns/detect/predict2\u001b[0m\n",
      "\n"
     ]
    },
    {
     "name": "stdout",
     "output_type": "stream",
     "text": [
      "E-29Tomato-late-blight-foliar_jpg.rf.bfc8b96af9b557efee57cdf99ae0936c.jpg\n",
      "1421_0_jpeg-itok-FMtmgePj_jpg.rf.35c94fb07dfa06f99be3c650a03c36b5.jpg\n"
     ]
    },
    {
     "name": "stderr",
     "output_type": "stream",
     "text": [
      "image 1/1 /Users/pranav/AIML/CV/MyProjects/Plant Village Object Detection/Yolo/Plant_Village_dataset/test/images/1421_0_jpeg-itok-FMtmgePj_jpg.rf.35c94fb07dfa06f99be3c650a03c36b5.jpg: 480x640 1 Potato leaf late blight, 114.3ms\n",
      "Speed: 1.4ms preprocess, 114.3ms inference, 0.7ms postprocess per image at shape (1, 3, 480, 640)\n",
      "Results saved to \u001b[1mruns/detect/predict2\u001b[0m\n",
      "\n",
      "image 1/1 /Users/pranav/AIML/CV/MyProjects/Plant Village Object Detection/Yolo/Plant_Village_dataset/test/images/leaf-blueberry-15281271_jpg.rf.6d25d3363fdbbbebd94090daccb4e588.jpg: 544x640 9 Blueberry leafs, 120.3ms\n",
      "Speed: 1.9ms preprocess, 120.3ms inference, 0.8ms postprocess per image at shape (1, 3, 544, 640)\n",
      "Results saved to \u001b[1mruns/detect/predict2\u001b[0m\n",
      "\n"
     ]
    },
    {
     "name": "stdout",
     "output_type": "stream",
     "text": [
      "leaf-blueberry-15281271_jpg.rf.6d25d3363fdbbbebd94090daccb4e588.jpg\n",
      "LateBlight04_jpg.rf.c7ea6a10db8d7429ebda30dc17005492.jpg\n"
     ]
    },
    {
     "name": "stderr",
     "output_type": "stream",
     "text": [
      "image 1/1 /Users/pranav/AIML/CV/MyProjects/Plant Village Object Detection/Yolo/Plant_Village_dataset/test/images/LateBlight04_jpg.rf.c7ea6a10db8d7429ebda30dc17005492.jpg: 448x640 1 Potato leaf, 101.6ms\n",
      "Speed: 1.1ms preprocess, 101.6ms inference, 0.5ms postprocess per image at shape (1, 3, 448, 640)\n",
      "Results saved to \u001b[1mruns/detect/predict2\u001b[0m\n",
      "\n",
      "image 1/1 /Users/pranav/AIML/CV/MyProjects/Plant Village Object Detection/Yolo/Plant_Village_dataset/test/images/plant-rust-southern-rust-on-corn-leaf-plant-diseases-rust-of-wheat_jpg.rf.7f2dce03273a2cb71135d69199e66a31.jpg: 448x640 1 Corn rust leaf, 105.0ms\n",
      "Speed: 1.4ms preprocess, 105.0ms inference, 0.6ms postprocess per image at shape (1, 3, 448, 640)\n",
      "Results saved to \u001b[1mruns/detect/predict2\u001b[0m\n",
      "\n"
     ]
    },
    {
     "name": "stdout",
     "output_type": "stream",
     "text": [
      "plant-rust-southern-rust-on-corn-leaf-plant-diseases-rust-of-wheat_jpg.rf.7f2dce03273a2cb71135d69199e66a31.jpg\n",
      "squash-leave-w-powd-mild_jpg.rf.9eecbd9c8fd105d79d7a06a709f4335e.jpg\n"
     ]
    },
    {
     "name": "stderr",
     "output_type": "stream",
     "text": [
      "image 1/1 /Users/pranav/AIML/CV/MyProjects/Plant Village Object Detection/Yolo/Plant_Village_dataset/test/images/squash-leave-w-powd-mild_jpg.rf.9eecbd9c8fd105d79d7a06a709f4335e.jpg: 480x640 1 Squash Powdery mildew leaf, 124.2ms\n",
      "Speed: 2.0ms preprocess, 124.2ms inference, 0.4ms postprocess per image at shape (1, 3, 480, 640)\n",
      "Results saved to \u001b[1mruns/detect/predict2\u001b[0m\n",
      "\n",
      "image 1/1 /Users/pranav/AIML/CV/MyProjects/Plant Village Object Detection/Yolo/Plant_Village_dataset/test/images/BIGSD_jpg.rf.1dc63802453fb77642018f5bda5c6f5b.jpg: 384x640 2 Tomato leaf late blights, 1 Tomato leaf yellow virus, 88.1ms\n",
      "Speed: 1.0ms preprocess, 88.1ms inference, 1.2ms postprocess per image at shape (1, 3, 384, 640)\n",
      "Results saved to \u001b[1mruns/detect/predict2\u001b[0m\n",
      "\n"
     ]
    },
    {
     "name": "stdout",
     "output_type": "stream",
     "text": [
      "BIGSD_jpg.rf.1dc63802453fb77642018f5bda5c6f5b.jpg\n",
      "potato-late-blight_jpg.rf.b752c421c4fcbb265e2487f11ead475a.jpg\n"
     ]
    },
    {
     "name": "stderr",
     "output_type": "stream",
     "text": [
      "image 1/1 /Users/pranav/AIML/CV/MyProjects/Plant Village Object Detection/Yolo/Plant_Village_dataset/test/images/potato-late-blight_jpg.rf.b752c421c4fcbb265e2487f11ead475a.jpg: 512x640 2 Blueberry leafs, 1 Potato leaf, 124.6ms\n",
      "Speed: 1.3ms preprocess, 124.6ms inference, 0.6ms postprocess per image at shape (1, 3, 512, 640)\n",
      "Results saved to \u001b[1mruns/detect/predict2\u001b[0m\n",
      "\n",
      "image 1/1 /Users/pranav/AIML/CV/MyProjects/Plant Village Object Detection/Yolo/Plant_Village_dataset/test/images/three-raspberry-green-leaves-isolated-white-background-62022932_jpg.rf.dcee0280d72ce109747362b16bd4b615.jpg: 640x608 3 Raspberry leafs, 1 Strawberry leaf, 136.7ms\n",
      "Speed: 1.9ms preprocess, 136.7ms inference, 0.5ms postprocess per image at shape (1, 3, 640, 608)\n",
      "Results saved to \u001b[1mruns/detect/predict2\u001b[0m\n",
      "\n"
     ]
    },
    {
     "name": "stdout",
     "output_type": "stream",
     "text": [
      "three-raspberry-green-leaves-isolated-white-background-62022932_jpg.rf.dcee0280d72ce109747362b16bd4b615.jpg\n",
      "earlyblightpotato_jpg.rf.096fb8b664867bf2c062085ed0d102e1.jpg\n"
     ]
    },
    {
     "name": "stderr",
     "output_type": "stream",
     "text": [
      "image 1/1 /Users/pranav/AIML/CV/MyProjects/Plant Village Object Detection/Yolo/Plant_Village_dataset/test/images/earlyblightpotato_jpg.rf.096fb8b664867bf2c062085ed0d102e1.jpg: 512x640 1 Potato leaf late blight, 128.2ms\n",
      "Speed: 1.8ms preprocess, 128.2ms inference, 0.4ms postprocess per image at shape (1, 3, 512, 640)\n",
      "Results saved to \u001b[1mruns/detect/predict2\u001b[0m\n",
      "\n",
      "image 1/1 /Users/pranav/AIML/CV/MyProjects/Plant Village Object Detection/Yolo/Plant_Village_dataset/test/images/393_jpg.rf.b4ba02559b48d3d83722ceb05dc76a63.jpg: 448x640 1 Corn rust leaf, 101.4ms\n",
      "Speed: 1.5ms preprocess, 101.4ms inference, 0.5ms postprocess per image at shape (1, 3, 448, 640)\n",
      "Results saved to \u001b[1mruns/detect/predict2\u001b[0m\n",
      "\n"
     ]
    },
    {
     "name": "stdout",
     "output_type": "stream",
     "text": [
      "393_jpg.rf.b4ba02559b48d3d83722ceb05dc76a63.jpg\n",
      "tylcv-seminar-1-638_jpg.rf.95cf684b8241ca57e9c660489a49e379.jpg\n"
     ]
    },
    {
     "name": "stderr",
     "output_type": "stream",
     "text": [
      "image 1/1 /Users/pranav/AIML/CV/MyProjects/Plant Village Object Detection/Yolo/Plant_Village_dataset/test/images/tylcv-seminar-1-638_jpg.rf.95cf684b8241ca57e9c660489a49e379.jpg: 512x640 4 Tomato leafs, 128.4ms\n",
      "Speed: 1.8ms preprocess, 128.4ms inference, 0.5ms postprocess per image at shape (1, 3, 512, 640)\n",
      "Results saved to \u001b[1mruns/detect/predict2\u001b[0m\n",
      "\n",
      "image 1/1 /Users/pranav/AIML/CV/MyProjects/Plant Village Object Detection/Yolo/Plant_Village_dataset/test/images/stock-photo-cultivar-marrow-leaf-strongly-affected-with-a-powdery-mildew-in-the-summer-garden-707948062_jpg.rf.a23a88ad9bfa477280290df75bff0ab7.jpg: 480x640 1 Squash Powdery mildew leaf, 116.5ms\n",
      "Speed: 1.4ms preprocess, 116.5ms inference, 0.7ms postprocess per image at shape (1, 3, 480, 640)\n",
      "Results saved to \u001b[1mruns/detect/predict2\u001b[0m\n",
      "\n"
     ]
    },
    {
     "name": "stdout",
     "output_type": "stream",
     "text": [
      "stock-photo-cultivar-marrow-leaf-strongly-affected-with-a-powdery-mildew-in-the-summer-garden-707948062_jpg.rf.a23a88ad9bfa477280290df75bff0ab7.jpg\n",
      "Apple-Leaf-Wallpaper-17_jpg.rf.98c98eac348bacc7162ad99ff12c34c7.jpg\n"
     ]
    },
    {
     "name": "stderr",
     "output_type": "stream",
     "text": [
      "image 1/1 /Users/pranav/AIML/CV/MyProjects/Plant Village Object Detection/Yolo/Plant_Village_dataset/test/images/Apple-Leaf-Wallpaper-17_jpg.rf.98c98eac348bacc7162ad99ff12c34c7.jpg: 384x640 1 Raspberry leaf, 1 Tomato leaf bacterial spot, 102.6ms\n",
      "Speed: 1.9ms preprocess, 102.6ms inference, 0.4ms postprocess per image at shape (1, 3, 384, 640)\n",
      "Results saved to \u001b[1mruns/detect/predict2\u001b[0m\n",
      "\n",
      "image 1/1 /Users/pranav/AIML/CV/MyProjects/Plant Village Object Detection/Yolo/Plant_Village_dataset/test/images/bugs-and-blight-061_jpg.rf.a57121b58b5021e5ed1c0156de75bfad.jpg: 480x640 2 Tomato Septoria leaf spots, 2 Tomato leaf bacterial spots, 1 Tomato leaf late blight, 153.9ms\n",
      "Speed: 1.8ms preprocess, 153.9ms inference, 0.9ms postprocess per image at shape (1, 3, 480, 640)\n",
      "Results saved to \u001b[1mruns/detect/predict2\u001b[0m\n",
      "\n"
     ]
    },
    {
     "name": "stdout",
     "output_type": "stream",
     "text": [
      "bugs-and-blight-061_jpg.rf.a57121b58b5021e5ed1c0156de75bfad.jpg\n",
      "0796_39maizerust_jpg.rf.2540abaaecbb05db4076e9c84de164b0.jpg\n"
     ]
    },
    {
     "name": "stderr",
     "output_type": "stream",
     "text": [
      "image 1/1 /Users/pranav/AIML/CV/MyProjects/Plant Village Object Detection/Yolo/Plant_Village_dataset/test/images/0796_39maizerust_jpg.rf.2540abaaecbb05db4076e9c84de164b0.jpg: 448x640 1 Corn rust leaf, 102.1ms\n",
      "Speed: 1.3ms preprocess, 102.1ms inference, 0.5ms postprocess per image at shape (1, 3, 448, 640)\n",
      "Results saved to \u001b[1mruns/detect/predict2\u001b[0m\n",
      "\n",
      "image 1/1 /Users/pranav/AIML/CV/MyProjects/Plant Village Object Detection/Yolo/Plant_Village_dataset/test/images/4-apple-rust2_19011_matt-bertone_jpg.rf.e625873034bdeec9c2a385b9852a5b1a.jpg: 448x640 1 Apple rust leaf, 102.2ms\n",
      "Speed: 1.2ms preprocess, 102.2ms inference, 0.5ms postprocess per image at shape (1, 3, 448, 640)\n",
      "Results saved to \u001b[1mruns/detect/predict2\u001b[0m\n",
      "\n"
     ]
    },
    {
     "name": "stdout",
     "output_type": "stream",
     "text": [
      "4-apple-rust2_19011_matt-bertone_jpg.rf.e625873034bdeec9c2a385b9852a5b1a.jpg\n",
      "Tom_Bact3_jpg.rf.c113bb442a502b7e9fa794ce881d9e66.jpg\n"
     ]
    },
    {
     "name": "stderr",
     "output_type": "stream",
     "text": [
      "image 1/1 /Users/pranav/AIML/CV/MyProjects/Plant Village Object Detection/Yolo/Plant_Village_dataset/test/images/Tom_Bact3_jpg.rf.c113bb442a502b7e9fa794ce881d9e66.jpg: 384x640 1 Tomato leaf mosaic virus, 93.4ms\n",
      "Speed: 1.0ms preprocess, 93.4ms inference, 0.7ms postprocess per image at shape (1, 3, 384, 640)\n",
      "Results saved to \u001b[1mruns/detect/predict2\u001b[0m\n",
      "\n",
      "image 1/1 /Users/pranav/AIML/CV/MyProjects/Plant Village Object Detection/Yolo/Plant_Village_dataset/test/images/000_jpg.rf.e32ba3f04d1e855e58b1b3f5475cf1e5.jpg: 480x640 1 Apple rust leaf, 1 Bell_pepper leaf, 114.1ms\n",
      "Speed: 1.4ms preprocess, 114.1ms inference, 0.4ms postprocess per image at shape (1, 3, 480, 640)\n",
      "Results saved to \u001b[1mruns/detect/predict2\u001b[0m\n",
      "\n"
     ]
    },
    {
     "name": "stdout",
     "output_type": "stream",
     "text": [
      "000_jpg.rf.e32ba3f04d1e855e58b1b3f5475cf1e5.jpg\n",
      "corn-gray-leaf-spot-f4_jpg.rf.ee2aa03a854a277d3d3ad007ad47fe21.jpg\n"
     ]
    },
    {
     "name": "stderr",
     "output_type": "stream",
     "text": [
      "image 1/1 /Users/pranav/AIML/CV/MyProjects/Plant Village Object Detection/Yolo/Plant_Village_dataset/test/images/corn-gray-leaf-spot-f4_jpg.rf.ee2aa03a854a277d3d3ad007ad47fe21.jpg: 640x544 1 Corn leaf blight, 127.2ms\n",
      "Speed: 1.5ms preprocess, 127.2ms inference, 0.4ms postprocess per image at shape (1, 3, 640, 544)\n",
      "Results saved to \u001b[1mruns/detect/predict2\u001b[0m\n",
      "\n",
      "image 1/1 /Users/pranav/AIML/CV/MyProjects/Plant Village Object Detection/Yolo/Plant_Village_dataset/test/images/stock-photo-peach-leaf-isolated-on-white-background-281097503_jpg.rf.5b028cd9faef9f17ba5ad50d2c27f5e1.jpg: 416x640 1 Peach leaf, 95.2ms\n",
      "Speed: 1.9ms preprocess, 95.2ms inference, 0.3ms postprocess per image at shape (1, 3, 416, 640)\n",
      "Results saved to \u001b[1mruns/detect/predict2\u001b[0m\n",
      "\n"
     ]
    },
    {
     "name": "stdout",
     "output_type": "stream",
     "text": [
      "stock-photo-peach-leaf-isolated-on-white-background-281097503_jpg.rf.5b028cd9faef9f17ba5ad50d2c27f5e1.jpg\n",
      "07feb_ma_sbr3_JPG_jpg.rf.f14921ba4874b3d05f47319163e05be2.jpg\n"
     ]
    },
    {
     "name": "stderr",
     "output_type": "stream",
     "text": [
      "image 1/1 /Users/pranav/AIML/CV/MyProjects/Plant Village Object Detection/Yolo/Plant_Village_dataset/test/images/07feb_ma_sbr3_JPG_jpg.rf.f14921ba4874b3d05f47319163e05be2.jpg: 448x640 1 Bell_pepper leaf, 1 Blueberry leaf, 121.9ms\n",
      "Speed: 1.6ms preprocess, 121.9ms inference, 0.5ms postprocess per image at shape (1, 3, 448, 640)\n",
      "Results saved to \u001b[1mruns/detect/predict2\u001b[0m\n",
      "\n",
      "image 1/1 /Users/pranav/AIML/CV/MyProjects/Plant Village Object Detection/Yolo/Plant_Village_dataset/test/images/110822-206-Tomato-blight_jpg.rf.b60f3ef83e22b5e943a0d9d677b676ee.jpg: 448x640 1 Tomato leaf mosaic virus, 102.6ms\n",
      "Speed: 1.2ms preprocess, 102.6ms inference, 0.4ms postprocess per image at shape (1, 3, 448, 640)\n",
      "Results saved to \u001b[1mruns/detect/predict2\u001b[0m\n",
      "\n"
     ]
    },
    {
     "name": "stdout",
     "output_type": "stream",
     "text": [
      "110822-206-Tomato-blight_jpg.rf.b60f3ef83e22b5e943a0d9d677b676ee.jpg\n",
      "squashsilver2_JPG_jpg.rf.b0825f42a8f46e056accf3e5e016a84c.jpg\n"
     ]
    },
    {
     "name": "stderr",
     "output_type": "stream",
     "text": [
      "image 1/1 /Users/pranav/AIML/CV/MyProjects/Plant Village Object Detection/Yolo/Plant_Village_dataset/test/images/squashsilver2_JPG_jpg.rf.b0825f42a8f46e056accf3e5e016a84c.jpg: 480x640 (no detections), 114.3ms\n",
      "Speed: 2.1ms preprocess, 114.3ms inference, 0.3ms postprocess per image at shape (1, 3, 480, 640)\n",
      "Results saved to \u001b[1mruns/detect/predict2\u001b[0m\n",
      "\n",
      "image 1/1 /Users/pranav/AIML/CV/MyProjects/Plant Village Object Detection/Yolo/Plant_Village_dataset/test/images/strawberry-leaves-collection-white-background-36684676_jpg.rf.4005b5eeeb6d4ab884c40858ea959565.jpg: 480x640 7 Strawberry leafs, 115.0ms\n",
      "Speed: 1.7ms preprocess, 115.0ms inference, 0.4ms postprocess per image at shape (1, 3, 480, 640)\n",
      "Results saved to \u001b[1mruns/detect/predict2\u001b[0m\n",
      "\n"
     ]
    },
    {
     "name": "stdout",
     "output_type": "stream",
     "text": [
      "strawberry-leaves-collection-white-background-36684676_jpg.rf.4005b5eeeb6d4ab884c40858ea959565.jpg\n",
      "strawberry-leaves-isolated-white-17473157_jpg.rf.90ba7324f8405610b33e5188750c6f09.jpg\n"
     ]
    },
    {
     "name": "stderr",
     "output_type": "stream",
     "text": [
      "image 1/1 /Users/pranav/AIML/CV/MyProjects/Plant Village Object Detection/Yolo/Plant_Village_dataset/test/images/strawberry-leaves-isolated-white-17473157_jpg.rf.90ba7324f8405610b33e5188750c6f09.jpg: 640x640 6 Strawberry leafs, 140.7ms\n",
      "Speed: 2.3ms preprocess, 140.7ms inference, 0.4ms postprocess per image at shape (1, 3, 640, 640)\n",
      "Results saved to \u001b[1mruns/detect/predict2\u001b[0m\n",
      "\n",
      "image 1/1 /Users/pranav/AIML/CV/MyProjects/Plant Village Object Detection/Yolo/Plant_Village_dataset/test/images/01_jpg.rf.132567152237e39d0c9a6f61dfc88873.jpg: 512x640 1 Bell_pepper leaf, 126.4ms\n",
      "Speed: 1.4ms preprocess, 126.4ms inference, 0.4ms postprocess per image at shape (1, 3, 512, 640)\n",
      "Results saved to \u001b[1mruns/detect/predict2\u001b[0m\n",
      "\n"
     ]
    },
    {
     "name": "stdout",
     "output_type": "stream",
     "text": [
      "01_jpg.rf.132567152237e39d0c9a6f61dfc88873.jpg\n",
      "strom5_jpg.rf.3e31bc99df9caf64608a76af43360428.jpg\n"
     ]
    },
    {
     "name": "stderr",
     "output_type": "stream",
     "text": [
      "image 1/1 /Users/pranav/AIML/CV/MyProjects/Plant Village Object Detection/Yolo/Plant_Village_dataset/test/images/strom5_jpg.rf.3e31bc99df9caf64608a76af43360428.jpg: 448x640 1 Corn leaf blight, 105.0ms\n",
      "Speed: 1.3ms preprocess, 105.0ms inference, 0.5ms postprocess per image at shape (1, 3, 448, 640)\n",
      "Results saved to \u001b[1mruns/detect/predict2\u001b[0m\n",
      "\n",
      "image 1/1 /Users/pranav/AIML/CV/MyProjects/Plant Village Object Detection/Yolo/Plant_Village_dataset/test/images/phytophthora-infestans-potato-blight-first-foliar-symptoms-on-solanum-EJKRCK_jpg.rf.0b2b672321b053926d3a522509e58968.jpg: 640x416 1 Potato leaf, 105.4ms\n",
      "Speed: 1.7ms preprocess, 105.4ms inference, 0.4ms postprocess per image at shape (1, 3, 640, 416)\n",
      "Results saved to \u001b[1mruns/detect/predict2\u001b[0m\n",
      "\n"
     ]
    },
    {
     "name": "stdout",
     "output_type": "stream",
     "text": [
      "phytophthora-infestans-potato-blight-first-foliar-symptoms-on-solanum-EJKRCK_jpg.rf.0b2b672321b053926d3a522509e58968.jpg\n",
      "02_-Rust-2017-207u24s_jpg.rf.f1a95c4ac228e45d9b83a977e967d31e.jpg\n"
     ]
    },
    {
     "name": "stderr",
     "output_type": "stream",
     "text": [
      "image 1/1 /Users/pranav/AIML/CV/MyProjects/Plant Village Object Detection/Yolo/Plant_Village_dataset/test/images/02_-Rust-2017-207u24s_jpg.rf.f1a95c4ac228e45d9b83a977e967d31e.jpg: 384x640 1 Squash Powdery mildew leaf, 103.8ms\n",
      "Speed: 1.4ms preprocess, 103.8ms inference, 0.6ms postprocess per image at shape (1, 3, 384, 640)\n",
      "Results saved to \u001b[1mruns/detect/predict2\u001b[0m\n",
      "\n",
      "image 1/1 /Users/pranav/AIML/CV/MyProjects/Plant Village Object Detection/Yolo/Plant_Village_dataset/test/images/vitis-riparia-le-ahaines-b_jpg.rf.1d08b9f2b4bbc19d9f3bcf6c472c966c.jpg: 544x640 1 Blueberry leaf, 2 grape leaf black rots, 126.9ms\n",
      "Speed: 1.8ms preprocess, 126.9ms inference, 1.0ms postprocess per image at shape (1, 3, 544, 640)\n",
      "Results saved to \u001b[1mruns/detect/predict2\u001b[0m\n",
      "\n"
     ]
    },
    {
     "name": "stdout",
     "output_type": "stream",
     "text": [
      "vitis-riparia-le-ahaines-b_jpg.rf.1d08b9f2b4bbc19d9f3bcf6c472c966c.jpg\n",
      "Bacterial-spot-pepper2_jpg.rf.513af3f970230791d1892dd8f653fd60.jpg\n"
     ]
    },
    {
     "name": "stderr",
     "output_type": "stream",
     "text": [
      "image 1/1 /Users/pranav/AIML/CV/MyProjects/Plant Village Object Detection/Yolo/Plant_Village_dataset/test/images/Bacterial-spot-pepper2_jpg.rf.513af3f970230791d1892dd8f653fd60.jpg: 512x640 1 Tomato Septoria leaf spot, 126.3ms\n",
      "Speed: 1.6ms preprocess, 126.3ms inference, 0.7ms postprocess per image at shape (1, 3, 512, 640)\n",
      "Results saved to \u001b[1mruns/detect/predict2\u001b[0m\n",
      "\n",
      "image 1/1 /Users/pranav/AIML/CV/MyProjects/Plant Village Object Detection/Yolo/Plant_Village_dataset/test/images/0796_40comrust_jpg.rf.af1d85a3b8f1cc129d7acc62329929e0.jpg: 416x640 1 Corn rust leaf, 97.2ms\n",
      "Speed: 1.3ms preprocess, 97.2ms inference, 0.7ms postprocess per image at shape (1, 3, 416, 640)\n",
      "Results saved to \u001b[1mruns/detect/predict2\u001b[0m\n",
      "\n"
     ]
    },
    {
     "name": "stdout",
     "output_type": "stream",
     "text": [
      "0796_40comrust_jpg.rf.af1d85a3b8f1cc129d7acc62329929e0.jpg\n",
      "2256-body-1501555581-1_jpg.rf.467676a08c9f33ab70c551e16e11beb1.jpg\n"
     ]
    },
    {
     "name": "stderr",
     "output_type": "stream",
     "text": [
      "image 1/1 /Users/pranav/AIML/CV/MyProjects/Plant Village Object Detection/Yolo/Plant_Village_dataset/test/images/2256-body-1501555581-1_jpg.rf.467676a08c9f33ab70c551e16e11beb1.jpg: 480x640 1 Corn rust leaf, 120.6ms\n",
      "Speed: 1.7ms preprocess, 120.6ms inference, 0.4ms postprocess per image at shape (1, 3, 480, 640)\n",
      "Results saved to \u001b[1mruns/detect/predict2\u001b[0m\n",
      "\n",
      "image 1/1 /Users/pranav/AIML/CV/MyProjects/Plant Village Object Detection/Yolo/Plant_Village_dataset/test/images/dsc_8148cs_jpg.rf.69993ec24d7493f131ea68e581d702dd.jpg: 640x640 1 Tomato leaf mosaic virus, 144.7ms\n",
      "Speed: 2.7ms preprocess, 144.7ms inference, 0.9ms postprocess per image at shape (1, 3, 640, 640)\n",
      "Results saved to \u001b[1mruns/detect/predict2\u001b[0m\n",
      "\n"
     ]
    },
    {
     "name": "stdout",
     "output_type": "stream",
     "text": [
      "dsc_8148cs_jpg.rf.69993ec24d7493f131ea68e581d702dd.jpg\n",
      "IMG_42231_jpg.rf.44819f6a13b00091220658704abdfb40.jpg\n"
     ]
    },
    {
     "name": "stderr",
     "output_type": "stream",
     "text": [
      "image 1/1 /Users/pranav/AIML/CV/MyProjects/Plant Village Object Detection/Yolo/Plant_Village_dataset/test/images/IMG_42231_jpg.rf.44819f6a13b00091220658704abdfb40.jpg: 480x640 1 Corn leaf blight, 111.4ms\n",
      "Speed: 1.9ms preprocess, 111.4ms inference, 0.5ms postprocess per image at shape (1, 3, 480, 640)\n",
      "Results saved to \u001b[1mruns/detect/predict2\u001b[0m\n",
      "\n",
      "image 1/1 /Users/pranav/AIML/CV/MyProjects/Plant Village Object Detection/Yolo/Plant_Village_dataset/test/images/everystockphoto-21099455-l_jpg.rf.bee9830f466ad5ea51150e3955ce13ac.jpg: 480x640 1 Apple Scab Leaf, 127.7ms\n",
      "Speed: 1.5ms preprocess, 127.7ms inference, 0.7ms postprocess per image at shape (1, 3, 480, 640)\n",
      "Results saved to \u001b[1mruns/detect/predict2\u001b[0m\n",
      "\n"
     ]
    },
    {
     "name": "stdout",
     "output_type": "stream",
     "text": [
      "everystockphoto-21099455-l_jpg.rf.bee9830f466ad5ea51150e3955ce13ac.jpg\n",
      "6447731_orig_jpg.rf.b26bef77a14d203290fea963dbe99793.jpg\n"
     ]
    },
    {
     "name": "stderr",
     "output_type": "stream",
     "text": [
      "image 1/1 /Users/pranav/AIML/CV/MyProjects/Plant Village Object Detection/Yolo/Plant_Village_dataset/test/images/6447731_orig_jpg.rf.b26bef77a14d203290fea963dbe99793.jpg: 448x640 1 Tomato leaf late blight, 105.7ms\n",
      "Speed: 1.2ms preprocess, 105.7ms inference, 1.1ms postprocess per image at shape (1, 3, 448, 640)\n",
      "Results saved to \u001b[1mruns/detect/predict2\u001b[0m\n",
      "\n",
      "image 1/1 /Users/pranav/AIML/CV/MyProjects/Plant Village Object Detection/Yolo/Plant_Village_dataset/test/images/49-20Leafmold-20Bottom_jpg.rf.fb818259b9088ea8db5c658839083777.jpg: 352x640 1 Tomato mold leaf, 85.3ms\n",
      "Speed: 0.9ms preprocess, 85.3ms inference, 1.0ms postprocess per image at shape (1, 3, 352, 640)\n",
      "Results saved to \u001b[1mruns/detect/predict2\u001b[0m\n",
      "\n"
     ]
    },
    {
     "name": "stdout",
     "output_type": "stream",
     "text": [
      "49-20Leafmold-20Bottom_jpg.rf.fb818259b9088ea8db5c658839083777.jpg\n",
      "earlyblight21__jpg.rf.6dcab3b35202af61132ba53bc8c410a9.jpg\n"
     ]
    },
    {
     "name": "stderr",
     "output_type": "stream",
     "text": [
      "image 1/1 /Users/pranav/AIML/CV/MyProjects/Plant Village Object Detection/Yolo/Plant_Village_dataset/test/images/earlyblight21__jpg.rf.6dcab3b35202af61132ba53bc8c410a9.jpg: 640x480 1 Tomato leaf mosaic virus, 112.6ms\n",
      "Speed: 2.4ms preprocess, 112.6ms inference, 0.6ms postprocess per image at shape (1, 3, 640, 480)\n",
      "Results saved to \u001b[1mruns/detect/predict2\u001b[0m\n",
      "\n",
      "image 1/1 /Users/pranav/AIML/CV/MyProjects/Plant Village Object Detection/Yolo/Plant_Village_dataset/test/images/2015070295153021_jpg.rf.60619798b3a13bd2127b4a2f9b51cd1a.jpg: 640x480 1 Corn leaf blight, 109.2ms\n",
      "Speed: 1.6ms preprocess, 109.2ms inference, 1.1ms postprocess per image at shape (1, 3, 640, 480)\n",
      "Results saved to \u001b[1mruns/detect/predict2\u001b[0m\n",
      "\n"
     ]
    },
    {
     "name": "stdout",
     "output_type": "stream",
     "text": [
      "2015070295153021_jpg.rf.60619798b3a13bd2127b4a2f9b51cd1a.jpg\n",
      "stock-photo-blueberry-leaf-closeup-isolated-on-white-306486470_jpg.rf.573252557ca78e2523daa5679cd6ba8a.jpg\n"
     ]
    },
    {
     "name": "stderr",
     "output_type": "stream",
     "text": [
      "image 1/1 /Users/pranav/AIML/CV/MyProjects/Plant Village Object Detection/Yolo/Plant_Village_dataset/test/images/stock-photo-blueberry-leaf-closeup-isolated-on-white-306486470_jpg.rf.573252557ca78e2523daa5679cd6ba8a.jpg: 480x640 2 Blueberry leafs, 112.7ms\n",
      "Speed: 1.2ms preprocess, 112.7ms inference, 0.4ms postprocess per image at shape (1, 3, 480, 640)\n",
      "Results saved to \u001b[1mruns/detect/predict2\u001b[0m\n",
      "\n",
      "image 1/1 /Users/pranav/AIML/CV/MyProjects/Plant Village Object Detection/Yolo/Plant_Village_dataset/test/images/plant-fruit-berry-leaf-flower-food-herb-produce-blueberry-botany-flora-plants-wildflower-shrub-macro-photography-wipes-flowering-plant-bilberry-huckleberry-dayflower-land-plant-dayflower-family-1090218_jpg.rf.d8dfa1f7ecc2966e77ffd6e05bb66ff6.jpg: 448x640 19 Blueberry leafs, 104.5ms\n",
      "Speed: 1.8ms preprocess, 104.5ms inference, 0.4ms postprocess per image at shape (1, 3, 448, 640)\n",
      "Results saved to \u001b[1mruns/detect/predict2\u001b[0m\n",
      "\n"
     ]
    },
    {
     "name": "stdout",
     "output_type": "stream",
     "text": [
      "plant-fruit-berry-leaf-flower-food-herb-produce-blueberry-botany-flora-plants-wildflower-shrub-macro-photography-wipes-flowering-plant-bilberry-huckleberry-dayflower-land-plant-dayflower-family-1090218_jpg.rf.d8dfa1f7ecc2966e77ffd6e05bb66ff6.jpg\n",
      "8226402877_9abf151b5b_b_jpg.rf.967094a091f4c9f8c55f7f959e3076ba.jpg\n"
     ]
    },
    {
     "name": "stderr",
     "output_type": "stream",
     "text": [
      "image 1/1 /Users/pranav/AIML/CV/MyProjects/Plant Village Object Detection/Yolo/Plant_Village_dataset/test/images/8226402877_9abf151b5b_b_jpg.rf.967094a091f4c9f8c55f7f959e3076ba.jpg: 448x640 11 Tomato leafs, 103.2ms\n",
      "Speed: 1.8ms preprocess, 103.2ms inference, 0.9ms postprocess per image at shape (1, 3, 448, 640)\n",
      "Results saved to \u001b[1mruns/detect/predict2\u001b[0m\n",
      "\n",
      "image 1/1 /Users/pranav/AIML/CV/MyProjects/Plant Village Object Detection/Yolo/Plant_Village_dataset/test/images/phytophthora-infestans-late-blight-or-potato-blight-on-the-haulm-of-E29H6G_jpg.rf.d53ff19435acfabd2725e0ef4fa84fb1.jpg: 640x416 2 Potato leaf late blights, 1 Potato leaf, 97.5ms\n",
      "Speed: 1.7ms preprocess, 97.5ms inference, 0.4ms postprocess per image at shape (1, 3, 640, 416)\n",
      "Results saved to \u001b[1mruns/detect/predict2\u001b[0m\n",
      "\n"
     ]
    },
    {
     "name": "stdout",
     "output_type": "stream",
     "text": [
      "phytophthora-infestans-late-blight-or-potato-blight-on-the-haulm-of-E29H6G_jpg.rf.d53ff19435acfabd2725e0ef4fa84fb1.jpg\n",
      "red-cherry-tree-leaf-isolated-crisp-white-background-35742030_jpg.rf.aa2444a9b4678deb3bd6aca40214ee01.jpg\n"
     ]
    },
    {
     "name": "stderr",
     "output_type": "stream",
     "text": [
      "image 1/1 /Users/pranav/AIML/CV/MyProjects/Plant Village Object Detection/Yolo/Plant_Village_dataset/test/images/red-cherry-tree-leaf-isolated-crisp-white-background-35742030_jpg.rf.aa2444a9b4678deb3bd6aca40214ee01.jpg: 544x640 1 Apple leaf, 1 Cherry leaf, 129.6ms\n",
      "Speed: 2.3ms preprocess, 129.6ms inference, 0.4ms postprocess per image at shape (1, 3, 544, 640)\n",
      "Results saved to \u001b[1mruns/detect/predict2\u001b[0m\n",
      "\n",
      "image 1/1 /Users/pranav/AIML/CV/MyProjects/Plant Village Object Detection/Yolo/Plant_Village_dataset/test/images/052609-20Hartman-20Crabapple-20scab-20single-20leaf_JPG_jpg.rf.a9fb2e32472a221a289c3326933f9762.jpg: 480x640 1 Apple Scab Leaf, 108.4ms\n",
      "Speed: 1.4ms preprocess, 108.4ms inference, 0.4ms postprocess per image at shape (1, 3, 480, 640)\n",
      "Results saved to \u001b[1mruns/detect/predict2\u001b[0m\n",
      "\n"
     ]
    },
    {
     "name": "stdout",
     "output_type": "stream",
     "text": [
      "052609-20Hartman-20Crabapple-20scab-20single-20leaf_JPG_jpg.rf.a9fb2e32472a221a289c3326933f9762.jpg\n",
      "636368370164094909-late-blight-15-_jpg.rf.3f5c8b56ad853369f0727d9cc4373a7a.jpg\n"
     ]
    },
    {
     "name": "stderr",
     "output_type": "stream",
     "text": [
      "image 1/1 /Users/pranav/AIML/CV/MyProjects/Plant Village Object Detection/Yolo/Plant_Village_dataset/test/images/636368370164094909-late-blight-15-_jpg.rf.3f5c8b56ad853369f0727d9cc4373a7a.jpg: 480x640 1 Tomato leaf mosaic virus, 113.6ms\n",
      "Speed: 1.6ms preprocess, 113.6ms inference, 0.3ms postprocess per image at shape (1, 3, 480, 640)\n",
      "Results saved to \u001b[1mruns/detect/predict2\u001b[0m\n",
      "\n",
      "image 1/1 /Users/pranav/AIML/CV/MyProjects/Plant Village Object Detection/Yolo/Plant_Village_dataset/test/images/D-29AlfMov_jpg.rf.a438d1930dd085d593708fe022debcc5.jpg: 512x640 2 Tomato leaf bacterial spots, 1 Tomato mold leaf, 126.1ms\n",
      "Speed: 1.2ms preprocess, 126.1ms inference, 0.6ms postprocess per image at shape (1, 3, 512, 640)\n",
      "Results saved to \u001b[1mruns/detect/predict2\u001b[0m\n",
      "\n"
     ]
    },
    {
     "name": "stdout",
     "output_type": "stream",
     "text": [
      "D-29AlfMov_jpg.rf.a438d1930dd085d593708fe022debcc5.jpg\n",
      "Tomato-Mosaic-1wdr2jx-300x225_jpg.rf.e09a37f2ed27655405e5e469896b7cdc.jpg\n"
     ]
    },
    {
     "name": "stderr",
     "output_type": "stream",
     "text": [
      "image 1/1 /Users/pranav/AIML/CV/MyProjects/Plant Village Object Detection/Yolo/Plant_Village_dataset/test/images/Tomato-Mosaic-1wdr2jx-300x225_jpg.rf.e09a37f2ed27655405e5e469896b7cdc.jpg: 352x640 1 Tomato mold leaf, 88.2ms\n",
      "Speed: 0.8ms preprocess, 88.2ms inference, 0.3ms postprocess per image at shape (1, 3, 352, 640)\n",
      "Results saved to \u001b[1mruns/detect/predict2\u001b[0m\n",
      "\n",
      "image 1/1 /Users/pranav/AIML/CV/MyProjects/Plant Village Object Detection/Yolo/Plant_Village_dataset/test/images/e52bbb9a08ede2948ba0c006f02fe7b053ad7831d1df6_1260x1260_jpg.rf.5753876bb5a1c304ae9fbc6bdd6cb053.jpg: 640x544 3 Cherry leafs, 126.3ms\n",
      "Speed: 2.1ms preprocess, 126.3ms inference, 0.6ms postprocess per image at shape (1, 3, 640, 544)\n",
      "Results saved to \u001b[1mruns/detect/predict2\u001b[0m\n",
      "\n"
     ]
    },
    {
     "name": "stdout",
     "output_type": "stream",
     "text": [
      "e52bbb9a08ede2948ba0c006f02fe7b053ad7831d1df6_1260x1260_jpg.rf.5753876bb5a1c304ae9fbc6bdd6cb053.jpg\n",
      "stock-photo-soy-leaf-isolated-on-white-background-120961801_jpg.rf.d812a79764b4091943b232d8e0461a0f.jpg\n"
     ]
    },
    {
     "name": "stderr",
     "output_type": "stream",
     "text": [
      "image 1/1 /Users/pranav/AIML/CV/MyProjects/Plant Village Object Detection/Yolo/Plant_Village_dataset/test/images/stock-photo-soy-leaf-isolated-on-white-background-120961801_jpg.rf.d812a79764b4091943b232d8e0461a0f.jpg: 608x640 3 Soyabean leafs, 137.2ms\n",
      "Speed: 2.2ms preprocess, 137.2ms inference, 0.7ms postprocess per image at shape (1, 3, 608, 640)\n",
      "Results saved to \u001b[1mruns/detect/predict2\u001b[0m\n",
      "\n",
      "image 1/1 /Users/pranav/AIML/CV/MyProjects/Plant Village Object Detection/Yolo/Plant_Village_dataset/test/images/Tomato59_JPG_jpg.rf.83fd4beab551406e6851c37c3823e614.jpg: 512x640 1 Tomato leaf bacterial spot, 128.1ms\n",
      "Speed: 2.1ms preprocess, 128.1ms inference, 0.4ms postprocess per image at shape (1, 3, 512, 640)\n",
      "Results saved to \u001b[1mruns/detect/predict2\u001b[0m\n",
      "\n"
     ]
    },
    {
     "name": "stdout",
     "output_type": "stream",
     "text": [
      "Tomato59_JPG_jpg.rf.83fd4beab551406e6851c37c3823e614.jpg\n",
      "20180511_091252-1gy5xf5-e1526048000596_jpg.rf.a6d481eb9f19d54142bbecb10fa29585.jpg\n"
     ]
    },
    {
     "name": "stderr",
     "output_type": "stream",
     "text": [
      "image 1/1 /Users/pranav/AIML/CV/MyProjects/Plant Village Object Detection/Yolo/Plant_Village_dataset/test/images/20180511_091252-1gy5xf5-e1526048000596_jpg.rf.a6d481eb9f19d54142bbecb10fa29585.jpg: 640x384 1 Apple leaf, 104.5ms\n",
      "Speed: 1.8ms preprocess, 104.5ms inference, 0.4ms postprocess per image at shape (1, 3, 640, 384)\n",
      "Results saved to \u001b[1mruns/detect/predict2\u001b[0m\n",
      "\n",
      "image 1/1 /Users/pranav/AIML/CV/MyProjects/Plant Village Object Detection/Yolo/Plant_Village_dataset/test/images/0796_47southrust_jpg.rf.a69991f882b401e6dd0b6232af159700.jpg: 384x640 1 Corn leaf blight, 1 Corn rust leaf, 94.5ms\n",
      "Speed: 0.9ms preprocess, 94.5ms inference, 0.8ms postprocess per image at shape (1, 3, 384, 640)\n",
      "Results saved to \u001b[1mruns/detect/predict2\u001b[0m\n",
      "\n"
     ]
    },
    {
     "name": "stdout",
     "output_type": "stream",
     "text": [
      "0796_47southrust_jpg.rf.a69991f882b401e6dd0b6232af159700.jpg\n",
      "late_blight_tomato_leaf_spore1x1200_jpg.rf.f5b22acf51e3b55e170c35f7f86c6f33.jpg\n"
     ]
    },
    {
     "name": "stderr",
     "output_type": "stream",
     "text": [
      "image 1/1 /Users/pranav/AIML/CV/MyProjects/Plant Village Object Detection/Yolo/Plant_Village_dataset/test/images/late_blight_tomato_leaf_spore1x1200_jpg.rf.f5b22acf51e3b55e170c35f7f86c6f33.jpg: 512x640 3 Tomato leaf mosaic viruss, 130.0ms\n",
      "Speed: 1.8ms preprocess, 130.0ms inference, 0.5ms postprocess per image at shape (1, 3, 512, 640)\n",
      "Results saved to \u001b[1mruns/detect/predict2\u001b[0m\n",
      "\n",
      "image 1/1 /Users/pranav/AIML/CV/MyProjects/Plant Village Object Detection/Yolo/Plant_Village_dataset/test/images/12-19striprustJIM_jpg.rf.ea6d0c5fcd86fa39841fb6659a34f978.jpg: 640x256 1 Corn rust leaf, 74.3ms\n",
      "Speed: 0.7ms preprocess, 74.3ms inference, 0.4ms postprocess per image at shape (1, 3, 640, 256)\n",
      "Results saved to \u001b[1mruns/detect/predict2\u001b[0m\n",
      "\n"
     ]
    },
    {
     "name": "stdout",
     "output_type": "stream",
     "text": [
      "12-19striprustJIM_jpg.rf.ea6d0c5fcd86fa39841fb6659a34f978.jpg\n",
      "stock-photo-peach-tree-leaf-isolated-over-white-background-back-side-64472731_jpg.rf.6bc69b9638995800fd5db37f79064269.jpg\n"
     ]
    },
    {
     "name": "stderr",
     "output_type": "stream",
     "text": [
      "image 1/1 /Users/pranav/AIML/CV/MyProjects/Plant Village Object Detection/Yolo/Plant_Village_dataset/test/images/stock-photo-peach-tree-leaf-isolated-over-white-background-back-side-64472731_jpg.rf.6bc69b9638995800fd5db37f79064269.jpg: 640x608 1 Peach leaf, 152.6ms\n",
      "Speed: 2.4ms preprocess, 152.6ms inference, 0.5ms postprocess per image at shape (1, 3, 640, 608)\n",
      "Results saved to \u001b[1mruns/detect/predict2\u001b[0m\n",
      "\n",
      "image 1/1 /Users/pranav/AIML/CV/MyProjects/Plant Village Object Detection/Yolo/Plant_Village_dataset/test/images/d7b79dbc0bca0eb3e63fbe5dfb256ccd53d90a4eb1413_1260x1260_jpg.rf.15ef4dcff10d079c9883c8893a025cce.jpg: 640x544 (no detections), 117.3ms\n",
      "Speed: 1.9ms preprocess, 117.3ms inference, 0.3ms postprocess per image at shape (1, 3, 640, 544)\n",
      "Results saved to \u001b[1mruns/detect/predict2\u001b[0m\n",
      "\n"
     ]
    },
    {
     "name": "stdout",
     "output_type": "stream",
     "text": [
      "d7b79dbc0bca0eb3e63fbe5dfb256ccd53d90a4eb1413_1260x1260_jpg.rf.15ef4dcff10d079c9883c8893a025cce.jpg\n",
      "10148582-green-leaf-of-pepper_jpg.rf.d0dbfb72bb36773609f8ad6bf69b651b.jpg\n"
     ]
    },
    {
     "name": "stderr",
     "output_type": "stream",
     "text": [
      "image 1/1 /Users/pranav/AIML/CV/MyProjects/Plant Village Object Detection/Yolo/Plant_Village_dataset/test/images/10148582-green-leaf-of-pepper_jpg.rf.d0dbfb72bb36773609f8ad6bf69b651b.jpg: 480x640 1 Bell_pepper leaf spot, 110.0ms\n",
      "Speed: 1.7ms preprocess, 110.0ms inference, 0.7ms postprocess per image at shape (1, 3, 480, 640)\n",
      "Results saved to \u001b[1mruns/detect/predict2\u001b[0m\n",
      "\n",
      "image 1/1 /Users/pranav/AIML/CV/MyProjects/Plant Village Object Detection/Yolo/Plant_Village_dataset/test/images/why-are-my-pepper-plants-yellow-yellow-pepper-plants-yellow-leaves-green-veins-pepper-plants-yellow-veins_jpg.rf.1b69a7bf01e0ed9eae5fa02c88bed399.jpg: 640x384 5 Bell_pepper leaf spots, 95.8ms\n",
      "Speed: 1.2ms preprocess, 95.8ms inference, 0.5ms postprocess per image at shape (1, 3, 640, 384)\n",
      "Results saved to \u001b[1mruns/detect/predict2\u001b[0m\n",
      "\n"
     ]
    },
    {
     "name": "stdout",
     "output_type": "stream",
     "text": [
      "why-are-my-pepper-plants-yellow-yellow-pepper-plants-yellow-leaves-green-veins-pepper-plants-yellow-veins_jpg.rf.1b69a7bf01e0ed9eae5fa02c88bed399.jpg\n",
      "pepper_bacterial-spot_03_zoom_jpg.rf.2d61ffff40e86065381b86504d75efd8.jpg\n"
     ]
    },
    {
     "name": "stderr",
     "output_type": "stream",
     "text": [
      "image 1/1 /Users/pranav/AIML/CV/MyProjects/Plant Village Object Detection/Yolo/Plant_Village_dataset/test/images/pepper_bacterial-spot_03_zoom_jpg.rf.2d61ffff40e86065381b86504d75efd8.jpg: 448x640 1 Bell_pepper leaf, 2 Tomato leaf late blights, 119.7ms\n",
      "Speed: 1.3ms preprocess, 119.7ms inference, 0.4ms postprocess per image at shape (1, 3, 448, 640)\n",
      "Results saved to \u001b[1mruns/detect/predict2\u001b[0m\n",
      "\n",
      "image 1/1 /Users/pranav/AIML/CV/MyProjects/Plant Village Object Detection/Yolo/Plant_Village_dataset/test/images/latest-cb-20100621160325_jpg.rf.8937776e8b12ba49d9d8165c06a05bbe.jpg: 640x512 1 grape leaf black rot, 123.4ms\n",
      "Speed: 1.8ms preprocess, 123.4ms inference, 0.5ms postprocess per image at shape (1, 3, 640, 512)\n",
      "Results saved to \u001b[1mruns/detect/predict2\u001b[0m\n",
      "\n"
     ]
    },
    {
     "name": "stdout",
     "output_type": "stream",
     "text": [
      "latest-cb-20100621160325_jpg.rf.8937776e8b12ba49d9d8165c06a05bbe.jpg\n",
      "rose_tree_220430_jpg.rf.b758c918dd5a3440ff8a3059e46e56cf.jpg\n"
     ]
    },
    {
     "name": "stderr",
     "output_type": "stream",
     "text": [
      "image 1/1 /Users/pranav/AIML/CV/MyProjects/Plant Village Object Detection/Yolo/Plant_Village_dataset/test/images/rose_tree_220430_jpg.rf.b758c918dd5a3440ff8a3059e46e56cf.jpg: 640x640 6 Peach leafs, 144.0ms\n",
      "Speed: 1.7ms preprocess, 144.0ms inference, 0.6ms postprocess per image at shape (1, 3, 640, 640)\n",
      "Results saved to \u001b[1mruns/detect/predict2\u001b[0m\n",
      "\n",
      "image 1/1 /Users/pranav/AIML/CV/MyProjects/Plant Village Object Detection/Yolo/Plant_Village_dataset/test/images/07c_jpg.rf.54632cdfaa5d62e8e8245b1de760f613.jpg: 416x640 1 Corn Gray leaf spot, 98.2ms\n",
      "Speed: 1.6ms preprocess, 98.2ms inference, 0.6ms postprocess per image at shape (1, 3, 416, 640)\n",
      "Results saved to \u001b[1mruns/detect/predict2\u001b[0m\n",
      "\n"
     ]
    },
    {
     "name": "stdout",
     "output_type": "stream",
     "text": [
      "07c_jpg.rf.54632cdfaa5d62e8e8245b1de760f613.jpg\n",
      "piano-20gully-20spray-20seed-20damage-2006-20-289-29_JPG_jpg.rf.88e8911876952a9d4b1a20f2fdecf9f3.jpg\n"
     ]
    },
    {
     "name": "stderr",
     "output_type": "stream",
     "text": [
      "image 1/1 /Users/pranav/AIML/CV/MyProjects/Plant Village Object Detection/Yolo/Plant_Village_dataset/test/images/piano-20gully-20spray-20seed-20damage-2006-20-289-29_JPG_jpg.rf.88e8911876952a9d4b1a20f2fdecf9f3.jpg: 480x640 1 grape leaf black rot, 1 grape leaf, 115.5ms\n",
      "Speed: 1.6ms preprocess, 115.5ms inference, 0.5ms postprocess per image at shape (1, 3, 480, 640)\n",
      "Results saved to \u001b[1mruns/detect/predict2\u001b[0m\n",
      "\n",
      "image 1/1 /Users/pranav/AIML/CV/MyProjects/Plant Village Object Detection/Yolo/Plant_Village_dataset/test/images/leaf-raspberry-isolated-on-a-white-stock-photography-image-10106222-1625198_jpg.rf.7e3ab37521b69489b4b6671d90e973c9.jpg: 640x640 5 Raspberry leafs, 139.2ms\n",
      "Speed: 2.7ms preprocess, 139.2ms inference, 0.6ms postprocess per image at shape (1, 3, 640, 640)\n",
      "Results saved to \u001b[1mruns/detect/predict2\u001b[0m\n",
      "\n"
     ]
    },
    {
     "name": "stdout",
     "output_type": "stream",
     "text": [
      "leaf-raspberry-isolated-on-a-white-stock-photography-image-10106222-1625198_jpg.rf.7e3ab37521b69489b4b6671d90e973c9.jpg\n",
      "4825902504_5fa80b65b8_z_jpg.rf.650ac959e5d8eb3600906b9d24e0e900.jpg\n"
     ]
    },
    {
     "name": "stderr",
     "output_type": "stream",
     "text": [
      "image 1/1 /Users/pranav/AIML/CV/MyProjects/Plant Village Object Detection/Yolo/Plant_Village_dataset/test/images/4825902504_5fa80b65b8_z_jpg.rf.650ac959e5d8eb3600906b9d24e0e900.jpg: 448x640 1 Tomato leaf bacterial spot, 108.8ms\n",
      "Speed: 0.7ms preprocess, 108.8ms inference, 0.5ms postprocess per image at shape (1, 3, 448, 640)\n",
      "Results saved to \u001b[1mruns/detect/predict2\u001b[0m\n",
      "\n",
      "image 1/1 /Users/pranav/AIML/CV/MyProjects/Plant Village Object Detection/Yolo/Plant_Village_dataset/test/images/9343310-small_jpg.rf.32f51699e9cf9e265318099b96fe1666.jpg: 640x512 1 Apple rust leaf, 129.4ms\n",
      "Speed: 1.1ms preprocess, 129.4ms inference, 0.4ms postprocess per image at shape (1, 3, 640, 512)\n",
      "Results saved to \u001b[1mruns/detect/predict2\u001b[0m\n",
      "\n"
     ]
    },
    {
     "name": "stdout",
     "output_type": "stream",
     "text": [
      "9343310-small_jpg.rf.32f51699e9cf9e265318099b96fe1666.jpg\n",
      "northern-highbush-blueberry-blue-huckleberry-vaccinium-corymbosum-EHNXRR_jpg.rf.4f3397912abcb27a9f399510a043c2ad.jpg\n"
     ]
    },
    {
     "name": "stderr",
     "output_type": "stream",
     "text": [
      "image 1/1 /Users/pranav/AIML/CV/MyProjects/Plant Village Object Detection/Yolo/Plant_Village_dataset/test/images/northern-highbush-blueberry-blue-huckleberry-vaccinium-corymbosum-EHNXRR_jpg.rf.4f3397912abcb27a9f399510a043c2ad.jpg: 640x416 1 Blueberry leaf, 100.8ms\n",
      "Speed: 1.5ms preprocess, 100.8ms inference, 0.4ms postprocess per image at shape (1, 3, 640, 416)\n",
      "Results saved to \u001b[1mruns/detect/predict2\u001b[0m\n",
      "\n",
      "image 1/1 /Users/pranav/AIML/CV/MyProjects/Plant Village Object Detection/Yolo/Plant_Village_dataset/test/images/00pe_jpg.rf.a17680fc7cdfa4c78c70f3ef1a81fd79.jpg: 640x480 1 Apple leaf, 120.9ms\n",
      "Speed: 1.6ms preprocess, 120.9ms inference, 0.4ms postprocess per image at shape (1, 3, 640, 480)\n",
      "Results saved to \u001b[1mruns/detect/predict2\u001b[0m\n",
      "\n"
     ]
    },
    {
     "name": "stdout",
     "output_type": "stream",
     "text": [
      "00pe_jpg.rf.a17680fc7cdfa4c78c70f3ef1a81fd79.jpg\n",
      "039b47d574bc4bb8a14259a1cd96a741_jpg.rf.5b1a57c3022b2e400c3b550edf84011b.jpg\n"
     ]
    },
    {
     "name": "stderr",
     "output_type": "stream",
     "text": [
      "image 1/1 /Users/pranav/AIML/CV/MyProjects/Plant Village Object Detection/Yolo/Plant_Village_dataset/test/images/039b47d574bc4bb8a14259a1cd96a741_jpg.rf.5b1a57c3022b2e400c3b550edf84011b.jpg: 512x640 1 Tomato Early blight leaf, 125.7ms\n",
      "Speed: 1.9ms preprocess, 125.7ms inference, 0.5ms postprocess per image at shape (1, 3, 512, 640)\n",
      "Results saved to \u001b[1mruns/detect/predict2\u001b[0m\n",
      "\n",
      "image 1/1 /Users/pranav/AIML/CV/MyProjects/Plant Village Object Detection/Yolo/Plant_Village_dataset/test/images/P1200701-Vaccinium-ovalifolium-Oval-leaf-Blueberry-leaf-margin-Heather-Meadows-cr_jpg.rf.789e625487613a9c0286e77ef2a025db.jpg: 640x480 1 Bell_pepper leaf, 111.9ms\n",
      "Speed: 2.2ms preprocess, 111.9ms inference, 0.7ms postprocess per image at shape (1, 3, 640, 480)\n",
      "Results saved to \u001b[1mruns/detect/predict2\u001b[0m\n",
      "\n"
     ]
    },
    {
     "name": "stdout",
     "output_type": "stream",
     "text": [
      "P1200701-Vaccinium-ovalifolium-Oval-leaf-Blueberry-leaf-margin-Heather-Meadows-cr_jpg.rf.789e625487613a9c0286e77ef2a025db.jpg\n",
      "wild-strawberry-leaf-top-view-rotated-KTBXCY_jpg.rf.176bef21d95b538b84968dc3cc027ce4.jpg\n"
     ]
    },
    {
     "name": "stderr",
     "output_type": "stream",
     "text": [
      "image 1/1 /Users/pranav/AIML/CV/MyProjects/Plant Village Object Detection/Yolo/Plant_Village_dataset/test/images/wild-strawberry-leaf-top-view-rotated-KTBXCY_jpg.rf.176bef21d95b538b84968dc3cc027ce4.jpg: 576x640 3 Strawberry leafs, 125.4ms\n",
      "Speed: 2.8ms preprocess, 125.4ms inference, 0.4ms postprocess per image at shape (1, 3, 576, 640)\n",
      "Results saved to \u001b[1mruns/detect/predict2\u001b[0m\n",
      "\n",
      "image 1/1 /Users/pranav/AIML/CV/MyProjects/Plant Village Object Detection/Yolo/Plant_Village_dataset/test/images/2013-08-20-06_jpg.rf.fc53ab92ffcc194e1e2328859013a54a.jpg: 480x640 1 Tomato leaf bacterial spot, 1 Tomato leaf mosaic virus, 110.3ms\n",
      "Speed: 2.3ms preprocess, 110.3ms inference, 0.4ms postprocess per image at shape (1, 3, 480, 640)\n",
      "Results saved to \u001b[1mruns/detect/predict2\u001b[0m\n",
      "\n"
     ]
    },
    {
     "name": "stdout",
     "output_type": "stream",
     "text": [
      "2013-08-20-06_jpg.rf.fc53ab92ffcc194e1e2328859013a54a.jpg\n",
      "0796_20graylssymt_jpg.rf.a0a2e93e436491103d24edefcff936d1.jpg\n"
     ]
    },
    {
     "name": "stderr",
     "output_type": "stream",
     "text": [
      "image 1/1 /Users/pranav/AIML/CV/MyProjects/Plant Village Object Detection/Yolo/Plant_Village_dataset/test/images/0796_20graylssymt_jpg.rf.a0a2e93e436491103d24edefcff936d1.jpg: 544x640 1 Corn Gray leaf spot, 1 Corn leaf blight, 128.3ms\n",
      "Speed: 1.5ms preprocess, 128.3ms inference, 0.5ms postprocess per image at shape (1, 3, 544, 640)\n",
      "Results saved to \u001b[1mruns/detect/predict2\u001b[0m\n",
      "\n",
      "image 1/1 /Users/pranav/AIML/CV/MyProjects/Plant Village Object Detection/Yolo/Plant_Village_dataset/test/images/90e2c0_jpg.rf.587f6224a18e90b62f6cd591a67767e1.jpg: 640x480 1 Tomato leaf bacterial spot, 1 Tomato leaf mosaic virus, 118.0ms\n",
      "Speed: 1.5ms preprocess, 118.0ms inference, 0.9ms postprocess per image at shape (1, 3, 640, 480)\n",
      "Results saved to \u001b[1mruns/detect/predict2\u001b[0m\n",
      "\n"
     ]
    },
    {
     "name": "stdout",
     "output_type": "stream",
     "text": [
      "90e2c0_jpg.rf.587f6224a18e90b62f6cd591a67767e1.jpg\n",
      "02c_jpg.rf.f0b511bcce4c1aecaaabaca0753f3069.jpg\n"
     ]
    },
    {
     "name": "stderr",
     "output_type": "stream",
     "text": [
      "image 1/1 /Users/pranav/AIML/CV/MyProjects/Plant Village Object Detection/Yolo/Plant_Village_dataset/test/images/02c_jpg.rf.f0b511bcce4c1aecaaabaca0753f3069.jpg: 384x640 1 Corn leaf blight, 95.6ms\n",
      "Speed: 1.1ms preprocess, 95.6ms inference, 0.4ms postprocess per image at shape (1, 3, 384, 640)\n",
      "Results saved to \u001b[1mruns/detect/predict2\u001b[0m\n",
      "\n",
      "image 1/1 /Users/pranav/AIML/CV/MyProjects/Plant Village Object Detection/Yolo/Plant_Village_dataset/test/images/prunsero_leaf2_jpg.rf.07ad3e42757e4317a313dfbfdd10cf96.jpg: 640x448 1 Apple leaf, 109.2ms\n",
      "Speed: 2.1ms preprocess, 109.2ms inference, 0.3ms postprocess per image at shape (1, 3, 640, 448)\n",
      "Results saved to \u001b[1mruns/detect/predict2\u001b[0m\n",
      "\n"
     ]
    },
    {
     "name": "stdout",
     "output_type": "stream",
     "text": [
      "prunsero_leaf2_jpg.rf.07ad3e42757e4317a313dfbfdd10cf96.jpg\n",
      "tomato_bacterial-speck_01_zoom_jpg.rf.c94d2edaae27c6d1aa2e353e5b25b136.jpg\n"
     ]
    },
    {
     "name": "stderr",
     "output_type": "stream",
     "text": [
      "image 1/1 /Users/pranav/AIML/CV/MyProjects/Plant Village Object Detection/Yolo/Plant_Village_dataset/test/images/tomato_bacterial-speck_01_zoom_jpg.rf.c94d2edaae27c6d1aa2e353e5b25b136.jpg: 480x640 1 Tomato leaf late blight, 120.4ms\n",
      "Speed: 1.5ms preprocess, 120.4ms inference, 0.5ms postprocess per image at shape (1, 3, 480, 640)\n",
      "Results saved to \u001b[1mruns/detect/predict2\u001b[0m\n",
      "\n",
      "image 1/1 /Users/pranav/AIML/CV/MyProjects/Plant Village Object Detection/Yolo/Plant_Village_dataset/test/images/surface_jpg.rf.3980daa582c384ed74b96cef4fd4aafa.jpg: 512x640 1 Squash Powdery mildew leaf, 129.3ms\n",
      "Speed: 1.4ms preprocess, 129.3ms inference, 0.4ms postprocess per image at shape (1, 3, 512, 640)\n",
      "Results saved to \u001b[1mruns/detect/predict2\u001b[0m\n",
      "\n"
     ]
    },
    {
     "name": "stdout",
     "output_type": "stream",
     "text": [
      "surface_jpg.rf.3980daa582c384ed74b96cef4fd4aafa.jpg\n",
      "160314_web_jpg.rf.2ba9ce9e8c8cb483dca3d12dc3588dfe.jpg\n"
     ]
    },
    {
     "name": "stderr",
     "output_type": "stream",
     "text": [
      "image 1/1 /Users/pranav/AIML/CV/MyProjects/Plant Village Object Detection/Yolo/Plant_Village_dataset/test/images/160314_web_jpg.rf.2ba9ce9e8c8cb483dca3d12dc3588dfe.jpg: 640x480 1 Corn leaf blight, 115.9ms\n",
      "Speed: 1.3ms preprocess, 115.9ms inference, 0.9ms postprocess per image at shape (1, 3, 640, 480)\n",
      "Results saved to \u001b[1mruns/detect/predict2\u001b[0m\n",
      "\n",
      "image 1/1 /Users/pranav/AIML/CV/MyProjects/Plant Village Object Detection/Yolo/Plant_Village_dataset/test/images/strawberry-leaf-22360816_jpg.rf.eb63ea69b0947f08a9247081d8610d03.jpg: 608x640 3 Strawberry leafs, 136.8ms\n",
      "Speed: 2.3ms preprocess, 136.8ms inference, 0.7ms postprocess per image at shape (1, 3, 608, 640)\n",
      "Results saved to \u001b[1mruns/detect/predict2\u001b[0m\n",
      "\n"
     ]
    },
    {
     "name": "stdout",
     "output_type": "stream",
     "text": [
      "strawberry-leaf-22360816_jpg.rf.eb63ea69b0947f08a9247081d8610d03.jpg\n",
      "strawberry-leaves-stock-picture-948708_jpg.rf.a750d052c778abc6739c90da8c4db806.jpg\n"
     ]
    },
    {
     "name": "stderr",
     "output_type": "stream",
     "text": [
      "image 1/1 /Users/pranav/AIML/CV/MyProjects/Plant Village Object Detection/Yolo/Plant_Village_dataset/test/images/strawberry-leaves-stock-picture-948708_jpg.rf.a750d052c778abc6739c90da8c4db806.jpg: 512x640 3 Strawberry leafs, 130.0ms\n",
      "Speed: 2.7ms preprocess, 130.0ms inference, 0.4ms postprocess per image at shape (1, 3, 512, 640)\n",
      "Results saved to \u001b[1mruns/detect/predict2\u001b[0m\n",
      "\n",
      "image 1/1 /Users/pranav/AIML/CV/MyProjects/Plant Village Object Detection/Yolo/Plant_Village_dataset/test/images/IMG_5808_jpg.rf.7ed17f6b1f5fbf1d3cf14d709993ccca.jpg: 480x640 1 Tomato leaf mosaic virus, 1 Tomato mold leaf, 109.1ms\n",
      "Speed: 2.4ms preprocess, 109.1ms inference, 0.8ms postprocess per image at shape (1, 3, 480, 640)\n",
      "Results saved to \u001b[1mruns/detect/predict2\u001b[0m\n",
      "\n"
     ]
    },
    {
     "name": "stdout",
     "output_type": "stream",
     "text": [
      "IMG_5808_jpg.rf.7ed17f6b1f5fbf1d3cf14d709993ccca.jpg\n",
      "0_jpg.rf.94dc584ac451075da43cb853434ad369.jpg\n"
     ]
    },
    {
     "name": "stderr",
     "output_type": "stream",
     "text": [
      "image 1/1 /Users/pranav/AIML/CV/MyProjects/Plant Village Object Detection/Yolo/Plant_Village_dataset/test/images/0_jpg.rf.94dc584ac451075da43cb853434ad369.jpg: 480x640 3 Tomato Septoria leaf spots, 1 Tomato leaf late blight, 121.4ms\n",
      "Speed: 1.6ms preprocess, 121.4ms inference, 0.9ms postprocess per image at shape (1, 3, 480, 640)\n",
      "Results saved to \u001b[1mruns/detect/predict2\u001b[0m\n",
      "\n",
      "image 1/1 /Users/pranav/AIML/CV/MyProjects/Plant Village Object Detection/Yolo/Plant_Village_dataset/test/images/20130519cedarapplerust_jpg.rf.bfef90b47bccf4d40c90a0d514c24456.jpg: 480x640 1 Apple rust leaf, 114.6ms\n",
      "Speed: 1.5ms preprocess, 114.6ms inference, 0.4ms postprocess per image at shape (1, 3, 480, 640)\n",
      "Results saved to \u001b[1mruns/detect/predict2\u001b[0m\n",
      "\n"
     ]
    },
    {
     "name": "stdout",
     "output_type": "stream",
     "text": [
      "20130519cedarapplerust_jpg.rf.bfef90b47bccf4d40c90a0d514c24456.jpg\n",
      "03gb_jpg.rf.4e347da333ba6807058874f84b8cc336.jpg\n"
     ]
    },
    {
     "name": "stderr",
     "output_type": "stream",
     "text": [
      "image 1/1 /Users/pranav/AIML/CV/MyProjects/Plant Village Object Detection/Yolo/Plant_Village_dataset/test/images/03gb_jpg.rf.4e347da333ba6807058874f84b8cc336.jpg: 416x640 1 grape leaf, 99.3ms\n",
      "Speed: 1.1ms preprocess, 99.3ms inference, 0.4ms postprocess per image at shape (1, 3, 416, 640)\n",
      "Results saved to \u001b[1mruns/detect/predict2\u001b[0m\n",
      "\n",
      "image 1/1 /Users/pranav/AIML/CV/MyProjects/Plant Village Object Detection/Yolo/Plant_Village_dataset/test/images/IMG_1246_jpg.rf.38cf94b2d431cc987b7e4e5cca6284e3.jpg: 480x640 1 Tomato leaf bacterial spot, 111.7ms\n",
      "Speed: 1.6ms preprocess, 111.7ms inference, 0.3ms postprocess per image at shape (1, 3, 480, 640)\n",
      "Results saved to \u001b[1mruns/detect/predict2\u001b[0m\n",
      "\n"
     ]
    },
    {
     "name": "stdout",
     "output_type": "stream",
     "text": [
      "IMG_1246_jpg.rf.38cf94b2d431cc987b7e4e5cca6284e3.jpg\n",
      "peach-leaf-16690421_jpg.rf.2d7a96367e752bfc5aaf77a6ec2ec5bc.jpg\n"
     ]
    },
    {
     "name": "stderr",
     "output_type": "stream",
     "text": [
      "image 1/1 /Users/pranav/AIML/CV/MyProjects/Plant Village Object Detection/Yolo/Plant_Village_dataset/test/images/peach-leaf-16690421_jpg.rf.2d7a96367e752bfc5aaf77a6ec2ec5bc.jpg: 480x640 1 Peach leaf, 110.8ms\n",
      "Speed: 1.8ms preprocess, 110.8ms inference, 0.4ms postprocess per image at shape (1, 3, 480, 640)\n",
      "Results saved to \u001b[1mruns/detect/predict2\u001b[0m\n",
      "\n",
      "image 1/1 /Users/pranav/AIML/CV/MyProjects/Plant Village Object Detection/Yolo/Plant_Village_dataset/test/images/summersquashpowderymildew_jpg.rf.b570282be06fe060a5afe59f3c5a3619.jpg: 512x640 1 Squash Powdery mildew leaf, 134.8ms\n",
      "Speed: 1.2ms preprocess, 134.8ms inference, 0.4ms postprocess per image at shape (1, 3, 512, 640)\n",
      "Results saved to \u001b[1mruns/detect/predict2\u001b[0m\n",
      "\n"
     ]
    },
    {
     "name": "stdout",
     "output_type": "stream",
     "text": [
      "summersquashpowderymildew_jpg.rf.b570282be06fe060a5afe59f3c5a3619.jpg\n",
      "depositphotos_1323264-Raspberry-leaf-on-white_jpg.rf.d535fefaeb3ad52467fd5131d5089674.jpg\n"
     ]
    },
    {
     "name": "stderr",
     "output_type": "stream",
     "text": [
      "image 1/1 /Users/pranav/AIML/CV/MyProjects/Plant Village Object Detection/Yolo/Plant_Village_dataset/test/images/depositphotos_1323264-Raspberry-leaf-on-white_jpg.rf.d535fefaeb3ad52467fd5131d5089674.jpg: 512x640 1 Raspberry leaf, 127.6ms\n",
      "Speed: 1.7ms preprocess, 127.6ms inference, 0.5ms postprocess per image at shape (1, 3, 512, 640)\n",
      "Results saved to \u001b[1mruns/detect/predict2\u001b[0m\n",
      "\n",
      "image 1/1 /Users/pranav/AIML/CV/MyProjects/Plant Village Object Detection/Yolo/Plant_Village_dataset/test/images/blueberrysilverleaf16-1372b_jpg.rf.5ecc98541044bbe116165b76e9008ebc.jpg: 512x640 2 Blueberry leafs, 128.7ms\n",
      "Speed: 1.8ms preprocess, 128.7ms inference, 0.4ms postprocess per image at shape (1, 3, 512, 640)\n",
      "Results saved to \u001b[1mruns/detect/predict2\u001b[0m\n",
      "\n"
     ]
    },
    {
     "name": "stdout",
     "output_type": "stream",
     "text": [
      "blueberrysilverleaf16-1372b_jpg.rf.5ecc98541044bbe116165b76e9008ebc.jpg\n",
      "IMG_1629_JPG-1507122477_jpg.rf.31e11bf715c4fcd9da4c58ef9c2e037a.jpg\n"
     ]
    },
    {
     "name": "stderr",
     "output_type": "stream",
     "text": [
      "image 1/1 /Users/pranav/AIML/CV/MyProjects/Plant Village Object Detection/Yolo/Plant_Village_dataset/test/images/IMG_1629_JPG-1507122477_jpg.rf.31e11bf715c4fcd9da4c58ef9c2e037a.jpg: 640x480 1 Bell_pepper leaf spot, 1 Bell_pepper leaf, 123.1ms\n",
      "Speed: 1.5ms preprocess, 123.1ms inference, 0.4ms postprocess per image at shape (1, 3, 640, 480)\n",
      "Results saved to \u001b[1mruns/detect/predict2\u001b[0m\n",
      "\n",
      "image 1/1 /Users/pranav/AIML/CV/MyProjects/Plant Village Object Detection/Yolo/Plant_Village_dataset/test/images/35589125035_662dd5b258_b_jpg.rf.c409efcfde1a687f37d2381f81021cca.jpg: 640x480 1 grape leaf black rot, 2 grape leafs, 112.8ms\n",
      "Speed: 1.5ms preprocess, 112.8ms inference, 0.5ms postprocess per image at shape (1, 3, 640, 480)\n",
      "Results saved to \u001b[1mruns/detect/predict2\u001b[0m\n",
      "\n"
     ]
    },
    {
     "name": "stdout",
     "output_type": "stream",
     "text": [
      "35589125035_662dd5b258_b_jpg.rf.c409efcfde1a687f37d2381f81021cca.jpg\n",
      "grape-leaf-14309623_jpg.rf.5bb9affc9928849c180a7a86fd172923.jpg\n"
     ]
    },
    {
     "name": "stderr",
     "output_type": "stream",
     "text": [
      "image 1/1 /Users/pranav/AIML/CV/MyProjects/Plant Village Object Detection/Yolo/Plant_Village_dataset/test/images/grape-leaf-14309623_jpg.rf.5bb9affc9928849c180a7a86fd172923.jpg: 608x640 1 grape leaf black rot, 143.5ms\n",
      "Speed: 2.5ms preprocess, 143.5ms inference, 0.4ms postprocess per image at shape (1, 3, 608, 640)\n",
      "Results saved to \u001b[1mruns/detect/predict2\u001b[0m\n",
      "\n",
      "image 1/1 /Users/pranav/AIML/CV/MyProjects/Plant Village Object Detection/Yolo/Plant_Village_dataset/test/images/fwa2013313115151_jpg.rf.20aaa00fc0c8c2a4193844a2e8f02af5.jpg: 480x640 12 Tomato leafs, 116.6ms\n",
      "Speed: 1.1ms preprocess, 116.6ms inference, 0.5ms postprocess per image at shape (1, 3, 480, 640)\n",
      "Results saved to \u001b[1mruns/detect/predict2\u001b[0m\n",
      "\n"
     ]
    },
    {
     "name": "stdout",
     "output_type": "stream",
     "text": [
      "fwa2013313115151_jpg.rf.20aaa00fc0c8c2a4193844a2e8f02af5.jpg\n",
      "2011-011_jpg.rf.f8b9d789ff607b1d075fbe52ceb66fe6.jpg\n"
     ]
    },
    {
     "name": "stderr",
     "output_type": "stream",
     "text": [
      "image 1/1 /Users/pranav/AIML/CV/MyProjects/Plant Village Object Detection/Yolo/Plant_Village_dataset/test/images/2011-011_jpg.rf.f8b9d789ff607b1d075fbe52ceb66fe6.jpg: 480x640 1 Apple rust leaf, 118.3ms\n",
      "Speed: 1.3ms preprocess, 118.3ms inference, 0.5ms postprocess per image at shape (1, 3, 480, 640)\n",
      "Results saved to \u001b[1mruns/detect/predict2\u001b[0m\n",
      "\n",
      "image 1/1 /Users/pranav/AIML/CV/MyProjects/Plant Village Object Detection/Yolo/Plant_Village_dataset/test/images/iron-deficiency-raspberry-leaf-chlorosis-isolated-32457798_jpg.rf.4bfe7511d2b370aa6bb30f4ee19d6e07.jpg: 640x576 3 Raspberry leafs, 128.5ms\n",
      "Speed: 2.0ms preprocess, 128.5ms inference, 0.5ms postprocess per image at shape (1, 3, 640, 576)\n",
      "Results saved to \u001b[1mruns/detect/predict2\u001b[0m\n",
      "\n"
     ]
    },
    {
     "name": "stdout",
     "output_type": "stream",
     "text": [
      "iron-deficiency-raspberry-leaf-chlorosis-isolated-32457798_jpg.rf.4bfe7511d2b370aa6bb30f4ee19d6e07.jpg\n",
      "11-40580_5_jpg.rf.ed4b75ecb0d751344e9c043671d3b71e.jpg\n"
     ]
    },
    {
     "name": "stderr",
     "output_type": "stream",
     "text": [
      "image 1/1 /Users/pranav/AIML/CV/MyProjects/Plant Village Object Detection/Yolo/Plant_Village_dataset/test/images/11-40580_5_jpg.rf.ed4b75ecb0d751344e9c043671d3b71e.jpg: 320x640 17 Tomato leafs, 83.0ms\n",
      "Speed: 1.2ms preprocess, 83.0ms inference, 0.4ms postprocess per image at shape (1, 3, 320, 640)\n",
      "Results saved to \u001b[1mruns/detect/predict2\u001b[0m\n",
      "\n",
      "image 1/1 /Users/pranav/AIML/CV/MyProjects/Plant Village Object Detection/Yolo/Plant_Village_dataset/test/images/636227737977191231-septoria-leaf-spot-VT_jpg.rf.27f9d6591e877f752e797670e7d10d69.jpg: 512x640 2 Tomato Early blight leafs, 4 Tomato Septoria leaf spots, 126.9ms\n",
      "Speed: 1.4ms preprocess, 126.9ms inference, 0.4ms postprocess per image at shape (1, 3, 512, 640)\n",
      "Results saved to \u001b[1mruns/detect/predict2\u001b[0m\n",
      "\n"
     ]
    },
    {
     "name": "stdout",
     "output_type": "stream",
     "text": [
      "636227737977191231-septoria-leaf-spot-VT_jpg.rf.27f9d6591e877f752e797670e7d10d69.jpg\n",
      "photo4_jpg.rf.9e83c0f47a58f41f0da06c6fed9b908e.jpg\n"
     ]
    },
    {
     "name": "stderr",
     "output_type": "stream",
     "text": [
      "image 1/1 /Users/pranav/AIML/CV/MyProjects/Plant Village Object Detection/Yolo/Plant_Village_dataset/test/images/photo4_jpg.rf.9e83c0f47a58f41f0da06c6fed9b908e.jpg: 640x640 1 Squash Powdery mildew leaf, 157.8ms\n",
      "Speed: 2.2ms preprocess, 157.8ms inference, 0.4ms postprocess per image at shape (1, 3, 640, 640)\n",
      "Results saved to \u001b[1mruns/detect/predict2\u001b[0m\n",
      "\n",
      "image 1/1 /Users/pranav/AIML/CV/MyProjects/Plant Village Object Detection/Yolo/Plant_Village_dataset/test/images/Black-20rot-20on-20foliage_jpg.rf.2ed37504e5c0ba8eb8d8cd24dc7ab906.jpg: 480x640 1 grape leaf black rot, 2 grape leafs, 107.3ms\n",
      "Speed: 4.8ms preprocess, 107.3ms inference, 0.6ms postprocess per image at shape (1, 3, 480, 640)\n",
      "Results saved to \u001b[1mruns/detect/predict2\u001b[0m\n",
      "\n"
     ]
    },
    {
     "name": "stdout",
     "output_type": "stream",
     "text": [
      "Black-20rot-20on-20foliage_jpg.rf.2ed37504e5c0ba8eb8d8cd24dc7ab906.jpg\n",
      "ed12ff77ce021883de241830dee55e2e53d2c93231699_1260x1260_jpg.rf.136bf8c36883c05575c0a52c6b179d4a.jpg\n"
     ]
    },
    {
     "name": "stderr",
     "output_type": "stream",
     "text": [
      "image 1/1 /Users/pranav/AIML/CV/MyProjects/Plant Village Object Detection/Yolo/Plant_Village_dataset/test/images/ed12ff77ce021883de241830dee55e2e53d2c93231699_1260x1260_jpg.rf.136bf8c36883c05575c0a52c6b179d4a.jpg: 640x544 1 Apple leaf, 127.1ms\n",
      "Speed: 2.4ms preprocess, 127.1ms inference, 0.4ms postprocess per image at shape (1, 3, 640, 544)\n",
      "Results saved to \u001b[1mruns/detect/predict2\u001b[0m\n",
      "\n",
      "image 1/1 /Users/pranav/AIML/CV/MyProjects/Plant Village Object Detection/Yolo/Plant_Village_dataset/test/images/730-grape-leaf-2560x1600-nature-wallpaper_jpg.rf.b876a53bfb81e1f068fc25127d5891c9.jpg: 416x640 1 grape leaf black rot, 97.1ms\n",
      "Speed: 2.9ms preprocess, 97.1ms inference, 0.4ms postprocess per image at shape (1, 3, 416, 640)\n",
      "Results saved to \u001b[1mruns/detect/predict2\u001b[0m\n",
      "\n"
     ]
    },
    {
     "name": "stdout",
     "output_type": "stream",
     "text": [
      "730-grape-leaf-2560x1600-nature-wallpaper_jpg.rf.b876a53bfb81e1f068fc25127d5891c9.jpg\n",
      "pepper_leaf_jpg.rf.c31e3743852096b2f1cb03eeaf1bfc11.jpg\n"
     ]
    },
    {
     "name": "stderr",
     "output_type": "stream",
     "text": [
      "image 1/1 /Users/pranav/AIML/CV/MyProjects/Plant Village Object Detection/Yolo/Plant_Village_dataset/test/images/pepper_leaf_jpg.rf.c31e3743852096b2f1cb03eeaf1bfc11.jpg: 640x480 1 Bell_pepper leaf spot, 115.3ms\n",
      "Speed: 1.3ms preprocess, 115.3ms inference, 0.8ms postprocess per image at shape (1, 3, 640, 480)\n",
      "Results saved to \u001b[1mruns/detect/predict2\u001b[0m\n",
      "\n",
      "image 1/1 /Users/pranav/AIML/CV/MyProjects/Plant Village Object Detection/Yolo/Plant_Village_dataset/test/images/tmv-tomato-34_jpg.rf.a006a837713241c4760cc4f690427052.jpg: 480x640 1 Tomato leaf bacterial spot, 113.3ms\n",
      "Speed: 2.0ms preprocess, 113.3ms inference, 0.3ms postprocess per image at shape (1, 3, 480, 640)\n",
      "Results saved to \u001b[1mruns/detect/predict2\u001b[0m\n",
      "\n"
     ]
    },
    {
     "name": "stdout",
     "output_type": "stream",
     "text": [
      "tmv-tomato-34_jpg.rf.a006a837713241c4760cc4f690427052.jpg\n",
      "strawberry-leaves-stock-image-948674_jpg.rf.9eea848003d292ab80e940bd03756a9c.jpg\n"
     ]
    },
    {
     "name": "stderr",
     "output_type": "stream",
     "text": [
      "image 1/1 /Users/pranav/AIML/CV/MyProjects/Plant Village Object Detection/Yolo/Plant_Village_dataset/test/images/strawberry-leaves-stock-image-948674_jpg.rf.9eea848003d292ab80e940bd03756a9c.jpg: 512x640 3 Strawberry leafs, 128.6ms\n",
      "Speed: 1.8ms preprocess, 128.6ms inference, 0.9ms postprocess per image at shape (1, 3, 512, 640)\n",
      "Results saved to \u001b[1mruns/detect/predict2\u001b[0m\n",
      "\n",
      "image 1/1 /Users/pranav/AIML/CV/MyProjects/Plant Village Object Detection/Yolo/Plant_Village_dataset/test/images/vaccinium-angustifolium-low-bush-blueberry_0830_124221_jpg.rf.11c5ad41a276205cc7bd104fac34edd4.jpg: 480x640 1 Apple leaf, 1 Peach leaf, 110.4ms\n",
      "Speed: 1.4ms preprocess, 110.4ms inference, 0.5ms postprocess per image at shape (1, 3, 480, 640)\n",
      "Results saved to \u001b[1mruns/detect/predict2\u001b[0m\n",
      "\n"
     ]
    },
    {
     "name": "stdout",
     "output_type": "stream",
     "text": [
      "vaccinium-angustifolium-low-bush-blueberry_0830_124221_jpg.rf.11c5ad41a276205cc7bd104fac34edd4.jpg\n",
      "stock-photo-two-sides-of-blueberry-leaf-isolated-on-white-15582232_jpg.rf.121af77ecfa0d99ed04a412e03a5c2f7.jpg\n"
     ]
    },
    {
     "name": "stderr",
     "output_type": "stream",
     "text": [
      "image 1/1 /Users/pranav/AIML/CV/MyProjects/Plant Village Object Detection/Yolo/Plant_Village_dataset/test/images/stock-photo-two-sides-of-blueberry-leaf-isolated-on-white-15582232_jpg.rf.121af77ecfa0d99ed04a412e03a5c2f7.jpg: 576x640 2 Blueberry leafs, 141.5ms\n",
      "Speed: 2.1ms preprocess, 141.5ms inference, 0.9ms postprocess per image at shape (1, 3, 576, 640)\n",
      "Results saved to \u001b[1mruns/detect/predict2\u001b[0m\n",
      "\n",
      "image 1/1 /Users/pranav/AIML/CV/MyProjects/Plant Village Object Detection/Yolo/Plant_Village_dataset/test/images/fungus-univ-of-minnesoeta_jpg.rf.c41a4b9785a7b692066e3d4a22f5a498.jpg: 480x640 1 Tomato Early blight leaf, 1 Tomato leaf late blight, 3 Tomato mold leafs, 110.6ms\n",
      "Speed: 1.5ms preprocess, 110.6ms inference, 0.5ms postprocess per image at shape (1, 3, 480, 640)\n",
      "Results saved to \u001b[1mruns/detect/predict2\u001b[0m\n",
      "\n"
     ]
    },
    {
     "name": "stdout",
     "output_type": "stream",
     "text": [
      "fungus-univ-of-minnesoeta_jpg.rf.c41a4b9785a7b692066e3d4a22f5a498.jpg\n",
      "prunus-virginiana-le-gmittelhauser_jpg.rf.f053ccd9efd02e28a7201212e0c51e37.jpg\n"
     ]
    },
    {
     "name": "stderr",
     "output_type": "stream",
     "text": [
      "image 1/1 /Users/pranav/AIML/CV/MyProjects/Plant Village Object Detection/Yolo/Plant_Village_dataset/test/images/prunus-virginiana-le-gmittelhauser_jpg.rf.f053ccd9efd02e28a7201212e0c51e37.jpg: 640x512 1 Apple leaf, 1 Cherry leaf, 129.0ms\n",
      "Speed: 1.7ms preprocess, 129.0ms inference, 0.4ms postprocess per image at shape (1, 3, 640, 512)\n",
      "Results saved to \u001b[1mruns/detect/predict2\u001b[0m\n"
     ]
    }
   ],
   "source": [
    "for img in os.listdir('/Users/pranav/AIML/CV/MyProjects/Plant Village Object Detection/Yolo/Plant_Village_dataset/test/images'):\n",
    "  print(img)\n",
    "  model.predict(source=os.path.join('/Users/pranav/AIML/CV/MyProjects/Plant Village Object Detection/Yolo/Plant_Village_dataset/test/images', img),  save=True)\n"
   ]
  },
  {
   "cell_type": "code",
   "execution_count": null,
   "id": "UCWfNXL7leAc",
   "metadata": {
    "id": "UCWfNXL7leAc"
   },
   "outputs": [],
   "source": []
  },
  {
   "cell_type": "code",
   "execution_count": null,
   "id": "MteybxsKleDN",
   "metadata": {
    "id": "MteybxsKleDN"
   },
   "outputs": [],
   "source": []
  },
  {
   "cell_type": "code",
   "execution_count": null,
   "id": "trGb2tNKleGV",
   "metadata": {
    "id": "trGb2tNKleGV"
   },
   "outputs": [],
   "source": []
  }
 ],
 "metadata": {
  "accelerator": "GPU",
  "colab": {
   "gpuType": "T4",
   "provenance": []
  },
  "kernelspec": {
   "display_name": "Python 3 (ipykernel)",
   "language": "python",
   "name": "python3"
  },
  "language_info": {
   "codemirror_mode": {
    "name": "ipython",
    "version": 3
   },
   "file_extension": ".py",
   "mimetype": "text/x-python",
   "name": "python",
   "nbconvert_exporter": "python",
   "pygments_lexer": "ipython3",
   "version": "3.11.4"
  }
 },
 "nbformat": 4,
 "nbformat_minor": 5
}
